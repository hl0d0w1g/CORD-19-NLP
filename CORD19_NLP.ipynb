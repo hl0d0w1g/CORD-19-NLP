{
 "cells": [
  {
   "cell_type": "code",
   "execution_count": null,
   "metadata": {},
   "outputs": [],
   "source": [
    "!pip install -r requirements.txt"
   ]
  },
  {
   "cell_type": "code",
   "execution_count": null,
   "metadata": {},
   "outputs": [],
   "source": [
    "!pip install --upgrade spacy\n",
    "!python -m spacy download en_core_web_md\n",
    "!python -m spacy download xx_sent_ud_sm\n",
    "!pip install --upgrade spacy_langdetect"
   ]
  },
  {
   "cell_type": "code",
   "execution_count": null,
   "metadata": {},
   "outputs": [],
   "source": [
    "# Install of a visualizer for LDA\n",
    "!pip install pyLDAvis==2.1.2"
   ]
  },
  {
   "cell_type": "code",
   "execution_count": 1,
   "metadata": {
    "colab": {
     "base_uri": "https://localhost:8080/",
     "height": 17
    },
    "executionInfo": {
     "elapsed": 1018,
     "status": "ok",
     "timestamp": 1620058394429,
     "user": {
      "displayName": "LUIS CAMBERO PIQUERAS",
      "photoUrl": "",
      "userId": "06844157874572054860"
     },
     "user_tz": -120
    },
    "id": "SMHbnsmvqlIK",
    "outputId": "28bd3abd-0478-45b1-beca-c06bc7fe229e"
   },
   "outputs": [
    {
     "name": "stderr",
     "output_type": "stream",
     "text": [
      "/home/hl0d0w1g/data/Educación/Master Ing de la Informacion para la Salud/Speech & Natural Language Processing/Labs/FINAL PROJECT/CORD-19-NLP/venv/lib/python3.8/site-packages/gensim/similarities/__init__.py:15: UserWarning: The gensim.similarities.levenshtein submodule is disabled, because the optional Levenshtein package <https://pypi.org/project/python-Levenshtein/> is unavailable. Install Levenhstein (e.g. `pip install python-Levenshtein`) to suppress this warning.\n",
      "  warnings.warn(msg)\n"
     ]
    }
   ],
   "source": [
    "import pandas as pd\n",
    "import numpy as np\n",
    "import matplotlib.pyplot as plt\n",
    "import seaborn as sns\n",
    "import spacy\n",
    "from spacy.symbols import ORTH\n",
    "from spacy.language import Language\n",
    "from spacy_langdetect import LanguageDetector\n",
    "from tqdm import tqdm\n",
    "import gc\n",
    "import dask\n",
    "from dask import dataframe as dd\n",
    "from dask.diagnostics import ProgressBar\n",
    "from collections import defaultdict\n",
    "from sklearn.utils import shuffle\n",
    "from gensim.models.phrases import Phrases\n",
    "from gensim.corpora import Dictionary\n",
    "from gensim.models import LsiModel, TfidfModel\n",
    "from gensim.models.ldamodel import LdaModel\n",
    "from gensim.models.coherencemodel import CoherenceModel\n",
    "import pyLDAvis.gensim as gensimvis\n",
    "import pyLDAvis\n",
    "import pickle"
   ]
  },
  {
   "cell_type": "markdown",
   "metadata": {},
   "source": [
    "## Configuration"
   ]
  },
  {
   "cell_type": "code",
   "execution_count": 2,
   "metadata": {
    "executionInfo": {
     "elapsed": 2132,
     "status": "ok",
     "timestamp": 1620053138757,
     "user": {
      "displayName": "LUIS CAMBERO PIQUERAS",
      "photoUrl": "",
      "userId": "06844157874572054860"
     },
     "user_tz": -120
    },
    "id": "BIBzp6kvsMN5"
   },
   "outputs": [],
   "source": [
    "# To wrap long text lines\n",
    "from IPython.display import HTML, display\n",
    "\n",
    "def set_css():\n",
    "  display(HTML('''\n",
    "  <style>\n",
    "    pre {\n",
    "        white-space: pre-wrap;\n",
    "    }\n",
    "  </style>\n",
    "  '''))\n",
    "get_ipython().events.register('pre_run_cell', set_css)\n",
    "\n",
    "# For fancy table Display\n",
    "# %load_ext google.colab.data_table\n",
    "\n",
    "dask.config.set(num_workers=8, scheduler='processes')\n",
    "\n",
    "tqdm.pandas()"
   ]
  },
  {
   "cell_type": "markdown",
   "metadata": {},
   "source": [
    "## Data preprocessing"
   ]
  },
  {
   "cell_type": "code",
   "execution_count": 3,
   "metadata": {
    "colab": {
     "base_uri": "https://localhost:8080/",
     "height": 1000
    },
    "executionInfo": {
     "elapsed": 12932,
     "status": "ok",
     "timestamp": 1620053327229,
     "user": {
      "displayName": "LUIS CAMBERO PIQUERAS",
      "photoUrl": "",
      "userId": "06844157874572054860"
     },
     "user_tz": -120
    },
    "id": "jrDHys-2DIk2",
    "outputId": "f7e19547-9b81-461b-84d0-8bb44687a396"
   },
   "outputs": [
    {
     "data": {
      "text/html": [
       "\n",
       "  <style>\n",
       "    pre {\n",
       "        white-space: pre-wrap;\n",
       "    }\n",
       "  </style>\n",
       "  "
      ],
      "text/plain": [
       "<IPython.core.display.HTML object>"
      ]
     },
     "metadata": {},
     "output_type": "display_data"
    },
    {
     "data": {
      "text/html": [
       "<div>\n",
       "<style scoped>\n",
       "    .dataframe tbody tr th:only-of-type {\n",
       "        vertical-align: middle;\n",
       "    }\n",
       "\n",
       "    .dataframe tbody tr th {\n",
       "        vertical-align: top;\n",
       "    }\n",
       "\n",
       "    .dataframe thead th {\n",
       "        text-align: right;\n",
       "    }\n",
       "</style>\n",
       "<table border=\"1\" class=\"dataframe\">\n",
       "  <thead>\n",
       "    <tr style=\"text-align: right;\">\n",
       "      <th></th>\n",
       "      <th>cord_uid</th>\n",
       "      <th>sha</th>\n",
       "      <th>source_x</th>\n",
       "      <th>title</th>\n",
       "      <th>doi</th>\n",
       "      <th>pmcid</th>\n",
       "      <th>pubmed_id</th>\n",
       "      <th>license</th>\n",
       "      <th>abstract</th>\n",
       "      <th>publish_time</th>\n",
       "      <th>authors</th>\n",
       "      <th>journal</th>\n",
       "      <th>mag_id</th>\n",
       "      <th>who_covidence_id</th>\n",
       "      <th>arxiv_id</th>\n",
       "      <th>pdf_json_files</th>\n",
       "      <th>pmc_json_files</th>\n",
       "      <th>url</th>\n",
       "      <th>s2_id</th>\n",
       "    </tr>\n",
       "  </thead>\n",
       "  <tbody>\n",
       "    <tr>\n",
       "      <th>0</th>\n",
       "      <td>ug7v899j</td>\n",
       "      <td>d1aafb70c066a2068b02786f8929fd9c900897fb</td>\n",
       "      <td>PMC</td>\n",
       "      <td>Clinical features of culture-proven Mycoplasma...</td>\n",
       "      <td>10.1186/1471-2334-1-6</td>\n",
       "      <td>PMC35282</td>\n",
       "      <td>11472636</td>\n",
       "      <td>no-cc</td>\n",
       "      <td>OBJECTIVE: This retrospective chart review des...</td>\n",
       "      <td>2001-07-04</td>\n",
       "      <td>Madani, Tariq A; Al-Ghamdi, Aisha A</td>\n",
       "      <td>BMC Infect Dis</td>\n",
       "      <td>NaN</td>\n",
       "      <td>NaN</td>\n",
       "      <td>NaN</td>\n",
       "      <td>document_parses/pdf_json/d1aafb70c066a2068b027...</td>\n",
       "      <td>document_parses/pmc_json/PMC35282.xml.json</td>\n",
       "      <td>https://www.ncbi.nlm.nih.gov/pmc/articles/PMC3...</td>\n",
       "      <td>NaN</td>\n",
       "    </tr>\n",
       "    <tr>\n",
       "      <th>1</th>\n",
       "      <td>02tnwd4m</td>\n",
       "      <td>6b0567729c2143a66d737eb0a2f63f2dce2e5a7d</td>\n",
       "      <td>PMC</td>\n",
       "      <td>Nitric oxide: a pro-inflammatory mediator in l...</td>\n",
       "      <td>10.1186/rr14</td>\n",
       "      <td>PMC59543</td>\n",
       "      <td>11667967</td>\n",
       "      <td>no-cc</td>\n",
       "      <td>Inflammatory diseases of the respiratory tract...</td>\n",
       "      <td>2000-08-15</td>\n",
       "      <td>Vliet, Albert van der; Eiserich, Jason P; Cros...</td>\n",
       "      <td>Respir Res</td>\n",
       "      <td>NaN</td>\n",
       "      <td>NaN</td>\n",
       "      <td>NaN</td>\n",
       "      <td>document_parses/pdf_json/6b0567729c2143a66d737...</td>\n",
       "      <td>document_parses/pmc_json/PMC59543.xml.json</td>\n",
       "      <td>https://www.ncbi.nlm.nih.gov/pmc/articles/PMC5...</td>\n",
       "      <td>NaN</td>\n",
       "    </tr>\n",
       "    <tr>\n",
       "      <th>2</th>\n",
       "      <td>ejv2xln0</td>\n",
       "      <td>06ced00a5fc04215949aa72528f2eeaae1d58927</td>\n",
       "      <td>PMC</td>\n",
       "      <td>Surfactant protein-D and pulmonary host defense</td>\n",
       "      <td>10.1186/rr19</td>\n",
       "      <td>PMC59549</td>\n",
       "      <td>11667972</td>\n",
       "      <td>no-cc</td>\n",
       "      <td>Surfactant protein-D (SP-D) participates in th...</td>\n",
       "      <td>2000-08-25</td>\n",
       "      <td>Crouch, Erika C</td>\n",
       "      <td>Respir Res</td>\n",
       "      <td>NaN</td>\n",
       "      <td>NaN</td>\n",
       "      <td>NaN</td>\n",
       "      <td>document_parses/pdf_json/06ced00a5fc04215949aa...</td>\n",
       "      <td>document_parses/pmc_json/PMC59549.xml.json</td>\n",
       "      <td>https://www.ncbi.nlm.nih.gov/pmc/articles/PMC5...</td>\n",
       "      <td>NaN</td>\n",
       "    </tr>\n",
       "    <tr>\n",
       "      <th>3</th>\n",
       "      <td>2b73a28n</td>\n",
       "      <td>348055649b6b8cf2b9a376498df9bf41f7123605</td>\n",
       "      <td>PMC</td>\n",
       "      <td>Role of endothelin-1 in lung disease</td>\n",
       "      <td>10.1186/rr44</td>\n",
       "      <td>PMC59574</td>\n",
       "      <td>11686871</td>\n",
       "      <td>no-cc</td>\n",
       "      <td>Endothelin-1 (ET-1) is a 21 amino acid peptide...</td>\n",
       "      <td>2001-02-22</td>\n",
       "      <td>Fagan, Karen A; McMurtry, Ivan F; Rodman, David M</td>\n",
       "      <td>Respir Res</td>\n",
       "      <td>NaN</td>\n",
       "      <td>NaN</td>\n",
       "      <td>NaN</td>\n",
       "      <td>document_parses/pdf_json/348055649b6b8cf2b9a37...</td>\n",
       "      <td>document_parses/pmc_json/PMC59574.xml.json</td>\n",
       "      <td>https://www.ncbi.nlm.nih.gov/pmc/articles/PMC5...</td>\n",
       "      <td>NaN</td>\n",
       "    </tr>\n",
       "    <tr>\n",
       "      <th>4</th>\n",
       "      <td>9785vg6d</td>\n",
       "      <td>5f48792a5fa08bed9f56016f4981ae2ca6031b32</td>\n",
       "      <td>PMC</td>\n",
       "      <td>Gene expression in epithelial cells in respons...</td>\n",
       "      <td>10.1186/rr61</td>\n",
       "      <td>PMC59580</td>\n",
       "      <td>11686888</td>\n",
       "      <td>no-cc</td>\n",
       "      <td>Respiratory syncytial virus (RSV) and pneumoni...</td>\n",
       "      <td>2001-05-11</td>\n",
       "      <td>Domachowske, Joseph B; Bonville, Cynthia A; Ro...</td>\n",
       "      <td>Respir Res</td>\n",
       "      <td>NaN</td>\n",
       "      <td>NaN</td>\n",
       "      <td>NaN</td>\n",
       "      <td>document_parses/pdf_json/5f48792a5fa08bed9f560...</td>\n",
       "      <td>document_parses/pmc_json/PMC59580.xml.json</td>\n",
       "      <td>https://www.ncbi.nlm.nih.gov/pmc/articles/PMC5...</td>\n",
       "      <td>NaN</td>\n",
       "    </tr>\n",
       "    <tr>\n",
       "      <th>...</th>\n",
       "      <td>...</td>\n",
       "      <td>...</td>\n",
       "      <td>...</td>\n",
       "      <td>...</td>\n",
       "      <td>...</td>\n",
       "      <td>...</td>\n",
       "      <td>...</td>\n",
       "      <td>...</td>\n",
       "      <td>...</td>\n",
       "      <td>...</td>\n",
       "      <td>...</td>\n",
       "      <td>...</td>\n",
       "      <td>...</td>\n",
       "      <td>...</td>\n",
       "      <td>...</td>\n",
       "      <td>...</td>\n",
       "      <td>...</td>\n",
       "      <td>...</td>\n",
       "      <td>...</td>\n",
       "    </tr>\n",
       "    <tr>\n",
       "      <th>544401</th>\n",
       "      <td>x7mhzhw9</td>\n",
       "      <td>1fca7a77b04fc4a1b326c8a48964ee0d6a768e86</td>\n",
       "      <td>Medline; PMC</td>\n",
       "      <td>The COVID19 pandemic crisis and the relevance ...</td>\n",
       "      <td>10.1007/s12571-020-01071-6</td>\n",
       "      <td>PMC7343897</td>\n",
       "      <td>32837643</td>\n",
       "      <td>cc-by</td>\n",
       "      <td>The Covid19 pandemic should be seen as a wake-...</td>\n",
       "      <td>2020-07-09</td>\n",
       "      <td>Bhavani, R. V.; Gopinath, R.</td>\n",
       "      <td>Food Secur</td>\n",
       "      <td>NaN</td>\n",
       "      <td>NaN</td>\n",
       "      <td>NaN</td>\n",
       "      <td>document_parses/pdf_json/1fca7a77b04fc4a1b326c...</td>\n",
       "      <td>document_parses/pmc_json/PMC7343897.xml.json</td>\n",
       "      <td>https://doi.org/10.1007/s12571-020-01071-6; ht...</td>\n",
       "      <td>220417712.0</td>\n",
       "    </tr>\n",
       "    <tr>\n",
       "      <th>544402</th>\n",
       "      <td>n47e9u3c</td>\n",
       "      <td>91351188e43719fe66f83b9144832073eae26dc9</td>\n",
       "      <td>Elsevier; PMC</td>\n",
       "      <td>Law and policy of platform economy in China</td>\n",
       "      <td>10.1016/j.clsr.2020.105493</td>\n",
       "      <td>PMC7581424</td>\n",
       "      <td>NaN</td>\n",
       "      <td>els-covid</td>\n",
       "      <td>China is experiencing a phenomenal expansion o...</td>\n",
       "      <td>2020-11-30</td>\n",
       "      <td>You, Chuanman</td>\n",
       "      <td>Computer Law &amp; Security Review</td>\n",
       "      <td>NaN</td>\n",
       "      <td>NaN</td>\n",
       "      <td>NaN</td>\n",
       "      <td>document_parses/pdf_json/91351188e43719fe66f83...</td>\n",
       "      <td>NaN</td>\n",
       "      <td>https://www.sciencedirect.com/science/article/...</td>\n",
       "      <td>225041999.0</td>\n",
       "    </tr>\n",
       "    <tr>\n",
       "      <th>544403</th>\n",
       "      <td>yia4uww0</td>\n",
       "      <td>612fef2d60ed24807bf9ce083bc619059885d1dd</td>\n",
       "      <td>Medline; PMC</td>\n",
       "      <td>The perception of nurses towards their roles d...</td>\n",
       "      <td>10.1111/ijcp.13919</td>\n",
       "      <td>PMC7883258</td>\n",
       "      <td>33296522</td>\n",
       "      <td>no-cc</td>\n",
       "      <td>PURPOSE: The study aims to evaluate the availa...</td>\n",
       "      <td>2020-12-23</td>\n",
       "      <td>Abuhammad, Sawsan; AlAzzam, Manar; Mukattash, ...</td>\n",
       "      <td>Int J Clin Pract</td>\n",
       "      <td>NaN</td>\n",
       "      <td>NaN</td>\n",
       "      <td>NaN</td>\n",
       "      <td>document_parses/pdf_json/612fef2d60ed24807bf9c...</td>\n",
       "      <td>document_parses/pmc_json/PMC7883258.xml.json</td>\n",
       "      <td>https://doi.org/10.1111/ijcp.13919; https://ww...</td>\n",
       "      <td>228089464.0</td>\n",
       "    </tr>\n",
       "    <tr>\n",
       "      <th>544404</th>\n",
       "      <td>nrpiyq1g</td>\n",
       "      <td>645c9aec6eed5f1c1436ab4083d35f1107e6467e</td>\n",
       "      <td>Medline; PMC</td>\n",
       "      <td>Choroid Plexus: The Orchestrator of Long-Range...</td>\n",
       "      <td>10.3390/ijms21134760</td>\n",
       "      <td>PMC7369786</td>\n",
       "      <td>32635478</td>\n",
       "      <td>cc-by</td>\n",
       "      <td>Cerebrospinal fluid (CSF) is the liquid that f...</td>\n",
       "      <td>2020-07-04</td>\n",
       "      <td>Kaiser, Karol; Bryja, Vitezslav</td>\n",
       "      <td>Int J Mol Sci</td>\n",
       "      <td>NaN</td>\n",
       "      <td>NaN</td>\n",
       "      <td>NaN</td>\n",
       "      <td>document_parses/pdf_json/645c9aec6eed5f1c1436a...</td>\n",
       "      <td>document_parses/pmc_json/PMC7369786.xml.json</td>\n",
       "      <td>https://www.ncbi.nlm.nih.gov/pubmed/32635478/;...</td>\n",
       "      <td>220412134.0</td>\n",
       "    </tr>\n",
       "    <tr>\n",
       "      <th>544405</th>\n",
       "      <td>00tprg6w</td>\n",
       "      <td>f8888e195680f58ab6a413e7cafcf1b17339c549</td>\n",
       "      <td>Medline; PMC</td>\n",
       "      <td>North East London coronavirus disease 2019 pro...</td>\n",
       "      <td>10.1017/s0022215120001267</td>\n",
       "      <td>PMC7399153</td>\n",
       "      <td>32613916</td>\n",
       "      <td>cc-by</td>\n",
       "      <td>BACKGROUND: The coronavirus disease 2019 pande...</td>\n",
       "      <td>2020-06-18</td>\n",
       "      <td>Warner, E; Scholfield, D W; Adams, A; Richards...</td>\n",
       "      <td>The Journal of laryngology and otology</td>\n",
       "      <td>NaN</td>\n",
       "      <td>NaN</td>\n",
       "      <td>NaN</td>\n",
       "      <td>document_parses/pdf_json/f8888e195680f58ab6a41...</td>\n",
       "      <td>document_parses/pmc_json/PMC7399153.xml.json</td>\n",
       "      <td>https://doi.org/10.1017/s0022215120001267; htt...</td>\n",
       "      <td>220308469.0</td>\n",
       "    </tr>\n",
       "  </tbody>\n",
       "</table>\n",
       "<p>544406 rows × 19 columns</p>\n",
       "</div>"
      ],
      "text/plain": [
       "        cord_uid                                       sha       source_x  \\\n",
       "0       ug7v899j  d1aafb70c066a2068b02786f8929fd9c900897fb            PMC   \n",
       "1       02tnwd4m  6b0567729c2143a66d737eb0a2f63f2dce2e5a7d            PMC   \n",
       "2       ejv2xln0  06ced00a5fc04215949aa72528f2eeaae1d58927            PMC   \n",
       "3       2b73a28n  348055649b6b8cf2b9a376498df9bf41f7123605            PMC   \n",
       "4       9785vg6d  5f48792a5fa08bed9f56016f4981ae2ca6031b32            PMC   \n",
       "...          ...                                       ...            ...   \n",
       "544401  x7mhzhw9  1fca7a77b04fc4a1b326c8a48964ee0d6a768e86   Medline; PMC   \n",
       "544402  n47e9u3c  91351188e43719fe66f83b9144832073eae26dc9  Elsevier; PMC   \n",
       "544403  yia4uww0  612fef2d60ed24807bf9ce083bc619059885d1dd   Medline; PMC   \n",
       "544404  nrpiyq1g  645c9aec6eed5f1c1436ab4083d35f1107e6467e   Medline; PMC   \n",
       "544405  00tprg6w  f8888e195680f58ab6a413e7cafcf1b17339c549   Medline; PMC   \n",
       "\n",
       "                                                    title  \\\n",
       "0       Clinical features of culture-proven Mycoplasma...   \n",
       "1       Nitric oxide: a pro-inflammatory mediator in l...   \n",
       "2         Surfactant protein-D and pulmonary host defense   \n",
       "3                    Role of endothelin-1 in lung disease   \n",
       "4       Gene expression in epithelial cells in respons...   \n",
       "...                                                   ...   \n",
       "544401  The COVID19 pandemic crisis and the relevance ...   \n",
       "544402        Law and policy of platform economy in China   \n",
       "544403  The perception of nurses towards their roles d...   \n",
       "544404  Choroid Plexus: The Orchestrator of Long-Range...   \n",
       "544405  North East London coronavirus disease 2019 pro...   \n",
       "\n",
       "                               doi       pmcid pubmed_id    license  \\\n",
       "0            10.1186/1471-2334-1-6    PMC35282  11472636      no-cc   \n",
       "1                     10.1186/rr14    PMC59543  11667967      no-cc   \n",
       "2                     10.1186/rr19    PMC59549  11667972      no-cc   \n",
       "3                     10.1186/rr44    PMC59574  11686871      no-cc   \n",
       "4                     10.1186/rr61    PMC59580  11686888      no-cc   \n",
       "...                            ...         ...       ...        ...   \n",
       "544401  10.1007/s12571-020-01071-6  PMC7343897  32837643      cc-by   \n",
       "544402  10.1016/j.clsr.2020.105493  PMC7581424       NaN  els-covid   \n",
       "544403          10.1111/ijcp.13919  PMC7883258  33296522      no-cc   \n",
       "544404        10.3390/ijms21134760  PMC7369786  32635478      cc-by   \n",
       "544405   10.1017/s0022215120001267  PMC7399153  32613916      cc-by   \n",
       "\n",
       "                                                 abstract publish_time  \\\n",
       "0       OBJECTIVE: This retrospective chart review des...   2001-07-04   \n",
       "1       Inflammatory diseases of the respiratory tract...   2000-08-15   \n",
       "2       Surfactant protein-D (SP-D) participates in th...   2000-08-25   \n",
       "3       Endothelin-1 (ET-1) is a 21 amino acid peptide...   2001-02-22   \n",
       "4       Respiratory syncytial virus (RSV) and pneumoni...   2001-05-11   \n",
       "...                                                   ...          ...   \n",
       "544401  The Covid19 pandemic should be seen as a wake-...   2020-07-09   \n",
       "544402  China is experiencing a phenomenal expansion o...   2020-11-30   \n",
       "544403  PURPOSE: The study aims to evaluate the availa...   2020-12-23   \n",
       "544404  Cerebrospinal fluid (CSF) is the liquid that f...   2020-07-04   \n",
       "544405  BACKGROUND: The coronavirus disease 2019 pande...   2020-06-18   \n",
       "\n",
       "                                                  authors  \\\n",
       "0                     Madani, Tariq A; Al-Ghamdi, Aisha A   \n",
       "1       Vliet, Albert van der; Eiserich, Jason P; Cros...   \n",
       "2                                         Crouch, Erika C   \n",
       "3       Fagan, Karen A; McMurtry, Ivan F; Rodman, David M   \n",
       "4       Domachowske, Joseph B; Bonville, Cynthia A; Ro...   \n",
       "...                                                   ...   \n",
       "544401                       Bhavani, R. V.; Gopinath, R.   \n",
       "544402                                      You, Chuanman   \n",
       "544403  Abuhammad, Sawsan; AlAzzam, Manar; Mukattash, ...   \n",
       "544404                    Kaiser, Karol; Bryja, Vitezslav   \n",
       "544405  Warner, E; Scholfield, D W; Adams, A; Richards...   \n",
       "\n",
       "                                       journal  mag_id who_covidence_id  \\\n",
       "0                               BMC Infect Dis     NaN              NaN   \n",
       "1                                   Respir Res     NaN              NaN   \n",
       "2                                   Respir Res     NaN              NaN   \n",
       "3                                   Respir Res     NaN              NaN   \n",
       "4                                   Respir Res     NaN              NaN   \n",
       "...                                        ...     ...              ...   \n",
       "544401                              Food Secur     NaN              NaN   \n",
       "544402          Computer Law & Security Review     NaN              NaN   \n",
       "544403                        Int J Clin Pract     NaN              NaN   \n",
       "544404                           Int J Mol Sci     NaN              NaN   \n",
       "544405  The Journal of laryngology and otology     NaN              NaN   \n",
       "\n",
       "       arxiv_id                                     pdf_json_files  \\\n",
       "0           NaN  document_parses/pdf_json/d1aafb70c066a2068b027...   \n",
       "1           NaN  document_parses/pdf_json/6b0567729c2143a66d737...   \n",
       "2           NaN  document_parses/pdf_json/06ced00a5fc04215949aa...   \n",
       "3           NaN  document_parses/pdf_json/348055649b6b8cf2b9a37...   \n",
       "4           NaN  document_parses/pdf_json/5f48792a5fa08bed9f560...   \n",
       "...         ...                                                ...   \n",
       "544401      NaN  document_parses/pdf_json/1fca7a77b04fc4a1b326c...   \n",
       "544402      NaN  document_parses/pdf_json/91351188e43719fe66f83...   \n",
       "544403      NaN  document_parses/pdf_json/612fef2d60ed24807bf9c...   \n",
       "544404      NaN  document_parses/pdf_json/645c9aec6eed5f1c1436a...   \n",
       "544405      NaN  document_parses/pdf_json/f8888e195680f58ab6a41...   \n",
       "\n",
       "                                      pmc_json_files  \\\n",
       "0         document_parses/pmc_json/PMC35282.xml.json   \n",
       "1         document_parses/pmc_json/PMC59543.xml.json   \n",
       "2         document_parses/pmc_json/PMC59549.xml.json   \n",
       "3         document_parses/pmc_json/PMC59574.xml.json   \n",
       "4         document_parses/pmc_json/PMC59580.xml.json   \n",
       "...                                              ...   \n",
       "544401  document_parses/pmc_json/PMC7343897.xml.json   \n",
       "544402                                           NaN   \n",
       "544403  document_parses/pmc_json/PMC7883258.xml.json   \n",
       "544404  document_parses/pmc_json/PMC7369786.xml.json   \n",
       "544405  document_parses/pmc_json/PMC7399153.xml.json   \n",
       "\n",
       "                                                      url        s2_id  \n",
       "0       https://www.ncbi.nlm.nih.gov/pmc/articles/PMC3...          NaN  \n",
       "1       https://www.ncbi.nlm.nih.gov/pmc/articles/PMC5...          NaN  \n",
       "2       https://www.ncbi.nlm.nih.gov/pmc/articles/PMC5...          NaN  \n",
       "3       https://www.ncbi.nlm.nih.gov/pmc/articles/PMC5...          NaN  \n",
       "4       https://www.ncbi.nlm.nih.gov/pmc/articles/PMC5...          NaN  \n",
       "...                                                   ...          ...  \n",
       "544401  https://doi.org/10.1007/s12571-020-01071-6; ht...  220417712.0  \n",
       "544402  https://www.sciencedirect.com/science/article/...  225041999.0  \n",
       "544403  https://doi.org/10.1111/ijcp.13919; https://ww...  228089464.0  \n",
       "544404  https://www.ncbi.nlm.nih.gov/pubmed/32635478/;...  220412134.0  \n",
       "544405  https://doi.org/10.1017/s0022215120001267; htt...  220308469.0  \n",
       "\n",
       "[544406 rows x 19 columns]"
      ]
     },
     "execution_count": 3,
     "metadata": {},
     "output_type": "execute_result"
    }
   ],
   "source": [
    "# Load the metadata\n",
    "metadata_df = pd.read_csv('./data/metadata.csv', low_memory=False)\n",
    "metadata_df"
   ]
  },
  {
   "cell_type": "code",
   "execution_count": 4,
   "metadata": {
    "colab": {
     "base_uri": "https://localhost:8080/",
     "height": 699
    },
    "executionInfo": {
     "elapsed": 1652,
     "status": "ok",
     "timestamp": 1620054427163,
     "user": {
      "displayName": "LUIS CAMBERO PIQUERAS",
      "photoUrl": "",
      "userId": "06844157874572054860"
     },
     "user_tz": -120
    },
    "id": "E8oXDlKywJ_F",
    "outputId": "74084b61-e5ec-4420-8d07-cb9fd3df7aa5"
   },
   "outputs": [
    {
     "data": {
      "text/html": [
       "\n",
       "  <style>\n",
       "    pre {\n",
       "        white-space: pre-wrap;\n",
       "    }\n",
       "  </style>\n",
       "  "
      ],
      "text/plain": [
       "<IPython.core.display.HTML object>"
      ]
     },
     "metadata": {},
     "output_type": "display_data"
    },
    {
     "name": "stdout",
     "output_type": "stream",
     "text": [
      "<class 'pandas.core.frame.DataFrame'>\n",
      "RangeIndex: 544406 entries, 0 to 544405\n",
      "Data columns (total 19 columns):\n",
      " #   Column            Non-Null Count   Dtype  \n",
      "---  ------            --------------   -----  \n",
      " 0   cord_uid          544406 non-null  object \n",
      " 1   sha               183834 non-null  object \n",
      " 2   source_x          544406 non-null  object \n",
      " 3   title             544158 non-null  object \n",
      " 4   doi               298986 non-null  object \n",
      " 5   pmcid             193683 non-null  object \n",
      " 6   pubmed_id         258178 non-null  object \n",
      " 7   license           544406 non-null  object \n",
      " 8   abstract          396056 non-null  object \n",
      " 9   publish_time      544187 non-null  object \n",
      " 10  authors           529539 non-null  object \n",
      " 11  journal           508745 non-null  object \n",
      " 12  mag_id            0 non-null       float64\n",
      " 13  who_covidence_id  226293 non-null  object \n",
      " 14  arxiv_id          7097 non-null    object \n",
      " 15  pdf_json_files    183834 non-null  object \n",
      " 16  pmc_json_files    149309 non-null  object \n",
      " 17  url               319738 non-null  object \n",
      " 18  s2_id             495235 non-null  float64\n",
      "dtypes: float64(2), object(17)\n",
      "memory usage: 78.9+ MB\n"
     ]
    },
    {
     "data": {
      "text/html": [
       "<div>\n",
       "<style scoped>\n",
       "    .dataframe tbody tr th:only-of-type {\n",
       "        vertical-align: middle;\n",
       "    }\n",
       "\n",
       "    .dataframe tbody tr th {\n",
       "        vertical-align: top;\n",
       "    }\n",
       "\n",
       "    .dataframe thead th {\n",
       "        text-align: right;\n",
       "    }\n",
       "</style>\n",
       "<table border=\"1\" class=\"dataframe\">\n",
       "  <thead>\n",
       "    <tr style=\"text-align: right;\">\n",
       "      <th></th>\n",
       "      <th>mag_id</th>\n",
       "      <th>s2_id</th>\n",
       "    </tr>\n",
       "  </thead>\n",
       "  <tbody>\n",
       "    <tr>\n",
       "      <th>count</th>\n",
       "      <td>0.0</td>\n",
       "      <td>4.952350e+05</td>\n",
       "    </tr>\n",
       "    <tr>\n",
       "      <th>mean</th>\n",
       "      <td>NaN</td>\n",
       "      <td>1.976635e+08</td>\n",
       "    </tr>\n",
       "    <tr>\n",
       "      <th>std</th>\n",
       "      <td>NaN</td>\n",
       "      <td>6.753983e+07</td>\n",
       "    </tr>\n",
       "    <tr>\n",
       "      <th>min</th>\n",
       "      <td>NaN</td>\n",
       "      <td>9.600000e+01</td>\n",
       "    </tr>\n",
       "    <tr>\n",
       "      <th>25%</th>\n",
       "      <td>NaN</td>\n",
       "      <td>2.186196e+08</td>\n",
       "    </tr>\n",
       "    <tr>\n",
       "      <th>50%</th>\n",
       "      <td>NaN</td>\n",
       "      <td>2.213713e+08</td>\n",
       "    </tr>\n",
       "    <tr>\n",
       "      <th>75%</th>\n",
       "      <td>NaN</td>\n",
       "      <td>2.281010e+08</td>\n",
       "    </tr>\n",
       "    <tr>\n",
       "      <th>max</th>\n",
       "      <td>NaN</td>\n",
       "      <td>2.333898e+08</td>\n",
       "    </tr>\n",
       "  </tbody>\n",
       "</table>\n",
       "</div>"
      ],
      "text/plain": [
       "       mag_id         s2_id\n",
       "count     0.0  4.952350e+05\n",
       "mean      NaN  1.976635e+08\n",
       "std       NaN  6.753983e+07\n",
       "min       NaN  9.600000e+01\n",
       "25%       NaN  2.186196e+08\n",
       "50%       NaN  2.213713e+08\n",
       "75%       NaN  2.281010e+08\n",
       "max       NaN  2.333898e+08"
      ]
     },
     "execution_count": 4,
     "metadata": {},
     "output_type": "execute_result"
    }
   ],
   "source": [
    "# Explore the metadata\n",
    "metadata_df.info()\n",
    "metadata_df.describe()"
   ]
  },
  {
   "cell_type": "code",
   "execution_count": 5,
   "metadata": {
    "colab": {
     "base_uri": "https://localhost:8080/",
     "height": 1000
    },
    "executionInfo": {
     "elapsed": 1209,
     "status": "ok",
     "timestamp": 1620055336762,
     "user": {
      "displayName": "LUIS CAMBERO PIQUERAS",
      "photoUrl": "",
      "userId": "06844157874572054860"
     },
     "user_tz": -120
    },
    "id": "H0hl65vT0XZP",
    "outputId": "4ed39783-819b-48d9-b0c3-b73ba2251746"
   },
   "outputs": [
    {
     "data": {
      "text/html": [
       "\n",
       "  <style>\n",
       "    pre {\n",
       "        white-space: pre-wrap;\n",
       "    }\n",
       "  </style>\n",
       "  "
      ],
      "text/plain": [
       "<IPython.core.display.HTML object>"
      ]
     },
     "metadata": {},
     "output_type": "display_data"
    },
    {
     "data": {
      "text/html": [
       "<div>\n",
       "<style scoped>\n",
       "    .dataframe tbody tr th:only-of-type {\n",
       "        vertical-align: middle;\n",
       "    }\n",
       "\n",
       "    .dataframe tbody tr th {\n",
       "        vertical-align: top;\n",
       "    }\n",
       "\n",
       "    .dataframe thead th {\n",
       "        text-align: right;\n",
       "    }\n",
       "</style>\n",
       "<table border=\"1\" class=\"dataframe\">\n",
       "  <thead>\n",
       "    <tr style=\"text-align: right;\">\n",
       "      <th></th>\n",
       "      <th>cord_uid</th>\n",
       "      <th>sha</th>\n",
       "      <th>source_x</th>\n",
       "      <th>title</th>\n",
       "      <th>doi</th>\n",
       "      <th>pmcid</th>\n",
       "      <th>pubmed_id</th>\n",
       "      <th>license</th>\n",
       "      <th>abstract</th>\n",
       "      <th>publish_time</th>\n",
       "      <th>authors</th>\n",
       "      <th>journal</th>\n",
       "      <th>mag_id</th>\n",
       "      <th>who_covidence_id</th>\n",
       "      <th>arxiv_id</th>\n",
       "      <th>pdf_json_files</th>\n",
       "      <th>pmc_json_files</th>\n",
       "      <th>url</th>\n",
       "      <th>s2_id</th>\n",
       "    </tr>\n",
       "  </thead>\n",
       "  <tbody>\n",
       "    <tr>\n",
       "      <th>0</th>\n",
       "      <td>ug7v899j</td>\n",
       "      <td>d1aafb70c066a2068b02786f8929fd9c900897fb</td>\n",
       "      <td>PMC</td>\n",
       "      <td>Clinical features of culture-proven Mycoplasma...</td>\n",
       "      <td>10.1186/1471-2334-1-6</td>\n",
       "      <td>PMC35282</td>\n",
       "      <td>11472636</td>\n",
       "      <td>no-cc</td>\n",
       "      <td>OBJECTIVE: This retrospective chart review des...</td>\n",
       "      <td>2001-07-04</td>\n",
       "      <td>Madani, Tariq A; Al-Ghamdi, Aisha A</td>\n",
       "      <td>BMC Infect Dis</td>\n",
       "      <td>NaN</td>\n",
       "      <td>NaN</td>\n",
       "      <td>NaN</td>\n",
       "      <td>document_parses/pdf_json/d1aafb70c066a2068b027...</td>\n",
       "      <td>document_parses/pmc_json/PMC35282.xml.json</td>\n",
       "      <td>https://www.ncbi.nlm.nih.gov/pmc/articles/PMC3...</td>\n",
       "      <td>NaN</td>\n",
       "    </tr>\n",
       "    <tr>\n",
       "      <th>1</th>\n",
       "      <td>02tnwd4m</td>\n",
       "      <td>6b0567729c2143a66d737eb0a2f63f2dce2e5a7d</td>\n",
       "      <td>PMC</td>\n",
       "      <td>Nitric oxide: a pro-inflammatory mediator in l...</td>\n",
       "      <td>10.1186/rr14</td>\n",
       "      <td>PMC59543</td>\n",
       "      <td>11667967</td>\n",
       "      <td>no-cc</td>\n",
       "      <td>Inflammatory diseases of the respiratory tract...</td>\n",
       "      <td>2000-08-15</td>\n",
       "      <td>Vliet, Albert van der; Eiserich, Jason P; Cros...</td>\n",
       "      <td>Respir Res</td>\n",
       "      <td>NaN</td>\n",
       "      <td>NaN</td>\n",
       "      <td>NaN</td>\n",
       "      <td>document_parses/pdf_json/6b0567729c2143a66d737...</td>\n",
       "      <td>document_parses/pmc_json/PMC59543.xml.json</td>\n",
       "      <td>https://www.ncbi.nlm.nih.gov/pmc/articles/PMC5...</td>\n",
       "      <td>NaN</td>\n",
       "    </tr>\n",
       "    <tr>\n",
       "      <th>2</th>\n",
       "      <td>ejv2xln0</td>\n",
       "      <td>06ced00a5fc04215949aa72528f2eeaae1d58927</td>\n",
       "      <td>PMC</td>\n",
       "      <td>Surfactant protein-D and pulmonary host defense</td>\n",
       "      <td>10.1186/rr19</td>\n",
       "      <td>PMC59549</td>\n",
       "      <td>11667972</td>\n",
       "      <td>no-cc</td>\n",
       "      <td>Surfactant protein-D (SP-D) participates in th...</td>\n",
       "      <td>2000-08-25</td>\n",
       "      <td>Crouch, Erika C</td>\n",
       "      <td>Respir Res</td>\n",
       "      <td>NaN</td>\n",
       "      <td>NaN</td>\n",
       "      <td>NaN</td>\n",
       "      <td>document_parses/pdf_json/06ced00a5fc04215949aa...</td>\n",
       "      <td>document_parses/pmc_json/PMC59549.xml.json</td>\n",
       "      <td>https://www.ncbi.nlm.nih.gov/pmc/articles/PMC5...</td>\n",
       "      <td>NaN</td>\n",
       "    </tr>\n",
       "    <tr>\n",
       "      <th>3</th>\n",
       "      <td>2b73a28n</td>\n",
       "      <td>348055649b6b8cf2b9a376498df9bf41f7123605</td>\n",
       "      <td>PMC</td>\n",
       "      <td>Role of endothelin-1 in lung disease</td>\n",
       "      <td>10.1186/rr44</td>\n",
       "      <td>PMC59574</td>\n",
       "      <td>11686871</td>\n",
       "      <td>no-cc</td>\n",
       "      <td>Endothelin-1 (ET-1) is a 21 amino acid peptide...</td>\n",
       "      <td>2001-02-22</td>\n",
       "      <td>Fagan, Karen A; McMurtry, Ivan F; Rodman, David M</td>\n",
       "      <td>Respir Res</td>\n",
       "      <td>NaN</td>\n",
       "      <td>NaN</td>\n",
       "      <td>NaN</td>\n",
       "      <td>document_parses/pdf_json/348055649b6b8cf2b9a37...</td>\n",
       "      <td>document_parses/pmc_json/PMC59574.xml.json</td>\n",
       "      <td>https://www.ncbi.nlm.nih.gov/pmc/articles/PMC5...</td>\n",
       "      <td>NaN</td>\n",
       "    </tr>\n",
       "    <tr>\n",
       "      <th>4</th>\n",
       "      <td>9785vg6d</td>\n",
       "      <td>5f48792a5fa08bed9f56016f4981ae2ca6031b32</td>\n",
       "      <td>PMC</td>\n",
       "      <td>Gene expression in epithelial cells in respons...</td>\n",
       "      <td>10.1186/rr61</td>\n",
       "      <td>PMC59580</td>\n",
       "      <td>11686888</td>\n",
       "      <td>no-cc</td>\n",
       "      <td>Respiratory syncytial virus (RSV) and pneumoni...</td>\n",
       "      <td>2001-05-11</td>\n",
       "      <td>Domachowske, Joseph B; Bonville, Cynthia A; Ro...</td>\n",
       "      <td>Respir Res</td>\n",
       "      <td>NaN</td>\n",
       "      <td>NaN</td>\n",
       "      <td>NaN</td>\n",
       "      <td>document_parses/pdf_json/5f48792a5fa08bed9f560...</td>\n",
       "      <td>document_parses/pmc_json/PMC59580.xml.json</td>\n",
       "      <td>https://www.ncbi.nlm.nih.gov/pmc/articles/PMC5...</td>\n",
       "      <td>NaN</td>\n",
       "    </tr>\n",
       "    <tr>\n",
       "      <th>...</th>\n",
       "      <td>...</td>\n",
       "      <td>...</td>\n",
       "      <td>...</td>\n",
       "      <td>...</td>\n",
       "      <td>...</td>\n",
       "      <td>...</td>\n",
       "      <td>...</td>\n",
       "      <td>...</td>\n",
       "      <td>...</td>\n",
       "      <td>...</td>\n",
       "      <td>...</td>\n",
       "      <td>...</td>\n",
       "      <td>...</td>\n",
       "      <td>...</td>\n",
       "      <td>...</td>\n",
       "      <td>...</td>\n",
       "      <td>...</td>\n",
       "      <td>...</td>\n",
       "      <td>...</td>\n",
       "    </tr>\n",
       "    <tr>\n",
       "      <th>544401</th>\n",
       "      <td>x7mhzhw9</td>\n",
       "      <td>1fca7a77b04fc4a1b326c8a48964ee0d6a768e86</td>\n",
       "      <td>Medline; PMC</td>\n",
       "      <td>The COVID19 pandemic crisis and the relevance ...</td>\n",
       "      <td>10.1007/s12571-020-01071-6</td>\n",
       "      <td>PMC7343897</td>\n",
       "      <td>32837643</td>\n",
       "      <td>cc-by</td>\n",
       "      <td>The Covid19 pandemic should be seen as a wake-...</td>\n",
       "      <td>2020-07-09</td>\n",
       "      <td>Bhavani, R. V.; Gopinath, R.</td>\n",
       "      <td>Food Secur</td>\n",
       "      <td>NaN</td>\n",
       "      <td>NaN</td>\n",
       "      <td>NaN</td>\n",
       "      <td>document_parses/pdf_json/1fca7a77b04fc4a1b326c...</td>\n",
       "      <td>document_parses/pmc_json/PMC7343897.xml.json</td>\n",
       "      <td>https://doi.org/10.1007/s12571-020-01071-6; ht...</td>\n",
       "      <td>220417712.0</td>\n",
       "    </tr>\n",
       "    <tr>\n",
       "      <th>544402</th>\n",
       "      <td>n47e9u3c</td>\n",
       "      <td>91351188e43719fe66f83b9144832073eae26dc9</td>\n",
       "      <td>Elsevier; PMC</td>\n",
       "      <td>Law and policy of platform economy in China</td>\n",
       "      <td>10.1016/j.clsr.2020.105493</td>\n",
       "      <td>PMC7581424</td>\n",
       "      <td>NaN</td>\n",
       "      <td>els-covid</td>\n",
       "      <td>China is experiencing a phenomenal expansion o...</td>\n",
       "      <td>2020-11-30</td>\n",
       "      <td>You, Chuanman</td>\n",
       "      <td>Computer Law &amp; Security Review</td>\n",
       "      <td>NaN</td>\n",
       "      <td>NaN</td>\n",
       "      <td>NaN</td>\n",
       "      <td>document_parses/pdf_json/91351188e43719fe66f83...</td>\n",
       "      <td>NaN</td>\n",
       "      <td>https://www.sciencedirect.com/science/article/...</td>\n",
       "      <td>225041999.0</td>\n",
       "    </tr>\n",
       "    <tr>\n",
       "      <th>544403</th>\n",
       "      <td>yia4uww0</td>\n",
       "      <td>612fef2d60ed24807bf9ce083bc619059885d1dd</td>\n",
       "      <td>Medline; PMC</td>\n",
       "      <td>The perception of nurses towards their roles d...</td>\n",
       "      <td>10.1111/ijcp.13919</td>\n",
       "      <td>PMC7883258</td>\n",
       "      <td>33296522</td>\n",
       "      <td>no-cc</td>\n",
       "      <td>PURPOSE: The study aims to evaluate the availa...</td>\n",
       "      <td>2020-12-23</td>\n",
       "      <td>Abuhammad, Sawsan; AlAzzam, Manar; Mukattash, ...</td>\n",
       "      <td>Int J Clin Pract</td>\n",
       "      <td>NaN</td>\n",
       "      <td>NaN</td>\n",
       "      <td>NaN</td>\n",
       "      <td>document_parses/pdf_json/612fef2d60ed24807bf9c...</td>\n",
       "      <td>document_parses/pmc_json/PMC7883258.xml.json</td>\n",
       "      <td>https://doi.org/10.1111/ijcp.13919; https://ww...</td>\n",
       "      <td>228089464.0</td>\n",
       "    </tr>\n",
       "    <tr>\n",
       "      <th>544404</th>\n",
       "      <td>nrpiyq1g</td>\n",
       "      <td>645c9aec6eed5f1c1436ab4083d35f1107e6467e</td>\n",
       "      <td>Medline; PMC</td>\n",
       "      <td>Choroid Plexus: The Orchestrator of Long-Range...</td>\n",
       "      <td>10.3390/ijms21134760</td>\n",
       "      <td>PMC7369786</td>\n",
       "      <td>32635478</td>\n",
       "      <td>cc-by</td>\n",
       "      <td>Cerebrospinal fluid (CSF) is the liquid that f...</td>\n",
       "      <td>2020-07-04</td>\n",
       "      <td>Kaiser, Karol; Bryja, Vitezslav</td>\n",
       "      <td>Int J Mol Sci</td>\n",
       "      <td>NaN</td>\n",
       "      <td>NaN</td>\n",
       "      <td>NaN</td>\n",
       "      <td>document_parses/pdf_json/645c9aec6eed5f1c1436a...</td>\n",
       "      <td>document_parses/pmc_json/PMC7369786.xml.json</td>\n",
       "      <td>https://www.ncbi.nlm.nih.gov/pubmed/32635478/;...</td>\n",
       "      <td>220412134.0</td>\n",
       "    </tr>\n",
       "    <tr>\n",
       "      <th>544405</th>\n",
       "      <td>00tprg6w</td>\n",
       "      <td>f8888e195680f58ab6a413e7cafcf1b17339c549</td>\n",
       "      <td>Medline; PMC</td>\n",
       "      <td>North East London coronavirus disease 2019 pro...</td>\n",
       "      <td>10.1017/s0022215120001267</td>\n",
       "      <td>PMC7399153</td>\n",
       "      <td>32613916</td>\n",
       "      <td>cc-by</td>\n",
       "      <td>BACKGROUND: The coronavirus disease 2019 pande...</td>\n",
       "      <td>2020-06-18</td>\n",
       "      <td>Warner, E; Scholfield, D W; Adams, A; Richards...</td>\n",
       "      <td>The Journal of laryngology and otology</td>\n",
       "      <td>NaN</td>\n",
       "      <td>NaN</td>\n",
       "      <td>NaN</td>\n",
       "      <td>document_parses/pdf_json/f8888e195680f58ab6a41...</td>\n",
       "      <td>document_parses/pmc_json/PMC7399153.xml.json</td>\n",
       "      <td>https://doi.org/10.1017/s0022215120001267; htt...</td>\n",
       "      <td>220308469.0</td>\n",
       "    </tr>\n",
       "  </tbody>\n",
       "</table>\n",
       "<p>396056 rows × 19 columns</p>\n",
       "</div>"
      ],
      "text/plain": [
       "        cord_uid                                       sha       source_x  \\\n",
       "0       ug7v899j  d1aafb70c066a2068b02786f8929fd9c900897fb            PMC   \n",
       "1       02tnwd4m  6b0567729c2143a66d737eb0a2f63f2dce2e5a7d            PMC   \n",
       "2       ejv2xln0  06ced00a5fc04215949aa72528f2eeaae1d58927            PMC   \n",
       "3       2b73a28n  348055649b6b8cf2b9a376498df9bf41f7123605            PMC   \n",
       "4       9785vg6d  5f48792a5fa08bed9f56016f4981ae2ca6031b32            PMC   \n",
       "...          ...                                       ...            ...   \n",
       "544401  x7mhzhw9  1fca7a77b04fc4a1b326c8a48964ee0d6a768e86   Medline; PMC   \n",
       "544402  n47e9u3c  91351188e43719fe66f83b9144832073eae26dc9  Elsevier; PMC   \n",
       "544403  yia4uww0  612fef2d60ed24807bf9ce083bc619059885d1dd   Medline; PMC   \n",
       "544404  nrpiyq1g  645c9aec6eed5f1c1436ab4083d35f1107e6467e   Medline; PMC   \n",
       "544405  00tprg6w  f8888e195680f58ab6a413e7cafcf1b17339c549   Medline; PMC   \n",
       "\n",
       "                                                    title  \\\n",
       "0       Clinical features of culture-proven Mycoplasma...   \n",
       "1       Nitric oxide: a pro-inflammatory mediator in l...   \n",
       "2         Surfactant protein-D and pulmonary host defense   \n",
       "3                    Role of endothelin-1 in lung disease   \n",
       "4       Gene expression in epithelial cells in respons...   \n",
       "...                                                   ...   \n",
       "544401  The COVID19 pandemic crisis and the relevance ...   \n",
       "544402        Law and policy of platform economy in China   \n",
       "544403  The perception of nurses towards their roles d...   \n",
       "544404  Choroid Plexus: The Orchestrator of Long-Range...   \n",
       "544405  North East London coronavirus disease 2019 pro...   \n",
       "\n",
       "                               doi       pmcid pubmed_id    license  \\\n",
       "0            10.1186/1471-2334-1-6    PMC35282  11472636      no-cc   \n",
       "1                     10.1186/rr14    PMC59543  11667967      no-cc   \n",
       "2                     10.1186/rr19    PMC59549  11667972      no-cc   \n",
       "3                     10.1186/rr44    PMC59574  11686871      no-cc   \n",
       "4                     10.1186/rr61    PMC59580  11686888      no-cc   \n",
       "...                            ...         ...       ...        ...   \n",
       "544401  10.1007/s12571-020-01071-6  PMC7343897  32837643      cc-by   \n",
       "544402  10.1016/j.clsr.2020.105493  PMC7581424       NaN  els-covid   \n",
       "544403          10.1111/ijcp.13919  PMC7883258  33296522      no-cc   \n",
       "544404        10.3390/ijms21134760  PMC7369786  32635478      cc-by   \n",
       "544405   10.1017/s0022215120001267  PMC7399153  32613916      cc-by   \n",
       "\n",
       "                                                 abstract publish_time  \\\n",
       "0       OBJECTIVE: This retrospective chart review des...   2001-07-04   \n",
       "1       Inflammatory diseases of the respiratory tract...   2000-08-15   \n",
       "2       Surfactant protein-D (SP-D) participates in th...   2000-08-25   \n",
       "3       Endothelin-1 (ET-1) is a 21 amino acid peptide...   2001-02-22   \n",
       "4       Respiratory syncytial virus (RSV) and pneumoni...   2001-05-11   \n",
       "...                                                   ...          ...   \n",
       "544401  The Covid19 pandemic should be seen as a wake-...   2020-07-09   \n",
       "544402  China is experiencing a phenomenal expansion o...   2020-11-30   \n",
       "544403  PURPOSE: The study aims to evaluate the availa...   2020-12-23   \n",
       "544404  Cerebrospinal fluid (CSF) is the liquid that f...   2020-07-04   \n",
       "544405  BACKGROUND: The coronavirus disease 2019 pande...   2020-06-18   \n",
       "\n",
       "                                                  authors  \\\n",
       "0                     Madani, Tariq A; Al-Ghamdi, Aisha A   \n",
       "1       Vliet, Albert van der; Eiserich, Jason P; Cros...   \n",
       "2                                         Crouch, Erika C   \n",
       "3       Fagan, Karen A; McMurtry, Ivan F; Rodman, David M   \n",
       "4       Domachowske, Joseph B; Bonville, Cynthia A; Ro...   \n",
       "...                                                   ...   \n",
       "544401                       Bhavani, R. V.; Gopinath, R.   \n",
       "544402                                      You, Chuanman   \n",
       "544403  Abuhammad, Sawsan; AlAzzam, Manar; Mukattash, ...   \n",
       "544404                    Kaiser, Karol; Bryja, Vitezslav   \n",
       "544405  Warner, E; Scholfield, D W; Adams, A; Richards...   \n",
       "\n",
       "                                       journal  mag_id who_covidence_id  \\\n",
       "0                               BMC Infect Dis     NaN              NaN   \n",
       "1                                   Respir Res     NaN              NaN   \n",
       "2                                   Respir Res     NaN              NaN   \n",
       "3                                   Respir Res     NaN              NaN   \n",
       "4                                   Respir Res     NaN              NaN   \n",
       "...                                        ...     ...              ...   \n",
       "544401                              Food Secur     NaN              NaN   \n",
       "544402          Computer Law & Security Review     NaN              NaN   \n",
       "544403                        Int J Clin Pract     NaN              NaN   \n",
       "544404                           Int J Mol Sci     NaN              NaN   \n",
       "544405  The Journal of laryngology and otology     NaN              NaN   \n",
       "\n",
       "       arxiv_id                                     pdf_json_files  \\\n",
       "0           NaN  document_parses/pdf_json/d1aafb70c066a2068b027...   \n",
       "1           NaN  document_parses/pdf_json/6b0567729c2143a66d737...   \n",
       "2           NaN  document_parses/pdf_json/06ced00a5fc04215949aa...   \n",
       "3           NaN  document_parses/pdf_json/348055649b6b8cf2b9a37...   \n",
       "4           NaN  document_parses/pdf_json/5f48792a5fa08bed9f560...   \n",
       "...         ...                                                ...   \n",
       "544401      NaN  document_parses/pdf_json/1fca7a77b04fc4a1b326c...   \n",
       "544402      NaN  document_parses/pdf_json/91351188e43719fe66f83...   \n",
       "544403      NaN  document_parses/pdf_json/612fef2d60ed24807bf9c...   \n",
       "544404      NaN  document_parses/pdf_json/645c9aec6eed5f1c1436a...   \n",
       "544405      NaN  document_parses/pdf_json/f8888e195680f58ab6a41...   \n",
       "\n",
       "                                      pmc_json_files  \\\n",
       "0         document_parses/pmc_json/PMC35282.xml.json   \n",
       "1         document_parses/pmc_json/PMC59543.xml.json   \n",
       "2         document_parses/pmc_json/PMC59549.xml.json   \n",
       "3         document_parses/pmc_json/PMC59574.xml.json   \n",
       "4         document_parses/pmc_json/PMC59580.xml.json   \n",
       "...                                              ...   \n",
       "544401  document_parses/pmc_json/PMC7343897.xml.json   \n",
       "544402                                           NaN   \n",
       "544403  document_parses/pmc_json/PMC7883258.xml.json   \n",
       "544404  document_parses/pmc_json/PMC7369786.xml.json   \n",
       "544405  document_parses/pmc_json/PMC7399153.xml.json   \n",
       "\n",
       "                                                      url        s2_id  \n",
       "0       https://www.ncbi.nlm.nih.gov/pmc/articles/PMC3...          NaN  \n",
       "1       https://www.ncbi.nlm.nih.gov/pmc/articles/PMC5...          NaN  \n",
       "2       https://www.ncbi.nlm.nih.gov/pmc/articles/PMC5...          NaN  \n",
       "3       https://www.ncbi.nlm.nih.gov/pmc/articles/PMC5...          NaN  \n",
       "4       https://www.ncbi.nlm.nih.gov/pmc/articles/PMC5...          NaN  \n",
       "...                                                   ...          ...  \n",
       "544401  https://doi.org/10.1007/s12571-020-01071-6; ht...  220417712.0  \n",
       "544402  https://www.sciencedirect.com/science/article/...  225041999.0  \n",
       "544403  https://doi.org/10.1111/ijcp.13919; https://ww...  228089464.0  \n",
       "544404  https://www.ncbi.nlm.nih.gov/pubmed/32635478/;...  220412134.0  \n",
       "544405  https://doi.org/10.1017/s0022215120001267; htt...  220308469.0  \n",
       "\n",
       "[396056 rows x 19 columns]"
      ]
     },
     "execution_count": 5,
     "metadata": {},
     "output_type": "execute_result"
    }
   ],
   "source": [
    "# Drop rows with null abstract\n",
    "metadata_df = metadata_df.loc[~pd.isna(metadata_df['abstract'])]\n",
    "metadata_df"
   ]
  },
  {
   "cell_type": "code",
   "execution_count": 6,
   "metadata": {},
   "outputs": [
    {
     "data": {
      "text/html": [
       "\n",
       "  <style>\n",
       "    pre {\n",
       "        white-space: pre-wrap;\n",
       "    }\n",
       "  </style>\n",
       "  "
      ],
      "text/plain": [
       "<IPython.core.display.HTML object>"
      ]
     },
     "metadata": {},
     "output_type": "display_data"
    },
    {
     "name": "stderr",
     "output_type": "stream",
     "text": [
      "<ipython-input-6-5b74b6154bb0>:1: SettingWithCopyWarning: \n",
      "A value is trying to be set on a copy of a slice from a DataFrame.\n",
      "Try using .loc[row_indexer,col_indexer] = value instead\n",
      "\n",
      "See the caveats in the documentation: https://pandas.pydata.org/pandas-docs/stable/user_guide/indexing.html#returning-a-view-versus-a-copy\n",
      "  metadata_df['publish_time'] = metadata_df['publish_time'].astype('datetime64')\n"
     ]
    },
    {
     "data": {
      "image/png": "[encoded data removed]",
      "text/plain": [
       "<Figure size 3600x3600 with 1 Axes>"
      ]
     },
     "metadata": {
      "needs_background": "light"
     },
     "output_type": "display_data"
    },
    {
     "data": {
      "image/png": "[encoded data removed]",
      "text/plain": [
       "<Figure size 3600x3600 with 1 Axes>"
      ]
     },
     "metadata": {
      "needs_background": "light"
     },
     "output_type": "display_data"
    }
   ],
   "source": [
    "metadata_df['publish_time'] = metadata_df['publish_time'].astype('datetime64')\n",
    "\n",
    "# Explore the number of published paperes along the years\n",
    "plt.figure(figsize=(50, 50))\n",
    "metadata_df['publish_time'].groupby([metadata_df['publish_time'].dt.year]).count().plot(kind='bar')\n",
    "plt.ylabel('Number of papers')\n",
    "plt.xlabel('Year')\n",
    "plt.show()\n",
    "\n",
    "# Explore the number of published paperes along the last years\n",
    "plt.figure(figsize=(50, 50))\n",
    "metadata_df.loc[metadata_df['publish_time'].dt.year >= 2019]['publish_time'].groupby([metadata_df['publish_time'].dt.year, metadata_df['publish_time'].dt.month]).count().plot(kind='bar')\n",
    "plt.ylabel('Number of papers')\n",
    "plt.xlabel('Year, Month')\n",
    "plt.show()"
   ]
  },
  {
   "cell_type": "code",
   "execution_count": 9,
   "metadata": {},
   "outputs": [
    {
     "data": {
      "text/html": [
       "\n",
       "  <style>\n",
       "    pre {\n",
       "        white-space: pre-wrap;\n",
       "    }\n",
       "  </style>\n",
       "  "
      ],
      "text/plain": [
       "<IPython.core.display.HTML object>"
      ]
     },
     "metadata": {},
     "output_type": "display_data"
    }
   ],
   "source": [
    "nlp = spacy.load('en_core_web_md')\n",
    "nlp.disable_pipe('parser')\n",
    "nlp.disable_pipe('ner')"
   ]
  },
  {
   "cell_type": "code",
   "execution_count": 10,
   "metadata": {},
   "outputs": [
    {
     "data": {
      "text/html": [
       "\n",
       "  <style>\n",
       "    pre {\n",
       "        white-space: pre-wrap;\n",
       "    }\n",
       "  </style>\n",
       "  "
      ],
      "text/plain": [
       "<IPython.core.display.HTML object>"
      ]
     },
     "metadata": {},
     "output_type": "display_data"
    },
    {
     "name": "stdout",
     "output_type": "stream",
     "text": [
      "==============================================================\n",
      "Safety protocols for dental practices in the COVID-19 era\n",
      "2020-01-01 00:00:00\n",
      "\n",
      "Aim Aim of this paper was to provide safety and operatory protocols for providing dental care during the COVID19 pandemic.Data sources The protocol is based on summarising the existing literature, published on different aspects of dealing with the pandemic situation. This protocol was established as an international collaboration among three dental universities: Hadassah School of Dental Medicine Israel, the University of Rochester Medical Centre USA, and the University of Pennsylvania USA. The details of the virus-transmission and its impact on dental care are discussed. Additionally, safety and operatory protocols for urgent and emergency dental care are detailed with a special focus on endodontic and surgical dental care.Conclusions A protocol detailing the safety and operatory measures to be taken while giving the dental care in the COVID-era is provided. The primary aim is to prevent any cross-contamination while allowing the provision of urgent and emergency dental care. Aerosol-producing and other elective procedures should be avoided.\n",
      "\n",
      "[Aim, Aim, of, this, paper, was, to, provide, safety, and, operatory, protocols, for, providing, dental, care, during, the, COVID19, pandemic, ., Data, sources, The, protocol, is, based, on, summarising, the, existing, literature, ,, published, on, different, aspects, of, dealing, with, the, pandemic, situation, ., This, protocol, was, established, as, an, international, collaboration, among, three, dental, universities, :, Hadassah, School, of, Dental, Medicine, Israel, ,, the, University, of, Rochester, Medical, Centre, USA, ,, and, the, University, of, Pennsylvania, USA, ., The, details, of, the, virus, -, transmission, and, its, impact, on, dental, care, are, discussed, ., Additionally, ,, safety, and, operatory, protocols, for, urgent, and, emergency, dental, care, are, detailed, with, a, special, focus, on, endodontic, and, surgical, dental, care, ., Conclusions, A, protocol, detailing, the, safety, and, operatory, measures, to, be, taken, while, giving, the, dental, care, in, the, COVID, -, era, is, provided, ., The, primary, aim, is, to, prevent, any, cross, -, contamination, while, allowing, the, provision, of, urgent, and, emergency, dental, care, ., Aerosol, -, producing, and, other, elective, procedures, should, be, avoided, .]\n",
      "\n",
      "['Aim', 'Aim', 'of', 'this', 'paper', 'be', 'to', 'provide', 'safety', 'and', 'operatory', 'protocol', 'for', 'provide', 'dental', 'care', 'during', 'the', 'covid19', 'pandemic', '.', 'datum', 'source', 'the', 'protocol', 'be', 'base', 'on', 'summarise', 'the', 'exist', 'literature', ',', 'publish', 'on', 'different', 'aspect', 'of', 'deal', 'with', 'the', 'pandemic', 'situation', '.', 'this', 'protocol', 'be', 'establish', 'as', 'an', 'international', 'collaboration', 'among', 'three', 'dental', 'university', ':', 'Hadassah', 'School', 'of', 'Dental', 'Medicine', 'Israel', ',', 'the', 'University', 'of', 'Rochester', 'Medical', 'Centre', 'USA', ',', 'and', 'the', 'University', 'of', 'Pennsylvania', 'USA', '.', 'the', 'detail', 'of', 'the', 'virus', '-', 'transmission', 'and', 'its', 'impact', 'on', 'dental', 'care', 'be', 'discuss', '.', 'additionally', ',', 'safety', 'and', 'operatory', 'protocol', 'for', 'urgent', 'and', 'emergency', 'dental', 'care', 'be', 'detail', 'with', 'a', 'special', 'focus', 'on', 'endodontic', 'and', 'surgical', 'dental', 'care', '.', 'conclusion', 'a', 'protocol', 'detail', 'the', 'safety', 'and', 'operatory', 'measure', 'to', 'be', 'take', 'while', 'give', 'the', 'dental', 'care', 'in', 'the', 'COVID', '-', 'era', 'be', 'provide', '.', 'the', 'primary', 'aim', 'be', 'to', 'prevent', 'any', 'cross', '-', 'contamination', 'while', 'allow', 'the', 'provision', 'of', 'urgent', 'and', 'emergency', 'dental', 'care', '.', 'aerosol', '-', 'produce', 'and', 'other', 'elective', 'procedure', 'should', 'be', 'avoid', '.']\n",
      "\n",
      "['PROPN', 'PROPN', 'ADP', 'DET', 'NOUN', 'VERB', 'PART', 'VERB', 'NOUN', 'CCONJ', 'NOUN', 'NOUN', 'ADP', 'VERB', 'ADJ', 'NOUN', 'ADP', 'DET', 'NOUN', 'NOUN', 'PUNCT', 'NOUN', 'NOUN', 'DET', 'NOUN', 'VERB', 'VERB', 'ADP', 'VERB', 'DET', 'VERB', 'NOUN', 'PUNCT', 'VERB', 'ADP', 'ADJ', 'NOUN', 'ADP', 'VERB', 'ADP', 'DET', 'ADJ', 'NOUN', 'PUNCT', 'DET', 'NOUN', 'VERB', 'VERB', 'ADP', 'DET', 'ADJ', 'NOUN', 'ADP', 'NUM', 'ADJ', 'NOUN', 'PUNCT', 'PROPN', 'PROPN', 'ADP', 'PROPN', 'PROPN', 'PROPN', 'PUNCT', 'DET', 'PROPN', 'ADP', 'PROPN', 'PROPN', 'PROPN', 'PROPN', 'PUNCT', 'CCONJ', 'DET', 'PROPN', 'ADP', 'PROPN', 'PROPN', 'PUNCT', 'DET', 'NOUN', 'ADP', 'DET', 'NOUN', 'PUNCT', 'NOUN', 'CCONJ', 'PRON', 'NOUN', 'ADP', 'ADJ', 'NOUN', 'VERB', 'VERB', 'PUNCT', 'ADV', 'PUNCT', 'NOUN', 'CCONJ', 'NOUN', 'NOUN', 'ADP', 'ADJ', 'CCONJ', 'NOUN', 'ADJ', 'NOUN', 'VERB', 'VERB', 'ADP', 'DET', 'ADJ', 'NOUN', 'ADP', 'ADJ', 'CCONJ', 'ADJ', 'ADJ', 'NOUN', 'PUNCT', 'NOUN', 'DET', 'NOUN', 'VERB', 'DET', 'NOUN', 'CCONJ', 'NOUN', 'NOUN', 'PART', 'VERB', 'VERB', 'SCONJ', 'VERB', 'DET', 'ADJ', 'NOUN', 'ADP', 'DET', 'PROPN', 'PUNCT', 'NOUN', 'VERB', 'VERB', 'PUNCT', 'DET', 'ADJ', 'NOUN', 'VERB', 'PART', 'VERB', 'DET', 'NOUN', 'NOUN', 'NOUN', 'SCONJ', 'VERB', 'DET', 'NOUN', 'ADP', 'ADJ', 'CCONJ', 'NOUN', 'ADJ', 'NOUN', 'PUNCT', 'NOUN', 'PUNCT', 'VERB', 'CCONJ', 'ADJ', 'ADJ', 'NOUN', 'AUX', 'VERB', 'VERB', 'PUNCT']\n",
      "\n",
      "==============================================================\n",
      "\n",
      "\n",
      "==============================================================\n",
      "Restrictive visitor policies: feedback from healthcare workers, patients and families.\n",
      "2003-01-01 00:00:00\n",
      "\n",
      "With the hospital-based transmission of Severe Acute Respiratory Syndrome (SARS) in Ontario, acute care hospitals severely restricted visitor access. Now that the SARS outbreak is under control, hospitals struggle with the balance between adhering to patient- and family-centred care models, and addressing the future threat of infectious diseases. To evaluate the effect of visitor restrictions and to guide future visitation policies, the Ottawa Hospital conducted a preliminary survey of patients, next of kin, staff, physicians and volunteers. Ninety percent of staff surveyed supported some form of visitor restrictions, while 71% indicated that they felt comfortable asking visitors to leave if they had exceeded current restrictions. The majority of patients (80%) and next of kin (76%) were at least moderately satisfied with current restricted limiting hours. A disproportionate number of positive comments on current visiting restrictions were received from both patients and staff. In the absence of evidence on which to base future visitor policy development, objective input from healthcare workers, patients and families is invaluable.\n",
      "\n",
      "[With, the, hospital, -, based, transmission, of, Severe, Acute, Respiratory, Syndrome, (, SARS, ), in, Ontario, ,, acute, care, hospitals, severely, restricted, visitor, access, ., Now, that, the, SARS, outbreak, is, under, control, ,, hospitals, struggle, with, the, balance, between, adhering, to, patient-, and, family, -, centred, care, models, ,, and, addressing, the, future, threat, of, infectious, diseases, ., To, evaluate, the, effect, of, visitor, restrictions, and, to, guide, future, visitation, policies, ,, the, Ottawa, Hospital, conducted, a, preliminary, survey, of, patients, ,, next, of, kin, ,, staff, ,, physicians, and, volunteers, ., Ninety, percent, of, staff, surveyed, supported, some, form, of, visitor, restrictions, ,, while, 71, %, indicated, that, they, felt, comfortable, asking, visitors, to, leave, if, they, had, exceeded, current, restrictions, ., The, majority, of, patients, (, 80, %, ), and, next, of, kin, (, 76, %, ), were, at, least, moderately, satisfied, with, current, restricted, limiting, hours, ., A, disproportionate, number, of, positive, comments, on, current, visiting, restrictions, were, received, from, both, patients, and, staff, ., In, the, absence, of, evidence, on, which, to, base, future, visitor, policy, development, ,, objective, input, from, healthcare, workers, ,, patients, and, families, is, invaluable, .]\n",
      "\n",
      "['with', 'the', 'hospital', '-', 'base', 'transmission', 'of', 'severe', 'Acute', 'Respiratory', 'Syndrome', '(', 'SARS', ')', 'in', 'Ontario', ',', 'acute', 'care', 'hospital', 'severely', 'restrict', 'visitor', 'access', '.', 'now', 'that', 'the', 'SARS', 'outbreak', 'be', 'under', 'control', ',', 'hospital', 'struggle', 'with', 'the', 'balance', 'between', 'adhere', 'to', 'patient-', 'and', 'family', '-', 'centre', 'care', 'model', ',', 'and', 'address', 'the', 'future', 'threat', 'of', 'infectious', 'disease', '.', 'to', 'evaluate', 'the', 'effect', 'of', 'visitor', 'restriction', 'and', 'to', 'guide', 'future', 'visitation', 'policy', ',', 'the', 'Ottawa', 'Hospital', 'conduct', 'a', 'preliminary', 'survey', 'of', 'patient', ',', 'next', 'of', 'kin', ',', 'staff', ',', 'physician', 'and', 'volunteer', '.', 'ninety', 'percent', 'of', 'staff', 'survey', 'support', 'some', 'form', 'of', 'visitor', 'restriction', ',', 'while', '71', '%', 'indicate', 'that', 'they', 'feel', 'comfortable', 'ask', 'visitor', 'to', 'leave', 'if', 'they', 'have', 'exceed', 'current', 'restriction', '.', 'the', 'majority', 'of', 'patient', '(', '80', '%', ')', 'and', 'next', 'of', 'kin', '(', '76', '%', ')', 'be', 'at', 'least', 'moderately', 'satisfied', 'with', 'current', 'restrict', 'limit', 'hour', '.', 'a', 'disproportionate', 'number', 'of', 'positive', 'comment', 'on', 'current', 'visit', 'restriction', 'be', 'receive', 'from', 'both', 'patient', 'and', 'staff', '.', 'in', 'the', 'absence', 'of', 'evidence', 'on', 'which', 'to', 'base', 'future', 'visitor', 'policy', 'development', ',', 'objective', 'input', 'from', 'healthcare', 'worker', ',', 'patient', 'and', 'family', 'be', 'invaluable', '.']\n",
      "\n",
      "['ADP', 'DET', 'NOUN', 'PUNCT', 'VERB', 'NOUN', 'ADP', 'ADJ', 'PROPN', 'PROPN', 'PROPN', 'PUNCT', 'PROPN', 'PUNCT', 'ADP', 'PROPN', 'PUNCT', 'ADJ', 'NOUN', 'NOUN', 'ADV', 'VERB', 'NOUN', 'NOUN', 'PUNCT', 'ADV', 'SCONJ', 'DET', 'PROPN', 'NOUN', 'VERB', 'ADP', 'NOUN', 'PUNCT', 'NOUN', 'VERB', 'ADP', 'DET', 'NOUN', 'ADP', 'VERB', 'ADP', 'VERB', 'CCONJ', 'NOUN', 'PUNCT', 'VERB', 'NOUN', 'NOUN', 'PUNCT', 'CCONJ', 'VERB', 'DET', 'ADJ', 'NOUN', 'ADP', 'ADJ', 'NOUN', 'PUNCT', 'PART', 'VERB', 'DET', 'NOUN', 'ADP', 'NOUN', 'NOUN', 'CCONJ', 'PART', 'VERB', 'ADJ', 'NOUN', 'NOUN', 'PUNCT', 'DET', 'PROPN', 'PROPN', 'VERB', 'DET', 'ADJ', 'NOUN', 'ADP', 'NOUN', 'PUNCT', 'ADV', 'ADP', 'NOUN', 'PUNCT', 'NOUN', 'PUNCT', 'NOUN', 'CCONJ', 'NOUN', 'PUNCT', 'NUM', 'NOUN', 'ADP', 'NOUN', 'VERB', 'VERB', 'DET', 'NOUN', 'ADP', 'NOUN', 'NOUN', 'PUNCT', 'SCONJ', 'NUM', 'NOUN', 'VERB', 'SCONJ', 'PRON', 'VERB', 'ADJ', 'VERB', 'NOUN', 'PART', 'VERB', 'SCONJ', 'PRON', 'VERB', 'VERB', 'ADJ', 'NOUN', 'PUNCT', 'DET', 'NOUN', 'ADP', 'NOUN', 'PUNCT', 'NUM', 'NOUN', 'PUNCT', 'CCONJ', 'ADV', 'ADP', 'NOUN', 'PUNCT', 'NUM', 'NOUN', 'PUNCT', 'VERB', 'ADV', 'ADJ', 'ADV', 'ADJ', 'ADP', 'ADJ', 'VERB', 'VERB', 'NOUN', 'PUNCT', 'DET', 'ADJ', 'NOUN', 'ADP', 'ADJ', 'NOUN', 'ADP', 'ADJ', 'VERB', 'NOUN', 'VERB', 'VERB', 'ADP', 'DET', 'NOUN', 'CCONJ', 'NOUN', 'PUNCT', 'ADP', 'DET', 'NOUN', 'ADP', 'NOUN', 'ADP', 'DET', 'PART', 'VERB', 'ADJ', 'NOUN', 'NOUN', 'NOUN', 'PUNCT', 'ADJ', 'NOUN', 'ADP', 'NOUN', 'NOUN', 'PUNCT', 'NOUN', 'CCONJ', 'NOUN', 'VERB', 'ADJ', 'PUNCT']\n",
      "\n",
      "==============================================================\n",
      "\n",
      "\n",
      "==============================================================\n",
      "Current progress in the development of a prophylactic vaccine for HIV-1\n",
      "2010-12-22 00:00:00\n",
      "\n",
      "Since its discovery and characterization in the early 1980s as a virus that attacks the immune system, there has been some success for the treatment of human immunodeficiency virus-1 (HIV-1) infection. However, due to the overwhelming public health impact of this virus, a vaccine is needed urgently. Despite the tireless efforts of scientist and clinicians, there is still no safe and effective vaccine that provides sterilizing immunity. A vaccine that provides sterilizing immunity against HIV infection remains elusive in part due to the following reasons: 1) degree of diversity of the virus, 2) ability of the virus to evade the hosts’ immunity, and 3) lack of appropriate animal models in which to test vaccine candidates. There have been several attempts to stimulate the immune system to provide protection against HIV-infection. Here, we will discuss attempts that have been made to induce sterilizing immunity, including traditional vaccination attempts, induction of broadly neutralizing antibody production, DNA vaccines, and use of viral vectors. Some of these attempts show promise pending continued research efforts.\n",
      "\n",
      "[Since, its, discovery, and, characterization, in, the, early, 1980s, as, a, virus, that, attacks, the, immune, system, ,, there, has, been, some, success, for, the, treatment, of, human, immunodeficiency, virus-1, (, HIV-1, ), infection, ., However, ,, due, to, the, overwhelming, public, health, impact, of, this, virus, ,, a, vaccine, is, needed, urgently, ., Despite, the, tireless, efforts, of, scientist, and, clinicians, ,, there, is, still, no, safe, and, effective, vaccine, that, provides, sterilizing, immunity, ., A, vaccine, that, provides, sterilizing, immunity, against, HIV, infection, remains, elusive, in, part, due, to, the, following, reasons, :, 1, ), degree, of, diversity, of, the, virus, ,, 2, ), ability, of, the, virus, to, evade, the, hosts, ’, immunity, ,, and, 3, ), lack, of, appropriate, animal, models, in, which, to, test, vaccine, candidates, ., There, have, been, several, attempts, to, stimulate, the, immune, system, to, provide, protection, against, HIV, -, infection, ., Here, ,, we, will, discuss, attempts, that, have, been, made, to, induce, sterilizing, immunity, ,, including, traditional, vaccination, attempts, ,, induction, of, broadly, neutralizing, antibody, production, ,, DNA, vaccines, ,, and, use, of, viral, vectors, ., Some, of, these, attempts, show, promise, pending, continued, research, efforts, .]\n",
      "\n",
      "['since', 'its', 'discovery', 'and', 'characterization', 'in', 'the', 'early', '1980', 'as', 'a', 'virus', 'that', 'attack', 'the', 'immune', 'system', ',', 'there', 'have', 'be', 'some', 'success', 'for', 'the', 'treatment', 'of', 'human', 'immunodeficiency', 'virus-1', '(', 'HIV-1', ')', 'infection', '.', 'however', ',', 'due', 'to', 'the', 'overwhelming', 'public', 'health', 'impact', 'of', 'this', 'virus', ',', 'a', 'vaccine', 'be', 'need', 'urgently', '.', 'despite', 'the', 'tireless', 'effort', 'of', 'scientist', 'and', 'clinician', ',', 'there', 'be', 'still', 'no', 'safe', 'and', 'effective', 'vaccine', 'that', 'provide', 'sterilize', 'immunity', '.', 'a', 'vaccine', 'that', 'provide', 'sterilize', 'immunity', 'against', 'HIV', 'infection', 'remain', 'elusive', 'in', 'part', 'due', 'to', 'the', 'following', 'reason', ':', '1', ')', 'degree', 'of', 'diversity', 'of', 'the', 'virus', ',', '2', ')', 'ability', 'of', 'the', 'virus', 'to', 'evade', 'the', 'host', '’', 'immunity', ',', 'and', '3', ')', 'lack', 'of', 'appropriate', 'animal', 'model', 'in', 'which', 'to', 'test', 'vaccine', 'candidate', '.', 'there', 'have', 'be', 'several', 'attempt', 'to', 'stimulate', 'the', 'immune', 'system', 'to', 'provide', 'protection', 'against', 'HIV', '-', 'infection', '.', 'here', ',', 'we', 'will', 'discuss', 'attempt', 'that', 'have', 'be', 'make', 'to', 'induce', 'sterilize', 'immunity', ',', 'include', 'traditional', 'vaccination', 'attempt', ',', 'induction', 'of', 'broadly', 'neutralize', 'antibody', 'production', ',', 'dna', 'vaccine', ',', 'and', 'use', 'of', 'viral', 'vector', '.', 'some', 'of', 'these', 'attempt', 'show', 'promise', 'pende', 'continued', 'research', 'effort', '.']\n",
      "\n",
      "['SCONJ', 'PRON', 'NOUN', 'CCONJ', 'NOUN', 'ADP', 'DET', 'ADJ', 'NOUN', 'ADP', 'DET', 'NOUN', 'DET', 'VERB', 'DET', 'ADJ', 'NOUN', 'PUNCT', 'PRON', 'VERB', 'VERB', 'DET', 'NOUN', 'ADP', 'DET', 'NOUN', 'ADP', 'ADJ', 'NOUN', 'PROPN', 'PUNCT', 'PROPN', 'PUNCT', 'NOUN', 'PUNCT', 'ADV', 'PUNCT', 'ADP', 'ADP', 'DET', 'ADJ', 'ADJ', 'NOUN', 'NOUN', 'ADP', 'DET', 'NOUN', 'PUNCT', 'DET', 'NOUN', 'VERB', 'VERB', 'ADV', 'PUNCT', 'SCONJ', 'DET', 'ADJ', 'NOUN', 'ADP', 'NOUN', 'CCONJ', 'NOUN', 'PUNCT', 'PRON', 'VERB', 'ADV', 'DET', 'ADJ', 'CCONJ', 'ADJ', 'NOUN', 'DET', 'VERB', 'VERB', 'NOUN', 'PUNCT', 'DET', 'NOUN', 'DET', 'VERB', 'VERB', 'NOUN', 'ADP', 'PROPN', 'NOUN', 'VERB', 'ADJ', 'ADP', 'NOUN', 'ADP', 'ADP', 'DET', 'ADJ', 'NOUN', 'PUNCT', 'X', 'PUNCT', 'NOUN', 'ADP', 'NOUN', 'ADP', 'DET', 'NOUN', 'PUNCT', 'NUM', 'PUNCT', 'NOUN', 'ADP', 'DET', 'NOUN', 'PART', 'VERB', 'DET', 'NOUN', 'PART', 'NOUN', 'PUNCT', 'CCONJ', 'X', 'PUNCT', 'NOUN', 'ADP', 'ADJ', 'NOUN', 'NOUN', 'ADP', 'DET', 'PART', 'VERB', 'NOUN', 'NOUN', 'PUNCT', 'PRON', 'VERB', 'VERB', 'ADJ', 'NOUN', 'PART', 'VERB', 'DET', 'ADJ', 'NOUN', 'PART', 'VERB', 'NOUN', 'ADP', 'PROPN', 'PUNCT', 'NOUN', 'PUNCT', 'ADV', 'PUNCT', 'PRON', 'AUX', 'VERB', 'NOUN', 'DET', 'VERB', 'VERB', 'VERB', 'PART', 'VERB', 'VERB', 'NOUN', 'PUNCT', 'VERB', 'ADJ', 'NOUN', 'NOUN', 'PUNCT', 'NOUN', 'ADP', 'ADV', 'VERB', 'NOUN', 'NOUN', 'PUNCT', 'NOUN', 'NOUN', 'PUNCT', 'CCONJ', 'NOUN', 'ADP', 'ADJ', 'NOUN', 'PUNCT', 'DET', 'ADP', 'DET', 'NOUN', 'VERB', 'NOUN', 'VERB', 'ADJ', 'NOUN', 'NOUN', 'PUNCT']\n",
      "\n",
      "==============================================================\n",
      "\n",
      "\n",
      "==============================================================\n",
      "Measurement of novel biomarkers of neuronal injury and cerebral oxygenation after routine vaginal delivery versus cesarean section in term infants.\n",
      "2014-01-01 00:00:00\n",
      "\n",
      "AIMS It remains unclear if mode of delivery can have any impact on the neonatal brain. Our aim was to determine in term newborns any differences based on mode of delivery in either neuronal injury biomarkers, phosphorylated axonal neurofilament heavy chain (pNF-H) and ubiquitin C-terminal hydrolase (UCHL1), or brain oxygenation values, regional cerebral tissue oxygen saturation (CrSO2) and cerebral fractional tissue oxygen extraction (CFOE). METHODS An Institutional Review Board approved prospective observational pilot study of well newborns. Serum pNF-H and UCHL1 levels were measured on the day following delivery. CrSO2 values along with CFOE values were also measured using near-infrared spectroscopy (NIRS) and pulse oximetry. RESULTS There were 22 subjects, 15 born vaginally and seven born by cesarean section. No difference was found in mean pNF-H (107.9±54.3 pg/mL vs. 120.2±43.3 pg/mL, P=0.66) or mean UCHL1 (4.0±3.5 pg/mL vs. 3.0±2.2 pg/mL, P=0.68). No difference was found in mean CrSO2 (80.8±5.3% vs. 80.8±5.6%, P=0.99) or mean CFOE (0.17±0.06 vs. 0.15±0.08, P=0.51). CONCLUSIONS We found no difference in neuronal injury markers between term neonates born vaginally compared to those born by cesarean section. From a neurologic standpoint, this supports current obstetric practice guidelines that emphasize vaginal birth as the preferred delivery method whenever possible.\n",
      "\n",
      "[AIMS, It, remains, unclear, if, mode, of, delivery, can, have, any, impact, on, the, neonatal, brain, ., Our, aim, was, to, determine, in, term, newborns, any, differences, based, on, mode, of, delivery, in, either, neuronal, injury, biomarkers, ,, phosphorylated, axonal, neurofilament, heavy, chain, (, pNF, -, H, ), and, ubiquitin, C, -, terminal, hydrolase, (, UCHL1, ), ,, or, brain, oxygenation, values, ,, regional, cerebral, tissue, oxygen, saturation, (, CrSO2, ), and, cerebral, fractional, tissue, oxygen, extraction, (, CFOE, ), ., METHODS, An, Institutional, Review, Board, approved, prospective, observational, pilot, study, of, well, newborns, ., Serum, pNF, -, H, and, UCHL1, levels, were, measured, on, the, day, following, delivery, ., CrSO2, values, along, with, CFOE, values, were, also, measured, using, near, -, infrared, spectroscopy, (, NIRS, ), and, pulse, oximetry, ., RESULTS, There, were, 22, subjects, ,, 15, born, vaginally, and, seven, born, by, cesarean, section, ., No, difference, was, found, in, mean, pNF, -, H, (, 107.9±54.3, pg, /, mL, vs., 120.2±43.3, pg, /, mL, ,, P=0.66, ), or, mean, UCHL1, (, 4.0±3.5, pg, /, mL, vs., 3.0±2.2, pg, /, mL, ,, P=0.68, ), ., No, difference, was, found, in, mean, CrSO2, (, 80.8±5.3, %, vs., 80.8±5.6, %, ,, P=0.99, ), or, mean, CFOE, (, 0.17±0.06, vs., 0.15±0.08, ,, P=0.51, ), ., CONCLUSIONS, We, found, no, difference, in, neuronal, injury, markers, between, term, neonates, born, vaginally, compared, to, those, born, by, cesarean, section, ., From, a, neurologic, standpoint, ,, this, supports, current, obstetric, practice, guidelines, that, emphasize, vaginal, birth, as, the, preferred, delivery, method, whenever, possible, .]\n",
      "\n",
      "['aim', 'it', 'remain', 'unclear', 'if', 'mode', 'of', 'delivery', 'can', 'have', 'any', 'impact', 'on', 'the', 'neonatal', 'brain', '.', 'our', 'aim', 'be', 'to', 'determine', 'in', 'term', 'newborn', 'any', 'difference', 'base', 'on', 'mode', 'of', 'delivery', 'in', 'either', 'neuronal', 'injury', 'biomarker', ',', 'phosphorylate', 'axonal', 'neurofilament', 'heavy', 'chain', '(', 'pNF', '-', 'h', ')', 'and', 'ubiquitin', 'c', '-', 'terminal', 'hydrolase', '(', 'UCHL1', ')', ',', 'or', 'brain', 'oxygenation', 'value', ',', 'regional', 'cerebral', 'tissue', 'oxygen', 'saturation', '(', 'CrSO2', ')', 'and', 'cerebral', 'fractional', 'tissue', 'oxygen', 'extraction', '(', 'CFOE', ')', '.', 'METHODS', 'An', 'Institutional', 'Review', 'Board', 'approve', 'prospective', 'observational', 'pilot', 'study', 'of', 'well', 'newborn', '.', 'serum', 'pNF', '-', 'H', 'and', 'UCHL1', 'level', 'be', 'measure', 'on', 'the', 'day', 'follow', 'delivery', '.', 'crso2', 'value', 'along', 'with', 'CFOE', 'value', 'be', 'also', 'measure', 'use', 'near', '-', 'infrare', 'spectroscopy', '(', 'NIRS', ')', 'and', 'pulse', 'oximetry', '.', 'result', 'there', 'be', '22', 'subject', ',', '15', 'bear', 'vaginally', 'and', 'seven', 'bear', 'by', 'cesarean', 'section', '.', 'no', 'difference', 'be', 'find', 'in', 'mean', 'pNF', '-', 'H', '(', '107.9±54.3', 'pg', '/', 'ml', 'vs.', '120.2±43.3', 'pg', '/', 'ml', ',', 'P=0.66', ')', 'or', 'mean', 'UCHL1', '(', '4.0±3.5', 'pg', '/', 'ml', 'vs.', '3.0±2.2', 'pg', '/', 'ml', ',', 'P=0.68', ')', '.', 'no', 'difference', 'be', 'find', 'in', 'mean', 'CrSO2', '(', '80.8±5.3', '%', 'vs.', '80.8±5.6', '%', ',', 'P=0.99', ')', 'or', 'mean', 'CFOE', '(', '0.17±0.06', 'vs.', '0.15±0.08', ',', 'P=0.51', ')', '.', 'conclusion', 'we', 'find', 'no', 'difference', 'in', 'neuronal', 'injury', 'marker', 'between', 'term', 'neonate', 'bear', 'vaginally', 'compare', 'to', 'those', 'bear', 'by', 'cesarean', 'section', '.', 'from', 'a', 'neurologic', 'standpoint', ',', 'this', 'support', 'current', 'obstetric', 'practice', 'guideline', 'that', 'emphasize', 'vaginal', 'birth', 'as', 'the', 'preferred', 'delivery', 'method', 'whenever', 'possible', '.']\n",
      "\n",
      "['VERB', 'PRON', 'VERB', 'ADJ', 'SCONJ', 'NOUN', 'ADP', 'NOUN', 'AUX', 'VERB', 'DET', 'NOUN', 'ADP', 'DET', 'ADJ', 'NOUN', 'PUNCT', 'PRON', 'NOUN', 'VERB', 'PART', 'VERB', 'ADP', 'NOUN', 'NOUN', 'DET', 'NOUN', 'VERB', 'ADP', 'NOUN', 'ADP', 'NOUN', 'ADP', 'CCONJ', 'ADJ', 'NOUN', 'NOUN', 'PUNCT', 'VERB', 'ADJ', 'NOUN', 'ADJ', 'NOUN', 'PUNCT', 'PROPN', 'PUNCT', 'NOUN', 'PUNCT', 'CCONJ', 'NOUN', 'NOUN', 'PUNCT', 'ADJ', 'NOUN', 'PUNCT', 'PROPN', 'PUNCT', 'PUNCT', 'CCONJ', 'NOUN', 'NOUN', 'NOUN', 'PUNCT', 'ADJ', 'ADJ', 'NOUN', 'NOUN', 'NOUN', 'PUNCT', 'PROPN', 'PUNCT', 'CCONJ', 'ADJ', 'ADJ', 'NOUN', 'NOUN', 'NOUN', 'PUNCT', 'PROPN', 'PUNCT', 'PUNCT', 'PROPN', 'PROPN', 'PROPN', 'PROPN', 'PROPN', 'VERB', 'ADJ', 'ADJ', 'NOUN', 'NOUN', 'ADP', 'ADJ', 'NOUN', 'PUNCT', 'VERB', 'PROPN', 'PUNCT', 'PROPN', 'CCONJ', 'PROPN', 'NOUN', 'VERB', 'VERB', 'ADP', 'DET', 'NOUN', 'VERB', 'NOUN', 'PUNCT', 'ADJ', 'NOUN', 'ADV', 'ADP', 'PROPN', 'NOUN', 'VERB', 'ADV', 'VERB', 'VERB', 'ADV', 'PUNCT', 'VERB', 'NOUN', 'PUNCT', 'PROPN', 'PUNCT', 'CCONJ', 'NOUN', 'NOUN', 'PUNCT', 'NOUN', 'PRON', 'VERB', 'NUM', 'NOUN', 'PUNCT', 'NUM', 'VERB', 'ADV', 'CCONJ', 'NUM', 'VERB', 'ADP', 'ADJ', 'NOUN', 'PUNCT', 'DET', 'NOUN', 'VERB', 'VERB', 'ADP', 'VERB', 'PROPN', 'PUNCT', 'PROPN', 'PUNCT', 'NUM', 'NOUN', 'SYM', 'NOUN', 'ADP', 'NUM', 'NOUN', 'SYM', 'NOUN', 'PUNCT', 'PROPN', 'PUNCT', 'CCONJ', 'VERB', 'PROPN', 'PUNCT', 'NUM', 'NOUN', 'SYM', 'NOUN', 'X', 'NUM', 'PROPN', 'SYM', 'NOUN', 'PUNCT', 'PROPN', 'PUNCT', 'PUNCT', 'DET', 'NOUN', 'VERB', 'VERB', 'ADP', 'ADJ', 'PROPN', 'PUNCT', 'NUM', 'NOUN', 'ADP', 'NUM', 'NOUN', 'PUNCT', 'PROPN', 'PUNCT', 'CCONJ', 'VERB', 'PROPN', 'PUNCT', 'PROPN', 'ADP', 'PROPN', 'PUNCT', 'PROPN', 'PUNCT', 'PUNCT', 'NOUN', 'PRON', 'VERB', 'DET', 'NOUN', 'ADP', 'ADJ', 'NOUN', 'NOUN', 'ADP', 'NOUN', 'NOUN', 'VERB', 'ADV', 'VERB', 'ADP', 'DET', 'VERB', 'ADP', 'ADJ', 'NOUN', 'PUNCT', 'ADP', 'DET', 'ADJ', 'NOUN', 'PUNCT', 'DET', 'VERB', 'ADJ', 'ADJ', 'NOUN', 'NOUN', 'DET', 'VERB', 'ADJ', 'NOUN', 'ADP', 'DET', 'ADJ', 'NOUN', 'NOUN', 'ADV', 'ADJ', 'PUNCT']\n",
      "\n",
      "==============================================================\n",
      "\n",
      "\n",
      "==============================================================\n",
      "Clinical and surgical assistance in prostate cancer during the COVID-19 Pandemic: implementation of assistance protocols\n",
      "2020-01-01 00:00:00\n",
      "\n",
      "ABSTRACT Purpose: Propose an approach of prostate cancer (PCa) patients during COVID-19 pandemic Material and Methods: We conducted a review of current literature related to surgical and clinical management of patients during COVID-19 crisis paying special attention to oncological ones and especially those suffering from PCa Based on these publications and current urological guidelines, a manual to manage PCa patients is suggested Results: Patients suffering from cancer are likely to develop serious complications from COVID-19 disease together with an increased risk of postoperative morbidity and mortality Therefore, the management of oncological patients should be taken into special consideration and most of the treatments postponed In case the procedure is not deferrable, it should be adapted to the current situation While the shortest radiotherapy (RT) regimens should be applied, surgical procedures must undergo the following recommendations proposed by main surgical associations PCa prognosis is generally favourable and therefore one can safely delay most of the biopsies up to 6 months without interfering with survival outcomes in the vast majority of cases In the same way, most of the localised PCa patients are suitable for active surveillance (AS) or hormonal therapy until local definitive treatment could be reconsidered In metastatic as well as castration resistant PCa stages, adding androgen receptor targeted agents (abiraterone, apalutamide, darolutamide or enzalutamide) to androgen-deprivation therapy (ADT) could be considered in high risk patients On the contrary, chemotherapy, immunotherapy and Radium-223 must be avoided with regard to the consequence of hematologic toxicity and risk of COVID-19 infection because of immunodepression Conclusions: Most of the biopsies should be delayed while AS is advised in those patients with low risk PCa ADT allows us to defer definitive local treatment in many cases of intermediate and high risk PCa In regard to metastatic and castration resistant PCa, combination therapies with abiraterone, apalutamide, darolutamide or enzalutamide could be considered Chemotherapy, Radium-223 and immunotherapy are discouraged\n",
      "\n",
      "[ABSTRACT, Purpose, :, Propose, an, approach, of, prostate, cancer, (, PCa, ), patients, during, COVID-19, pandemic, Material, and, Methods, :, We, conducted, a, review, of, current, literature, related, to, surgical, and, clinical, management, of, patients, during, COVID-19, crisis, paying, special, attention, to, oncological, ones, and, especially, those, suffering, from, PCa, Based, on, these, publications, and, current, urological, guidelines, ,, a, manual, to, manage, PCa, patients, is, suggested, Results, :, Patients, suffering, from, cancer, are, likely, to, develop, serious, complications, from, COVID-19, disease, together, with, an, increased, risk, of, postoperative, morbidity, and, mortality, Therefore, ,, the, management, of, oncological, patients, should, be, taken, into, special, consideration, and, most, of, the, treatments, postponed, In, case, the, procedure, is, not, deferrable, ,, it, should, be, adapted, to, the, current, situation, While, the, shortest, radiotherapy, (, RT, ), regimens, should, be, applied, ,, surgical, procedures, must, undergo, the, following, recommendations, proposed, by, main, surgical, associations, PCa, prognosis, is, generally, favourable, and, therefore, one, can, safely, delay, most, of, the, biopsies, up, to, 6, months, without, interfering, with, survival, outcomes, in, the, vast, majority, of, cases, In, the, same, way, ,, most, of, the, localised, PCa, patients, are, suitable, for, active, surveillance, (, AS, ), or, hormonal, therapy, until, local, definitive, treatment, could, be, reconsidered, In, metastatic, as, well, as, castration, resistant, PCa, stages, ,, adding, androgen, receptor, targeted, agents, (, abiraterone, ,, apalutamide, ,, darolutamide, or, enzalutamide, ), to, androgen, -, deprivation, therapy, (, ADT, ), could, be, considered, in, high, risk, patients, On, the, contrary, ,, chemotherapy, ,, immunotherapy, and, Radium-223, must, be, avoided, with, regard, to, the, consequence, of, hematologic, toxicity, and, risk, of, COVID-19, infection, because, of, immunodepression, Conclusions, :, Most, of, the, biopsies, should, be, delayed, while, AS, is, advised, in, those, patients, with, low, risk, PCa, ADT, allows, us, to, defer, definitive, local, treatment, in, many, cases, of, intermediate, and, high, risk, PCa, In, regard, to, metastatic, and, castration, resistant, PCa, ,, combination, therapies, with, abiraterone, ,, apalutamide, ,, darolutamide, or, enzalutamide, could, be, considered, Chemotherapy, ,, Radium-223, and, immunotherapy, are, discouraged]\n",
      "\n",
      "['ABSTRACT', 'purpose', ':', 'propose', 'an', 'approach', 'of', 'prostate', 'cancer', '(', 'PCa', ')', 'patient', 'during', 'covid-19', 'pandemic', 'material', 'and', 'method', ':', 'we', 'conduct', 'a', 'review', 'of', 'current', 'literature', 'relate', 'to', 'surgical', 'and', 'clinical', 'management', 'of', 'patient', 'during', 'covid-19', 'crisis', 'pay', 'special', 'attention', 'to', 'oncological', 'one', 'and', 'especially', 'those', 'suffer', 'from', 'PCa', 'base', 'on', 'these', 'publication', 'and', 'current', 'urological', 'guideline', ',', 'a', 'manual', 'to', 'manage', 'PCa', 'patient', 'be', 'suggest', 'result', ':', 'patient', 'suffer', 'from', 'cancer', 'be', 'likely', 'to', 'develop', 'serious', 'complication', 'from', 'covid-19', 'disease', 'together', 'with', 'an', 'increase', 'risk', 'of', 'postoperative', 'morbidity', 'and', 'mortality', 'therefore', ',', 'the', 'management', 'of', 'oncological', 'patient', 'should', 'be', 'take', 'into', 'special', 'consideration', 'and', 'most', 'of', 'the', 'treatment', 'postpone', 'in', 'case', 'the', 'procedure', 'be', 'not', 'deferrable', ',', 'it', 'should', 'be', 'adapt', 'to', 'the', 'current', 'situation', 'while', 'the', 'short', 'radiotherapy', '(', 'RT', ')', 'regimen', 'should', 'be', 'apply', ',', 'surgical', 'procedure', 'must', 'undergo', 'the', 'following', 'recommendation', 'propose', 'by', 'main', 'surgical', 'association', 'PCa', 'prognosis', 'be', 'generally', 'favourable', 'and', 'therefore', 'one', 'can', 'safely', 'delay', 'most', 'of', 'the', 'biopsy', 'up', 'to', '6', 'month', 'without', 'interfere', 'with', 'survival', 'outcome', 'in', 'the', 'vast', 'majority', 'of', 'case', 'in', 'the', 'same', 'way', ',', 'most', 'of', 'the', 'localise', 'PCa', 'patient', 'be', 'suitable', 'for', 'active', 'surveillance', '(', 'AS', ')', 'or', 'hormonal', 'therapy', 'until', 'local', 'definitive', 'treatment', 'could', 'be', 'reconsider', 'in', 'metastatic', 'as', 'well', 'as', 'castration', 'resistant', 'PCa', 'stage', ',', 'add', 'androgen', 'receptor', 'target', 'agent', '(', 'abiraterone', ',', 'apalutamide', ',', 'darolutamide', 'or', 'enzalutamide', ')', 'to', 'androgen', '-', 'deprivation', 'therapy', '(', 'ADT', ')', 'could', 'be', 'consider', 'in', 'high', 'risk', 'patient', 'on', 'the', 'contrary', ',', 'chemotherapy', ',', 'immunotherapy', 'and', 'Radium-223', 'must', 'be', 'avoid', 'with', 'regard', 'to', 'the', 'consequence', 'of', 'hematologic', 'toxicity', 'and', 'risk', 'of', 'covid-19', 'infection', 'because', 'of', 'immunodepression', 'conclusion', ':', 'Most', 'of', 'the', 'biopsy', 'should', 'be', 'delay', 'while', 'AS', 'be', 'advise', 'in', 'those', 'patient', 'with', 'low', 'risk', 'PCa', 'ADT', 'allow', 'we', 'to', 'defer', 'definitive', 'local', 'treatment', 'in', 'many', 'case', 'of', 'intermediate', 'and', 'high', 'risk', 'PCa', 'in', 'regard', 'to', 'metastatic', 'and', 'castration', 'resistant', 'PCa', ',', 'combination', 'therapy', 'with', 'abiraterone', ',', 'apalutamide', ',', 'darolutamide', 'or', 'enzalutamide', 'could', 'be', 'consider', 'chemotherapy', ',', 'Radium-223', 'and', 'immunotherapy', 'be', 'discourage']\n",
      "\n",
      "['PROPN', 'NOUN', 'PUNCT', 'VERB', 'DET', 'NOUN', 'ADP', 'NOUN', 'NOUN', 'PUNCT', 'NOUN', 'PUNCT', 'NOUN', 'ADP', 'NOUN', 'ADJ', 'NOUN', 'CCONJ', 'NOUN', 'PUNCT', 'PRON', 'VERB', 'DET', 'NOUN', 'ADP', 'ADJ', 'NOUN', 'VERB', 'ADP', 'ADJ', 'CCONJ', 'ADJ', 'NOUN', 'ADP', 'NOUN', 'ADP', 'NOUN', 'NOUN', 'VERB', 'ADJ', 'NOUN', 'ADP', 'ADJ', 'NOUN', 'CCONJ', 'ADV', 'DET', 'VERB', 'ADP', 'NOUN', 'VERB', 'ADP', 'DET', 'NOUN', 'CCONJ', 'ADJ', 'ADJ', 'NOUN', 'PUNCT', 'DET', 'NOUN', 'PART', 'VERB', 'NOUN', 'NOUN', 'VERB', 'VERB', 'NOUN', 'PUNCT', 'NOUN', 'VERB', 'ADP', 'NOUN', 'VERB', 'ADJ', 'PART', 'VERB', 'ADJ', 'NOUN', 'ADP', 'NOUN', 'NOUN', 'ADV', 'ADP', 'DET', 'VERB', 'NOUN', 'ADP', 'ADJ', 'NOUN', 'CCONJ', 'NOUN', 'ADV', 'PUNCT', 'DET', 'NOUN', 'ADP', 'ADJ', 'NOUN', 'AUX', 'VERB', 'VERB', 'ADP', 'ADJ', 'NOUN', 'CCONJ', 'ADJ', 'ADP', 'DET', 'NOUN', 'VERB', 'ADP', 'NOUN', 'DET', 'NOUN', 'VERB', 'PART', 'ADJ', 'PUNCT', 'PRON', 'AUX', 'VERB', 'VERB', 'ADP', 'DET', 'ADJ', 'NOUN', 'SCONJ', 'DET', 'ADJ', 'NOUN', 'PUNCT', 'PROPN', 'PUNCT', 'NOUN', 'AUX', 'VERB', 'VERB', 'PUNCT', 'ADJ', 'NOUN', 'AUX', 'VERB', 'DET', 'ADJ', 'NOUN', 'VERB', 'ADP', 'ADJ', 'ADJ', 'NOUN', 'NOUN', 'NOUN', 'VERB', 'ADV', 'ADJ', 'CCONJ', 'ADV', 'PRON', 'AUX', 'ADV', 'VERB', 'ADJ', 'ADP', 'DET', 'NOUN', 'ADV', 'ADP', 'NUM', 'NOUN', 'ADP', 'VERB', 'ADP', 'NOUN', 'NOUN', 'ADP', 'DET', 'ADJ', 'NOUN', 'ADP', 'NOUN', 'ADP', 'DET', 'ADJ', 'NOUN', 'PUNCT', 'ADJ', 'ADP', 'DET', 'VERB', 'NOUN', 'NOUN', 'VERB', 'ADJ', 'ADP', 'ADJ', 'NOUN', 'PUNCT', 'PROPN', 'PUNCT', 'CCONJ', 'ADJ', 'NOUN', 'ADP', 'ADJ', 'ADJ', 'NOUN', 'AUX', 'VERB', 'VERB', 'ADP', 'NOUN', 'ADV', 'ADV', 'ADP', 'NOUN', 'ADJ', 'NOUN', 'NOUN', 'PUNCT', 'VERB', 'NOUN', 'NOUN', 'VERB', 'NOUN', 'PUNCT', 'NOUN', 'PUNCT', 'NOUN', 'PUNCT', 'NOUN', 'CCONJ', 'NOUN', 'PUNCT', 'ADP', 'NOUN', 'PUNCT', 'NOUN', 'NOUN', 'PUNCT', 'PROPN', 'PUNCT', 'AUX', 'VERB', 'VERB', 'ADP', 'ADJ', 'NOUN', 'NOUN', 'ADP', 'DET', 'ADJ', 'PUNCT', 'NOUN', 'PUNCT', 'NOUN', 'CCONJ', 'PROPN', 'AUX', 'VERB', 'VERB', 'ADP', 'NOUN', 'ADP', 'DET', 'NOUN', 'ADP', 'NOUN', 'NOUN', 'CCONJ', 'NOUN', 'ADP', 'NOUN', 'NOUN', 'SCONJ', 'ADP', 'NOUN', 'NOUN', 'PUNCT', 'ADJ', 'ADP', 'DET', 'NOUN', 'AUX', 'VERB', 'VERB', 'SCONJ', 'PROPN', 'VERB', 'VERB', 'ADP', 'DET', 'NOUN', 'ADP', 'ADJ', 'NOUN', 'NOUN', 'PROPN', 'VERB', 'PRON', 'PART', 'VERB', 'ADJ', 'ADJ', 'NOUN', 'ADP', 'ADJ', 'NOUN', 'ADP', 'ADJ', 'CCONJ', 'ADJ', 'NOUN', 'NOUN', 'ADP', 'NOUN', 'ADP', 'NOUN', 'CCONJ', 'NOUN', 'ADJ', 'NOUN', 'PUNCT', 'NOUN', 'NOUN', 'ADP', 'NOUN', 'PUNCT', 'ADJ', 'PUNCT', 'NOUN', 'CCONJ', 'NOUN', 'AUX', 'VERB', 'VERB', 'NOUN', 'PUNCT', 'PROPN', 'CCONJ', 'ADV', 'VERB', 'VERB']\n",
      "\n",
      "==============================================================\n",
      "\n",
      "\n",
      "==============================================================\n",
      "Lesson by SARS-CoV-2 disease (COVID-19): whole-body CT angiography detection of \"relevant\" and \"other/incidental\" systemic vascular findings\n",
      "2021-01-01 00:00:00\n",
      "\n",
      "OBJECTIVES: Increasing evidence suggests that SARS-CoV-2 infection may lead to severe and multi-site vascular involvement. Our study aimed at assessing the frequency of vascular and extravascular events' distribution in a retrospective cohort of 42 COVID-19 patients. METHODS: Patients were evaluated by whole-body CT angiography between March 16 and April 30, 2020. Twenty-three out of the 42 patients evaluated were admitted to the intensive care unit (ICU). Vascular and extravascular findings were categorized into \"relevant\" or \"other/incidental,\" first referring to the need for immediate patient care and management. Student T-test, Mann-Whitney U test, or Fisher exact test was used to compare study groups, where appropriate. RESULTS: Relevant vascular events were recorded in 71.4% of cases (n = 30). Pulmonary embolism was the most frequent in both ICU and non-ICU cases (56.5% vs. 10.5%, p = 0.002). Ischemic infarctions at several sites such as the gut, spleen, liver, brain, and kidney were detected (n = 20), with multi-site involvement in some cases. Systemic venous thrombosis occurred in 30.9% of cases compared to 7.1% of systemic arterial events, the first being significantly higher in ICU patients (p = 0.002). Among incidental findings, small-sized splanchnic arterial aneurysms were reported in 21.4% of the study population, with no significant differences in ICU and non-ICU patients. CONCLUSIONS: Vascular involvement is not negligible in COVID-19 and should be carefully investigated as it may significantly affect disease behavior and prognosis. KEY POINTS: â¢ Relevant vascular events were recorded in 71.4% of the study population, with pulmonary embolism being the most frequent event in ICU and non-ICU cases. â¢ Apart from the lung, other organs such as the gut, spleen, liver, brain, and kidneys were involved with episodes of ischemic infarction. Systemic venous and arterial thrombosis occurred in 30.9% and 7.1% of cases, respectively, with venous events being significantly higher in ICU patients (p = 0.002). â¢ Among incidental findings, small-sized splanchnic arterial aneurysms were reported in 21.4% of the whole population.\n",
      "\n",
      "[OBJECTIVES, :, Increasing, evidence, suggests, that, SARS, -, CoV-2, infection, may, lead, to, severe, and, multi, -, site, vascular, involvement, ., Our, study, aimed, at, assessing, the, frequency, of, vascular, and, extravascular, events, ', distribution, in, a, retrospective, cohort, of, 42, COVID-19, patients, ., METHODS, :, Patients, were, evaluated, by, whole, -, body, CT, angiography, between, March, 16, and, April, 30, ,, 2020, ., Twenty, -, three, out, of, the, 42, patients, evaluated, were, admitted, to, the, intensive, care, unit, (, ICU, ), ., Vascular, and, extravascular, findings, were, categorized, into, \", relevant, \", or, \", other, /, incidental, ,, \", first, referring, to, the, need, for, immediate, patient, care, and, management, ., Student, T, -, test, ,, Mann, -, Whitney, U, test, ,, or, Fisher, exact, test, was, used, to, compare, study, groups, ,, where, appropriate, ., RESULTS, :, Relevant, vascular, events, were, recorded, in, 71.4, %, of, cases, (, n, =, 30, ), ., Pulmonary, embolism, was, the, most, frequent, in, both, ICU, and, non, -, ICU, cases, (, 56.5, %, vs., 10.5, %, ,, p, =, 0.002, ), ., Ischemic, infarctions, at, several, sites, such, as, the, gut, ,, spleen, ,, liver, ,, brain, ,, and, kidney, were, detected, (, n, =, 20, ), ,, with, multi, -, site, involvement, in, some, cases, ., Systemic, venous, thrombosis, occurred, in, 30.9, %, of, cases, compared, to, 7.1, %, of, systemic, arterial, events, ,, the, first, being, significantly, higher, in, ICU, patients, (, p, =, 0.002, ), ., Among, incidental, findings, ,, small, -, sized, splanchnic, arterial, aneurysms, were, reported, in, 21.4, %, of, the, study, population, ,, with, no, significant, differences, in, ICU, and, non, -, ICU, patients, ., CONCLUSIONS, :, Vascular, involvement, is, not, negligible, in, COVID-19, and, should, be, carefully, investigated, as, it, may, significantly, affect, disease, behavior, and, prognosis, ., KEY, POINTS, :, â¢, Relevant, vascular, events, were, recorded, in, 71.4, %, of, the, study, population, ,, with, pulmonary, embolism, being, the, most, frequent, event, in, ICU, and, non, -, ICU, cases, ., â¢, Apart, from, the, lung, ,, other, organs, such, as, the, gut, ,, spleen, ,, liver, ,, brain, ,, and, kidneys, were, involved, with, episodes, of, ischemic, infarction, ., Systemic, venous, and, arterial, thrombosis, occurred, in, 30.9, %, and, 7.1, %, of, cases, ,, respectively, ,, with, venous, events, being, significantly, higher, in, ICU, patients, (, p, =, 0.002, ), ., â¢, Among, incidental, findings, ,, small, -, sized, splanchnic, arterial, aneurysms, were, reported, in, 21.4, %, of, the, whole, population, .]\n",
      "\n",
      "['objective', ':', 'increase', 'evidence', 'suggest', 'that', 'SARS', '-', 'CoV-2', 'infection', 'may', 'lead', 'to', 'severe', 'and', 'multi', '-', 'site', 'vascular', 'involvement', '.', 'our', 'study', 'aim', 'at', 'assess', 'the', 'frequency', 'of', 'vascular', 'and', 'extravascular', 'event', \"'\", 'distribution', 'in', 'a', 'retrospective', 'cohort', 'of', '42', 'covid-19', 'patient', '.', 'method', ':', 'patient', 'be', 'evaluate', 'by', 'whole', '-', 'body', 'CT', 'angiography', 'between', 'March', '16', 'and', 'April', '30', ',', '2020', '.', 'twenty', '-', 'three', 'out', 'of', 'the', '42', 'patient', 'evaluate', 'be', 'admit', 'to', 'the', 'intensive', 'care', 'unit', '(', 'ICU', ')', '.', 'vascular', 'and', 'extravascular', 'finding', 'be', 'categorize', 'into', '\"', 'relevant', '\"', 'or', '\"', 'other', '/', 'incidental', ',', '\"', 'first', 'refer', 'to', 'the', 'need', 'for', 'immediate', 'patient', 'care', 'and', 'management', '.', 'student', 'T', '-', 'test', ',', 'Mann', '-', 'Whitney', 'U', 'test', ',', 'or', 'Fisher', 'exact', 'test', 'be', 'use', 'to', 'compare', 'study', 'group', ',', 'where', 'appropriate', '.', 'result', ':', 'relevant', 'vascular', 'event', 'be', 'record', 'in', '71.4', '%', 'of', 'case', '(', 'n', '=', '30', ')', '.', 'pulmonary', 'embolism', 'be', 'the', 'most', 'frequent', 'in', 'both', 'ICU', 'and', 'non', '-', 'icu', 'case', '(', '56.5', '%', 'vs.', '10.5', '%', ',', 'p', '=', '0.002', ')', '.', 'ischemic', 'infarction', 'at', 'several', 'site', 'such', 'as', 'the', 'gut', ',', 'spleen', ',', 'liver', ',', 'brain', ',', 'and', 'kidney', 'be', 'detect', '(', 'n', '=', '20', ')', ',', 'with', 'multi', '-', 'site', 'involvement', 'in', 'some', 'case', '.', 'systemic', 'venous', 'thrombosis', 'occur', 'in', '30.9', '%', 'of', 'case', 'compare', 'to', '7.1', '%', 'of', 'systemic', 'arterial', 'event', ',', 'the', 'first', 'be', 'significantly', 'high', 'in', 'ICU', 'patient', '(', 'p', '=', '0.002', ')', '.', 'among', 'incidental', 'finding', ',', 'small', '-', 'sized', 'splanchnic', 'arterial', 'aneurysm', 'be', 'report', 'in', '21.4', '%', 'of', 'the', 'study', 'population', ',', 'with', 'no', 'significant', 'difference', 'in', 'ICU', 'and', 'non', '-', 'icu', 'patient', '.', 'conclusion', ':', 'vascular', 'involvement', 'be', 'not', 'negligible', 'in', 'covid-19', 'and', 'should', 'be', 'carefully', 'investigate', 'as', 'it', 'may', 'significantly', 'affect', 'disease', 'behavior', 'and', 'prognosis', '.', 'key', 'point', ':', 'â\\x80¢', 'relevant', 'vascular', 'event', 'be', 'record', 'in', '71.4', '%', 'of', 'the', 'study', 'population', ',', 'with', 'pulmonary', 'embolism', 'be', 'the', 'most', 'frequent', 'event', 'in', 'ICU', 'and', 'non', '-', 'icu', 'case', '.', 'â\\x80¢', 'apart', 'from', 'the', 'lung', ',', 'other', 'organ', 'such', 'as', 'the', 'gut', ',', 'spleen', ',', 'liver', ',', 'brain', ',', 'and', 'kidney', 'be', 'involve', 'with', 'episode', 'of', 'ischemic', 'infarction', '.', 'systemic', 'venous', 'and', 'arterial', 'thrombosis', 'occur', 'in', '30.9', '%', 'and', '7.1', '%', 'of', 'case', ',', 'respectively', ',', 'with', 'venous', 'event', 'be', 'significantly', 'high', 'in', 'ICU', 'patient', '(', 'p', '=', '0.002', ')', '.', 'â\\x80¢', 'among', 'incidental', 'finding', ',', 'small', '-', 'sized', 'splanchnic', 'arterial', 'aneurysm', 'be', 'report', 'in', '21.4', '%', 'of', 'the', 'whole', 'population', '.']\n",
      "\n",
      "['NOUN', 'PUNCT', 'VERB', 'NOUN', 'VERB', 'SCONJ', 'PROPN', 'PUNCT', 'PROPN', 'NOUN', 'AUX', 'VERB', 'ADP', 'ADJ', 'CCONJ', 'ADJ', 'ADJ', 'ADJ', 'NOUN', 'NOUN', 'PUNCT', 'PRON', 'NOUN', 'VERB', 'ADP', 'VERB', 'DET', 'NOUN', 'ADP', 'NOUN', 'CCONJ', 'ADJ', 'NOUN', 'PART', 'NOUN', 'ADP', 'DET', 'ADJ', 'NOUN', 'ADP', 'NUM', 'NOUN', 'NOUN', 'PUNCT', 'NOUN', 'PUNCT', 'NOUN', 'VERB', 'VERB', 'ADP', 'ADJ', 'PUNCT', 'NOUN', 'PROPN', 'NOUN', 'ADP', 'PROPN', 'NUM', 'CCONJ', 'PROPN', 'NUM', 'PUNCT', 'NUM', 'PUNCT', 'NUM', 'PUNCT', 'NUM', 'SCONJ', 'ADP', 'DET', 'NUM', 'NOUN', 'VERB', 'VERB', 'VERB', 'ADP', 'DET', 'ADJ', 'NOUN', 'NOUN', 'PUNCT', 'PROPN', 'PUNCT', 'PUNCT', 'NOUN', 'CCONJ', 'ADJ', 'NOUN', 'VERB', 'VERB', 'ADP', 'PUNCT', 'ADJ', 'PUNCT', 'CCONJ', 'PUNCT', 'ADJ', 'PUNCT', 'ADJ', 'PUNCT', 'PUNCT', 'ADV', 'VERB', 'ADP', 'DET', 'NOUN', 'ADP', 'ADJ', 'NOUN', 'NOUN', 'CCONJ', 'NOUN', 'PUNCT', 'NOUN', 'PROPN', 'PUNCT', 'NOUN', 'PUNCT', 'PROPN', 'PUNCT', 'PROPN', 'PROPN', 'NOUN', 'PUNCT', 'CCONJ', 'PROPN', 'ADJ', 'NOUN', 'VERB', 'VERB', 'PART', 'VERB', 'NOUN', 'NOUN', 'PUNCT', 'ADV', 'ADJ', 'PUNCT', 'NOUN', 'PUNCT', 'ADJ', 'NOUN', 'NOUN', 'VERB', 'VERB', 'ADP', 'NUM', 'NOUN', 'ADP', 'NOUN', 'PUNCT', 'ADV', 'SYM', 'NUM', 'PUNCT', 'PUNCT', 'ADJ', 'NOUN', 'VERB', 'DET', 'ADV', 'ADJ', 'ADP', 'CCONJ', 'PROPN', 'CCONJ', 'ADJ', 'ADJ', 'ADJ', 'NOUN', 'PUNCT', 'NUM', 'NOUN', 'X', 'NUM', 'NOUN', 'PUNCT', 'NOUN', 'PUNCT', 'NUM', 'PUNCT', 'PUNCT', 'ADJ', 'NOUN', 'ADP', 'ADJ', 'NOUN', 'ADJ', 'ADP', 'DET', 'NOUN', 'PUNCT', 'NOUN', 'PUNCT', 'NOUN', 'PUNCT', 'NOUN', 'PUNCT', 'CCONJ', 'NOUN', 'VERB', 'VERB', 'PUNCT', 'CCONJ', 'SYM', 'NUM', 'PUNCT', 'PUNCT', 'ADP', 'ADJ', 'ADJ', 'ADJ', 'NOUN', 'ADP', 'DET', 'NOUN', 'PUNCT', 'ADJ', 'ADJ', 'NOUN', 'VERB', 'ADP', 'NUM', 'NOUN', 'ADP', 'NOUN', 'VERB', 'ADP', 'NUM', 'NOUN', 'ADP', 'ADJ', 'ADJ', 'NOUN', 'PUNCT', 'DET', 'ADJ', 'VERB', 'ADV', 'ADJ', 'ADP', 'PROPN', 'NOUN', 'PUNCT', 'X', 'PUNCT', 'NUM', 'PUNCT', 'PUNCT', 'ADP', 'ADJ', 'NOUN', 'PUNCT', 'ADJ', 'PUNCT', 'ADJ', 'ADJ', 'NOUN', 'NOUN', 'VERB', 'VERB', 'ADP', 'NUM', 'NOUN', 'ADP', 'DET', 'NOUN', 'NOUN', 'PUNCT', 'ADP', 'DET', 'ADJ', 'NOUN', 'ADP', 'PROPN', 'CCONJ', 'ADJ', 'ADJ', 'ADJ', 'NOUN', 'PUNCT', 'NOUN', 'PUNCT', 'NOUN', 'NOUN', 'VERB', 'PART', 'ADJ', 'ADP', 'NOUN', 'CCONJ', 'AUX', 'VERB', 'ADV', 'VERB', 'ADP', 'PRON', 'AUX', 'ADV', 'VERB', 'NOUN', 'NOUN', 'CCONJ', 'NOUN', 'PUNCT', 'NOUN', 'NOUN', 'PUNCT', 'NOUN', 'ADJ', 'NOUN', 'NOUN', 'VERB', 'VERB', 'ADP', 'NUM', 'NOUN', 'ADP', 'DET', 'NOUN', 'NOUN', 'PUNCT', 'ADP', 'ADJ', 'NOUN', 'VERB', 'DET', 'ADV', 'ADJ', 'NOUN', 'ADP', 'PROPN', 'CCONJ', 'ADJ', 'ADJ', 'ADJ', 'NOUN', 'PUNCT', 'NOUN', 'ADV', 'ADP', 'DET', 'NOUN', 'PUNCT', 'ADJ', 'NOUN', 'ADJ', 'ADP', 'DET', 'NOUN', 'PUNCT', 'NOUN', 'PUNCT', 'NOUN', 'PUNCT', 'NOUN', 'PUNCT', 'CCONJ', 'NOUN', 'VERB', 'VERB', 'ADP', 'NOUN', 'ADP', 'ADJ', 'NOUN', 'PUNCT', 'ADJ', 'NOUN', 'CCONJ', 'NOUN', 'NOUN', 'VERB', 'ADP', 'NUM', 'NOUN', 'CCONJ', 'NUM', 'NOUN', 'ADP', 'NOUN', 'PUNCT', 'ADV', 'PUNCT', 'ADP', 'ADJ', 'NOUN', 'VERB', 'ADV', 'ADJ', 'ADP', 'PROPN', 'NOUN', 'PUNCT', 'X', 'PUNCT', 'NUM', 'PUNCT', 'PUNCT', 'NOUN', 'ADP', 'ADJ', 'NOUN', 'PUNCT', 'ADJ', 'PUNCT', 'ADJ', 'ADJ', 'NOUN', 'NOUN', 'VERB', 'VERB', 'ADP', 'NUM', 'NOUN', 'ADP', 'DET', 'ADJ', 'NOUN', 'PUNCT']\n",
      "\n",
      "==============================================================\n",
      "\n",
      "\n",
      "==============================================================\n",
      "Epidemiology of community-acquired pneumonia in adult patients at the dawn of the 21st century: a prospective study on the Mediterranean coast of Spain\n",
      "2014-12-12 00:00:00\n",
      "\n",
      "This study presents data from a prospective study of adult patients with community-acquired pneumonia (CAP). Of 493 patients included in the study, 223 (45.2%) were aged ≥ 65 years, and 265 (53.7%) had one or more underlying diseases, mostly chronic obstructive pulmonary disease, diabetes mellitus or dementia. In total, 281 microorganisms were identified in 250 (50.7%) patients, with two or more pathogens detected in 28 (5.7%) cases. Microbial diagnosis varied according to age, severity, co-morbidity and site-of-care, but there was much overlap among groups. Streptococcus pneumoniae was the single most prevalent organism in outpatients, patients admitted to hospital, and patients who died, either as a single pathogen or combined with another organism. Infections caused by ‘atypical’ pathogens were seen across all groups, including the elderly and patients with co-morbidities. Mortality varied according to the pneumonia severity index (PSI) of the pneumonia patient outcomes research team. Shock (OR 34.48), an age of > 65 years (OR 25) and altered mental status (OR 9.92) were factors associated independently with 30-day mortality. Key findings from this study were the advanced age of the population with CAP, and the high prevalence of dementia as an underlying disease. The study also revealed that microbiological diagnosis of CAP remains problematic. Although certain epidemiological features may help to predict the microbial aetiology, the overlap among groups reduces the usefulness of this information in guiding therapeutic decisions. Greater effort should be made to improve identification methods for microbial pathogens causing CAP.\n",
      "\n",
      "[This, study, presents, data, from, a, prospective, study, of, adult, patients, with, community, -, acquired, pneumonia, (, CAP, ), ., Of, 493, patients, included, in, the, study, ,, 223, (, 45.2, %, ), were, aged, ≥, 65, years, ,, and, 265, (, 53.7, %, ), had, one, or, more, underlying, diseases, ,, mostly, chronic, obstructive, pulmonary, disease, ,, diabetes, mellitus, or, dementia, ., In, total, ,, 281, microorganisms, were, identified, in, 250, (, 50.7, %, ), patients, ,, with, two, or, more, pathogens, detected, in, 28, (, 5.7, %, ), cases, ., Microbial, diagnosis, varied, according, to, age, ,, severity, ,, co, -, morbidity, and, site, -, of, -, care, ,, but, there, was, much, overlap, among, groups, ., Streptococcus, pneumoniae, was, the, single, most, prevalent, organism, in, outpatients, ,, patients, admitted, to, hospital, ,, and, patients, who, died, ,, either, as, a, single, pathogen, or, combined, with, another, organism, ., Infections, caused, by, ‘, atypical, ’, pathogens, were, seen, across, all, groups, ,, including, the, elderly, and, patients, with, co, -, morbidities, ., Mortality, varied, according, to, the, pneumonia, severity, index, (, PSI, ), of, the, pneumonia, patient, outcomes, research, team, ., Shock, (, OR, 34.48, ), ,, an, age, of, >, 65, years, (, OR, 25, ), and, altered, mental, status, (, OR, 9.92, ), were, factors, associated, independently, with, 30, -, day, mortality, ., Key, findings, from, this, study, were, the, advanced, age, of, the, population, with, CAP, ,, and, the, high, prevalence, of, dementia, as, an, underlying, disease, ., The, study, also, revealed, that, microbiological, diagnosis, of, CAP, remains, problematic, ., Although, certain, epidemiological, features, may, help, to, predict, the, microbial, aetiology, ,, the, overlap, among, groups, reduces, the, usefulness, of, this, information, in, guiding, therapeutic, decisions, ., Greater, effort, should, be, made, to, improve, identification, methods, for, microbial, pathogens, causing, CAP, .]\n",
      "\n",
      "['this', 'study', 'present', 'datum', 'from', 'a', 'prospective', 'study', 'of', 'adult', 'patient', 'with', 'community', '-', 'acquire', 'pneumonia', '(', 'CAP', ')', '.', 'of', '493', 'patient', 'include', 'in', 'the', 'study', ',', '223', '(', '45.2', '%', ')', 'be', 'aged', '≥', '65', 'year', ',', 'and', '265', '(', '53.7', '%', ')', 'have', 'one', 'or', 'more', 'underlying', 'disease', ',', 'mostly', 'chronic', 'obstructive', 'pulmonary', 'disease', ',', 'diabetes', 'mellitus', 'or', 'dementia', '.', 'in', 'total', ',', '281', 'microorganism', 'be', 'identify', 'in', '250', '(', '50.7', '%', ')', 'patient', ',', 'with', 'two', 'or', 'more', 'pathogen', 'detect', 'in', '28', '(', '5.7', '%', ')', 'case', '.', 'microbial', 'diagnosis', 'vary', 'accord', 'to', 'age', ',', 'severity', ',', 'co', '-', 'morbidity', 'and', 'site', '-', 'of', '-', 'care', ',', 'but', 'there', 'be', 'much', 'overlap', 'among', 'group', '.', 'streptococcus', 'pneumoniae', 'be', 'the', 'single', 'most', 'prevalent', 'organism', 'in', 'outpatient', ',', 'patient', 'admit', 'to', 'hospital', ',', 'and', 'patient', 'who', 'die', ',', 'either', 'as', 'a', 'single', 'pathogen', 'or', 'combine', 'with', 'another', 'organism', '.', 'infection', 'cause', 'by', \"'\", 'atypical', \"'\", 'pathogen', 'be', 'see', 'across', 'all', 'group', ',', 'include', 'the', 'elderly', 'and', 'patient', 'with', 'co', '-', 'morbidity', '.', 'mortality', 'vary', 'accord', 'to', 'the', 'pneumonia', 'severity', 'index', '(', 'PSI', ')', 'of', 'the', 'pneumonia', 'patient', 'outcome', 'research', 'team', '.', 'shock', '(', 'or', '34.48', ')', ',', 'an', 'age', 'of', '>', '65', 'year', '(', 'or', '25', ')', 'and', 'alter', 'mental', 'status', '(', 'or', '9.92', ')', 'be', 'factor', 'associate', 'independently', 'with', '30', '-', 'day', 'mortality', '.', 'key', 'finding', 'from', 'this', 'study', 'be', 'the', 'advanced', 'age', 'of', 'the', 'population', 'with', 'CAP', ',', 'and', 'the', 'high', 'prevalence', 'of', 'dementia', 'as', 'an', 'underlying', 'disease', '.', 'the', 'study', 'also', 'reveal', 'that', 'microbiological', 'diagnosis', 'of', 'CAP', 'remain', 'problematic', '.', 'although', 'certain', 'epidemiological', 'feature', 'may', 'help', 'to', 'predict', 'the', 'microbial', 'aetiology', ',', 'the', 'overlap', 'among', 'group', 'reduce', 'the', 'usefulness', 'of', 'this', 'information', 'in', 'guide', 'therapeutic', 'decision', '.', 'great', 'effort', 'should', 'be', 'make', 'to', 'improve', 'identification', 'method', 'for', 'microbial', 'pathogen', 'cause', 'CAP', '.']\n",
      "\n",
      "['DET', 'NOUN', 'VERB', 'NOUN', 'ADP', 'DET', 'ADJ', 'NOUN', 'ADP', 'NOUN', 'NOUN', 'ADP', 'NOUN', 'PUNCT', 'VERB', 'NOUN', 'PUNCT', 'PROPN', 'PUNCT', 'PUNCT', 'ADP', 'NUM', 'NOUN', 'VERB', 'ADP', 'DET', 'NOUN', 'PUNCT', 'NUM', 'PUNCT', 'NUM', 'NOUN', 'PUNCT', 'VERB', 'ADJ', 'NOUN', 'NUM', 'NOUN', 'PUNCT', 'CCONJ', 'NUM', 'PUNCT', 'NUM', 'NOUN', 'PUNCT', 'VERB', 'NUM', 'CCONJ', 'ADJ', 'ADJ', 'NOUN', 'PUNCT', 'ADV', 'ADJ', 'ADJ', 'ADJ', 'NOUN', 'PUNCT', 'NOUN', 'NOUN', 'CCONJ', 'NOUN', 'PUNCT', 'ADP', 'NOUN', 'PUNCT', 'NUM', 'NOUN', 'VERB', 'VERB', 'ADP', 'NUM', 'PUNCT', 'NUM', 'NOUN', 'PUNCT', 'NOUN', 'PUNCT', 'ADP', 'NUM', 'CCONJ', 'ADJ', 'NOUN', 'VERB', 'ADP', 'NUM', 'PUNCT', 'NUM', 'NOUN', 'PUNCT', 'NOUN', 'PUNCT', 'ADJ', 'NOUN', 'VERB', 'VERB', 'ADP', 'NOUN', 'PUNCT', 'NOUN', 'PUNCT', 'NOUN', 'NOUN', 'NOUN', 'CCONJ', 'NOUN', 'PUNCT', 'ADP', 'PUNCT', 'NOUN', 'PUNCT', 'CCONJ', 'PRON', 'VERB', 'ADJ', 'NOUN', 'ADP', 'NOUN', 'PUNCT', 'ADJ', 'NOUN', 'VERB', 'DET', 'ADJ', 'ADV', 'ADJ', 'NOUN', 'ADP', 'NOUN', 'PUNCT', 'NOUN', 'VERB', 'ADP', 'NOUN', 'PUNCT', 'CCONJ', 'NOUN', 'PRON', 'VERB', 'PUNCT', 'CCONJ', 'ADP', 'DET', 'ADJ', 'NOUN', 'CCONJ', 'VERB', 'ADP', 'DET', 'NOUN', 'PUNCT', 'NOUN', 'VERB', 'ADP', 'PUNCT', 'ADJ', 'PUNCT', 'NOUN', 'VERB', 'VERB', 'ADP', 'DET', 'NOUN', 'PUNCT', 'VERB', 'DET', 'ADJ', 'CCONJ', 'NOUN', 'ADP', 'NOUN', 'NOUN', 'NOUN', 'PUNCT', 'NOUN', 'VERB', 'VERB', 'ADP', 'DET', 'NOUN', 'NOUN', 'NOUN', 'PUNCT', 'PROPN', 'PUNCT', 'ADP', 'DET', 'NOUN', 'NOUN', 'NOUN', 'NOUN', 'NOUN', 'PUNCT', 'NOUN', 'PUNCT', 'CCONJ', 'NUM', 'PUNCT', 'PUNCT', 'DET', 'NOUN', 'ADP', 'PUNCT', 'NUM', 'NOUN', 'PUNCT', 'CCONJ', 'NUM', 'PUNCT', 'CCONJ', 'VERB', 'ADJ', 'NOUN', 'PUNCT', 'CCONJ', 'NUM', 'PUNCT', 'VERB', 'NOUN', 'VERB', 'ADV', 'ADP', 'NUM', 'PUNCT', 'NOUN', 'NOUN', 'PUNCT', 'ADJ', 'NOUN', 'ADP', 'DET', 'NOUN', 'VERB', 'DET', 'ADJ', 'NOUN', 'ADP', 'DET', 'NOUN', 'ADP', 'PROPN', 'PUNCT', 'CCONJ', 'DET', 'ADJ', 'NOUN', 'ADP', 'NOUN', 'ADP', 'DET', 'ADJ', 'NOUN', 'PUNCT', 'DET', 'NOUN', 'ADV', 'VERB', 'SCONJ', 'ADJ', 'NOUN', 'ADP', 'PROPN', 'VERB', 'ADJ', 'PUNCT', 'SCONJ', 'ADJ', 'ADJ', 'NOUN', 'AUX', 'VERB', 'PART', 'VERB', 'DET', 'ADJ', 'NOUN', 'PUNCT', 'DET', 'NOUN', 'ADP', 'NOUN', 'VERB', 'DET', 'NOUN', 'ADP', 'DET', 'NOUN', 'ADP', 'VERB', 'ADJ', 'NOUN', 'PUNCT', 'ADJ', 'NOUN', 'AUX', 'VERB', 'VERB', 'PART', 'VERB', 'NOUN', 'NOUN', 'ADP', 'ADJ', 'NOUN', 'VERB', 'PROPN', 'PUNCT']\n",
      "\n",
      "==============================================================\n",
      "\n",
      "\n",
      "==============================================================\n",
      "Pandæsim: An Epidemic Spreading Stochastic Simulator\n",
      "2020-09-18 00:00:00\n",
      "\n",
      "SIMPLE SUMMARY: In order to study the efficiency of countermeasures used against the Covid-19 pandemic at the scale of a country, we designed a model and developed an efficient simulation program based on a well known discrete stochastic simulation framework along with a standard, coarse grain, spatial localisation extension. Our particular approach allows us also to implement deterministic continuous resolutions of the same model. We applied it to the Covid-19 epidemic in France where lockdown countermeasures were used. With the stochastic discrete method, we found good correlations between the simulation results and the statistics gathered from hospitals. In contrast, the deterministic continuous approach lead to very different results. We proposed an explanation based on the fact that the effects of discretisation are high for small values, but low for large values. When we add stochasticity, it can explain the differences in behaviour of those two approaches. This system is one more tool to study different countermeasures to epidemics, from lockdowns to social distancing, and also the effects of mass vaccination. It could be improved by including the possibility of individual reinfection. ABSTRACT: Many methods have been used to model epidemic spreading. They include ordinary differential equation systems for globally homogeneous environments and partial differential equation systems to take into account spatial localisation and inhomogeneity. Stochastic differential equations systems have been used to model the inherent stochasticity of epidemic spreading processes. In our case study, we wanted to model the numbers of individuals in different states of the disease, and their locations in the country. Among the many existing methods we used our own variant of the well known Gillespie stochastic algorithm, along with the sub-volumes method to take into account the spatial localisation. Our algorithm allows us to easily switch from stochastic discrete simulation to continuous deterministic resolution using mean values. We applied our approaches on the study of the Covid-19 epidemic in France. The stochastic discrete version of Pandæsim showed very good correlations between the simulation results and the statistics gathered from hospitals, both on day by day and on global numbers, including the effects of the lockdown. Moreover, we have highlighted interesting differences in behaviour between the continuous and discrete methods that may arise in some particular conditions.\n",
      "\n",
      "[SIMPLE, SUMMARY, :, In, order, to, study, the, efficiency, of, countermeasures, used, against, the, Covid-19, pandemic, at, the, scale, of, a, country, ,, we, designed, a, model, and, developed, an, efficient, simulation, program, based, on, a, well, known, discrete, stochastic, simulation, framework, along, with, a, standard, ,, coarse, grain, ,, spatial, localisation, extension, ., Our, particular, approach, allows, us, also, to, implement, deterministic, continuous, resolutions, of, the, same, model, ., We, applied, it, to, the, Covid-19, epidemic, in, France, where, lockdown, countermeasures, were, used, ., With, the, stochastic, discrete, method, ,, we, found, good, correlations, between, the, simulation, results, and, the, statistics, gathered, from, hospitals, ., In, contrast, ,, the, deterministic, continuous, approach, lead, to, very, different, results, ., We, proposed, an, explanation, based, on, the, fact, that, the, effects, of, discretisation, are, high, for, small, values, ,, but, low, for, large, values, ., When, we, add, stochasticity, ,, it, can, explain, the, differences, in, behaviour, of, those, two, approaches, ., This, system, is, one, more, tool, to, study, different, countermeasures, to, epidemics, ,, from, lockdowns, to, social, distancing, ,, and, also, the, effects, of, mass, vaccination, ., It, could, be, improved, by, including, the, possibility, of, individual, reinfection, ., ABSTRACT, :, Many, methods, have, been, used, to, model, epidemic, spreading, ., They, include, ordinary, differential, equation, systems, for, globally, homogeneous, environments, and, partial, differential, equation, systems, to, take, into, account, spatial, localisation, and, inhomogeneity, ., Stochastic, differential, equations, systems, have, been, used, to, model, the, inherent, stochasticity, of, epidemic, spreading, processes, ., In, our, case, study, ,, we, wanted, to, model, the, numbers, of, individuals, in, different, states, of, the, disease, ,, and, their, locations, in, the, country, ., Among, the, many, existing, methods, we, used, our, own, variant, of, the, well, known, Gillespie, stochastic, algorithm, ,, along, with, the, sub, -, volumes, method, to, take, into, account, the, spatial, localisation, ., Our, algorithm, allows, us, to, easily, switch, from, stochastic, discrete, simulation, to, continuous, deterministic, resolution, using, mean, values, ., We, applied, our, approaches, on, the, study, of, the, Covid-19, epidemic, in, France, ., The, stochastic, discrete, version, of, Pandæsim, showed, very, good, correlations, between, the, simulation, results, and, the, statistics, gathered, from, hospitals, ,, both, on, day, by, day, and, on, global, numbers, ,, including, the, effects, of, the, lockdown, ., Moreover, ,, we, have, highlighted, interesting, differences, in, behaviour, between, the, continuous, and, discrete, methods, that, may, arise, in, some, particular, conditions, .]\n",
      "\n",
      "['simple', 'summary', ':', 'in', 'order', 'to', 'study', 'the', 'efficiency', 'of', 'countermeasure', 'use', 'against', 'the', 'covid-19', 'pandemic', 'at', 'the', 'scale', 'of', 'a', 'country', ',', 'we', 'design', 'a', 'model', 'and', 'develop', 'an', 'efficient', 'simulation', 'program', 'base', 'on', 'a', 'well', 'know', 'discrete', 'stochastic', 'simulation', 'framework', 'along', 'with', 'a', 'standard', ',', 'coarse', 'grain', ',', 'spatial', 'localisation', 'extension', '.', 'our', 'particular', 'approach', 'allow', 'we', 'also', 'to', 'implement', 'deterministic', 'continuous', 'resolution', 'of', 'the', 'same', 'model', '.', 'we', 'apply', 'it', 'to', 'the', 'covid-19', 'epidemic', 'in', 'France', 'where', 'lockdown', 'countermeasure', 'be', 'use', '.', 'with', 'the', 'stochastic', 'discrete', 'method', ',', 'we', 'find', 'good', 'correlation', 'between', 'the', 'simulation', 'result', 'and', 'the', 'statistic', 'gather', 'from', 'hospital', '.', 'in', 'contrast', ',', 'the', 'deterministic', 'continuous', 'approach', 'lead', 'to', 'very', 'different', 'result', '.', 'we', 'propose', 'an', 'explanation', 'base', 'on', 'the', 'fact', 'that', 'the', 'effect', 'of', 'discretisation', 'be', 'high', 'for', 'small', 'value', ',', 'but', 'low', 'for', 'large', 'value', '.', 'when', 'we', 'add', 'stochasticity', ',', 'it', 'can', 'explain', 'the', 'difference', 'in', 'behaviour', 'of', 'those', 'two', 'approach', '.', 'this', 'system', 'be', 'one', 'more', 'tool', 'to', 'study', 'different', 'countermeasure', 'to', 'epidemic', ',', 'from', 'lockdown', 'to', 'social', 'distancing', ',', 'and', 'also', 'the', 'effect', 'of', 'mass', 'vaccination', '.', 'it', 'could', 'be', 'improve', 'by', 'include', 'the', 'possibility', 'of', 'individual', 'reinfection', '.', 'ABSTRACT', ':', 'many', 'method', 'have', 'be', 'use', 'to', 'model', 'epidemic', 'spread', '.', 'they', 'include', 'ordinary', 'differential', 'equation', 'system', 'for', 'globally', 'homogeneous', 'environment', 'and', 'partial', 'differential', 'equation', 'system', 'to', 'take', 'into', 'account', 'spatial', 'localisation', 'and', 'inhomogeneity', '.', 'stochastic', 'differential', 'equation', 'system', 'have', 'be', 'use', 'to', 'model', 'the', 'inherent', 'stochasticity', 'of', 'epidemic', 'spread', 'process', '.', 'in', 'our', 'case', 'study', ',', 'we', 'want', 'to', 'model', 'the', 'number', 'of', 'individual', 'in', 'different', 'state', 'of', 'the', 'disease', ',', 'and', 'their', 'location', 'in', 'the', 'country', '.', 'among', 'the', 'many', 'exist', 'method', 'we', 'use', 'our', 'own', 'variant', 'of', 'the', 'well', 'know', 'Gillespie', 'stochastic', 'algorithm', ',', 'along', 'with', 'the', 'sub', '-', 'volumes', 'method', 'to', 'take', 'into', 'account', 'the', 'spatial', 'localisation', '.', 'our', 'algorithm', 'allow', 'we', 'to', 'easily', 'switch', 'from', 'stochastic', 'discrete', 'simulation', 'to', 'continuous', 'deterministic', 'resolution', 'use', 'mean', 'value', '.', 'we', 'apply', 'our', 'approach', 'on', 'the', 'study', 'of', 'the', 'covid-19', 'epidemic', 'in', 'France', '.', 'the', 'stochastic', 'discrete', 'version', 'of', 'Pandæsim', 'show', 'very', 'good', 'correlation', 'between', 'the', 'simulation', 'result', 'and', 'the', 'statistic', 'gather', 'from', 'hospital', ',', 'both', 'on', 'day', 'by', 'day', 'and', 'on', 'global', 'number', ',', 'include', 'the', 'effect', 'of', 'the', 'lockdown', '.', 'moreover', ',', 'we', 'have', 'highlight', 'interesting', 'difference', 'in', 'behaviour', 'between', 'the', 'continuous', 'and', 'discrete', 'method', 'that', 'may', 'arise', 'in', 'some', 'particular', 'condition', '.']\n",
      "\n",
      "['ADJ', 'NOUN', 'PUNCT', 'ADP', 'NOUN', 'PART', 'VERB', 'DET', 'NOUN', 'ADP', 'NOUN', 'VERB', 'ADP', 'DET', 'NOUN', 'NOUN', 'ADP', 'DET', 'NOUN', 'ADP', 'DET', 'NOUN', 'PUNCT', 'PRON', 'VERB', 'DET', 'NOUN', 'CCONJ', 'VERB', 'DET', 'ADJ', 'NOUN', 'NOUN', 'VERB', 'ADP', 'DET', 'ADV', 'VERB', 'ADJ', 'NOUN', 'NOUN', 'NOUN', 'ADP', 'ADP', 'DET', 'ADJ', 'PUNCT', 'ADJ', 'NOUN', 'PUNCT', 'ADJ', 'NOUN', 'NOUN', 'PUNCT', 'PRON', 'ADJ', 'NOUN', 'VERB', 'PRON', 'ADV', 'PART', 'VERB', 'ADJ', 'ADJ', 'NOUN', 'ADP', 'DET', 'ADJ', 'NOUN', 'PUNCT', 'PRON', 'VERB', 'PRON', 'ADP', 'DET', 'NOUN', 'NOUN', 'ADP', 'PROPN', 'ADV', 'NOUN', 'NOUN', 'VERB', 'VERB', 'PUNCT', 'ADP', 'DET', 'ADJ', 'ADJ', 'NOUN', 'PUNCT', 'PRON', 'VERB', 'ADJ', 'NOUN', 'ADP', 'DET', 'NOUN', 'NOUN', 'CCONJ', 'DET', 'NOUN', 'VERB', 'ADP', 'NOUN', 'PUNCT', 'ADP', 'NOUN', 'PUNCT', 'DET', 'ADJ', 'ADJ', 'NOUN', 'VERB', 'ADP', 'ADV', 'ADJ', 'NOUN', 'PUNCT', 'PRON', 'VERB', 'DET', 'NOUN', 'VERB', 'ADP', 'DET', 'NOUN', 'SCONJ', 'DET', 'NOUN', 'ADP', 'NOUN', 'VERB', 'ADJ', 'ADP', 'ADJ', 'NOUN', 'PUNCT', 'CCONJ', 'ADJ', 'ADP', 'ADJ', 'NOUN', 'PUNCT', 'ADV', 'PRON', 'VERB', 'NOUN', 'PUNCT', 'PRON', 'AUX', 'VERB', 'DET', 'NOUN', 'ADP', 'NOUN', 'ADP', 'DET', 'NUM', 'NOUN', 'PUNCT', 'DET', 'NOUN', 'VERB', 'NUM', 'ADJ', 'NOUN', 'PART', 'VERB', 'ADJ', 'NOUN', 'ADP', 'NOUN', 'PUNCT', 'ADP', 'NOUN', 'ADP', 'ADJ', 'NOUN', 'PUNCT', 'CCONJ', 'ADV', 'DET', 'NOUN', 'ADP', 'ADJ', 'NOUN', 'PUNCT', 'PRON', 'AUX', 'VERB', 'VERB', 'ADP', 'VERB', 'DET', 'NOUN', 'ADP', 'ADJ', 'NOUN', 'PUNCT', 'NOUN', 'PUNCT', 'ADJ', 'NOUN', 'VERB', 'VERB', 'VERB', 'PART', 'VERB', 'NOUN', 'VERB', 'PUNCT', 'PRON', 'VERB', 'ADJ', 'ADJ', 'NOUN', 'NOUN', 'ADP', 'ADV', 'ADJ', 'NOUN', 'CCONJ', 'ADJ', 'ADJ', 'NOUN', 'NOUN', 'PART', 'VERB', 'ADP', 'NOUN', 'ADJ', 'NOUN', 'CCONJ', 'NOUN', 'PUNCT', 'ADJ', 'ADJ', 'NOUN', 'NOUN', 'VERB', 'VERB', 'VERB', 'PART', 'VERB', 'DET', 'ADJ', 'NOUN', 'ADP', 'NOUN', 'VERB', 'NOUN', 'PUNCT', 'ADP', 'PRON', 'NOUN', 'NOUN', 'PUNCT', 'PRON', 'VERB', 'PART', 'VERB', 'DET', 'NOUN', 'ADP', 'NOUN', 'ADP', 'ADJ', 'NOUN', 'ADP', 'DET', 'NOUN', 'PUNCT', 'CCONJ', 'PRON', 'NOUN', 'ADP', 'DET', 'NOUN', 'PUNCT', 'ADP', 'DET', 'ADJ', 'VERB', 'NOUN', 'PRON', 'VERB', 'PRON', 'ADJ', 'NOUN', 'ADP', 'DET', 'ADV', 'VERB', 'PROPN', 'NOUN', 'NOUN', 'PUNCT', 'ADP', 'ADP', 'DET', 'NOUN', 'NOUN', 'ADJ', 'NOUN', 'PART', 'VERB', 'ADP', 'NOUN', 'DET', 'ADJ', 'NOUN', 'PUNCT', 'PRON', 'NOUN', 'VERB', 'PRON', 'PART', 'ADV', 'VERB', 'ADP', 'ADJ', 'ADJ', 'NOUN', 'ADP', 'ADJ', 'ADJ', 'NOUN', 'VERB', 'ADJ', 'NOUN', 'PUNCT', 'PRON', 'VERB', 'PRON', 'NOUN', 'ADP', 'DET', 'NOUN', 'ADP', 'DET', 'NOUN', 'NOUN', 'ADP', 'PROPN', 'PUNCT', 'DET', 'ADJ', 'ADJ', 'NOUN', 'ADP', 'PROPN', 'VERB', 'ADV', 'ADJ', 'NOUN', 'ADP', 'DET', 'NOUN', 'NOUN', 'CCONJ', 'DET', 'NOUN', 'VERB', 'ADP', 'NOUN', 'PUNCT', 'CCONJ', 'ADP', 'NOUN', 'ADP', 'NOUN', 'CCONJ', 'ADP', 'ADJ', 'NOUN', 'PUNCT', 'VERB', 'DET', 'NOUN', 'ADP', 'DET', 'NOUN', 'PUNCT', 'ADV', 'PUNCT', 'PRON', 'VERB', 'VERB', 'ADJ', 'NOUN', 'ADP', 'NOUN', 'ADP', 'DET', 'ADJ', 'CCONJ', 'ADJ', 'NOUN', 'DET', 'AUX', 'VERB', 'ADP', 'DET', 'ADJ', 'NOUN', 'PUNCT']\n",
      "\n",
      "==============================================================\n",
      "\n",
      "\n",
      "==============================================================\n",
      "Identification of Small Molecule Inhibitors of the Deubiquitinating Activity of the SARS-CoV-2 Papain-Like Protease: in silico Molecular Docking Studies and in vitro Enzymatic Activity Assay\n",
      "2020-12-08 00:00:00\n",
      "\n",
      "COVID-19 is an ongoing pandemic caused by the SARS-CoV-2 virus with important political, socio-economic, and public health consequences. Inhibiting replication represents an important antiviral approach, and in this context two viral proteases, the SARS-CoV-2 main and papain-like proteases (PL(pro)), which cleave pp1a and pp1ab polypeptides, are critical. Along with protease activity, the PL(pro) possesses deubiquitinating activity, which is important in immune regulation. Naphthalene-based inhibitors, such as the well-investigated GRL-0617 compound, have been shown to possess dual effects, inhibiting both protease and deubiquitinating activity of the PL(pro). Rather than binding to the canonical catalytic triad, these type of non-covalent inhibitors target an adjacent pocket, the naphthalene-inhibitor binding site. Using a high-throughput screen, we have previously identified the dietary hypericin, rutin, and cyanidin-3-O-glucoside compounds as potential protease inhibitors targeting the naphthalene-inhibitor binding site. Here, our aim was to investigate the binding characteristics of these compounds to the PL(pro), and to evaluate deubiquitinating activity, by analyzing seven different PL(pro) crystal structures. Molecular docking highlighted the relatively high affinity of GRL-0617 and dietary compounds. In contrast binding of the small molecules was abolished in the presence of ubiquitin in the palm subdomain of the PL(pro). Further, docking the small molecules in the naphthalene-inhibitor binding site, followed by protein-protein docking revealed displacement of ubiquitin in a conformation inconsistent with functional activity. Finally, the deubiquitinating activity was validated in vitro using an enzymatic activity assay. The findings indicated that the dietary compounds inhibited deubiquitinase activity in the micromolar range with an order of activity of GRL-0167, hypericin >> rutin, cyanidin-3-O-glucoside > epigallocatechin gallate, epicatechin gallate, and cefotaxime. Our findings are in accordance with mechanisms and potential antiviral effects of the naphthalene-based, GRL-0617 inhibitor, which is currently progressing in preclinical trials. Further, our findings indicate that in particular hypericin, rutin, and cyanidin-3-O-glucoside, represent suitable candidates for subsequent evaluation as PL(pro) inhibitors.\n",
      "\n",
      "[COVID-19, is, an, ongoing, pandemic, caused, by, the, SARS, -, CoV-2, virus, with, important, political, ,, socio, -, economic, ,, and, public, health, consequences, ., Inhibiting, replication, represents, an, important, antiviral, approach, ,, and, in, this, context, two, viral, proteases, ,, the, SARS, -, CoV-2, main, and, papain, -, like, proteases, (, PL(pro, ), ), ,, which, cleave, pp1a, and, pp1ab, polypeptides, ,, are, critical, ., Along, with, protease, activity, ,, the, PL(pro, ), possesses, deubiquitinating, activity, ,, which, is, important, in, immune, regulation, ., Naphthalene, -, based, inhibitors, ,, such, as, the, well, -, investigated, GRL-0617, compound, ,, have, been, shown, to, possess, dual, effects, ,, inhibiting, both, protease, and, deubiquitinating, activity, of, the, PL(pro, ), ., Rather, than, binding, to, the, canonical, catalytic, triad, ,, these, type, of, non, -, covalent, inhibitors, target, an, adjacent, pocket, ,, the, naphthalene, -, inhibitor, binding, site, ., Using, a, high, -, throughput, screen, ,, we, have, previously, identified, the, dietary, hypericin, ,, rutin, ,, and, cyanidin-3, -, O, -, glucoside, compounds, as, potential, protease, inhibitors, targeting, the, naphthalene, -, inhibitor, binding, site, ., Here, ,, our, aim, was, to, investigate, the, binding, characteristics, of, these, compounds, to, the, PL(pro, ), ,, and, to, evaluate, deubiquitinating, activity, ,, by, analyzing, seven, different, PL(pro, ), crystal, structures, ., Molecular, docking, highlighted, the, relatively, high, affinity, of, GRL-0617, and, dietary, compounds, ., In, contrast, binding, of, the, small, molecules, was, abolished, in, the, presence, of, ubiquitin, in, the, palm, subdomain, of, the, PL(pro, ), ., Further, ,, docking, the, small, molecules, in, the, naphthalene, -, inhibitor, binding, site, ,, followed, by, protein, -, protein, docking, revealed, displacement, of, ubiquitin, in, a, conformation, inconsistent, with, functional, activity, ., Finally, ,, the, deubiquitinating, activity, was, validated, in, vitro, using, an, enzymatic, activity, assay, ., The, findings, indicated, that, the, dietary, compounds, inhibited, deubiquitinase, activity, in, the, micromolar, range, with, an, order, of, activity, of, GRL-0167, ,, hypericin, >, >, rutin, ,, cyanidin-3, -, O, -, glucoside, >, epigallocatechin, gallate, ,, epicatechin, gallate, ,, and, cefotaxime, ., Our, findings, are, in, accordance, with, mechanisms, and, potential, antiviral, effects, of, the, naphthalene, -, based, ,, GRL-0617, inhibitor, ,, which, is, currently, progressing, in, preclinical, trials, ., Further, ,, our, findings, indicate, that, in, particular, hypericin, ,, rutin, ,, and, cyanidin-3, -, O, -, glucoside, ,, represent, suitable, candidates, for, subsequent, evaluation, as, PL(pro, ), inhibitors, .]\n",
      "\n",
      "['covid-19', 'be', 'an', 'ongoing', 'pandemic', 'cause', 'by', 'the', 'SARS', '-', 'CoV-2', 'virus', 'with', 'important', 'political', ',', 'socio', '-', 'economic', ',', 'and', 'public', 'health', 'consequence', '.', 'inhibit', 'replication', 'represent', 'an', 'important', 'antiviral', 'approach', ',', 'and', 'in', 'this', 'context', 'two', 'viral', 'protease', ',', 'the', 'SARS', '-', 'CoV-2', 'main', 'and', 'papain', '-', 'like', 'protease', '(', 'PL(pro', ')', ')', ',', 'which', 'cleave', 'pp1a', 'and', 'pp1ab', 'polypeptide', ',', 'be', 'critical', '.', 'along', 'with', 'protease', 'activity', ',', 'the', 'PL(pro', ')', 'possess', 'deubiquitinate', 'activity', ',', 'which', 'be', 'important', 'in', 'immune', 'regulation', '.', 'naphthalene', '-', 'base', 'inhibitor', ',', 'such', 'as', 'the', 'well', '-', 'investigate', 'GRL-0617', 'compound', ',', 'have', 'be', 'show', 'to', 'possess', 'dual', 'effect', ',', 'inhibit', 'both', 'protease', 'and', 'deubiquitinate', 'activity', 'of', 'the', 'PL(pro', ')', '.', 'rather', 'than', 'bind', 'to', 'the', 'canonical', 'catalytic', 'triad', ',', 'these', 'type', 'of', 'non', '-', 'covalent', 'inhibitor', 'target', 'an', 'adjacent', 'pocket', ',', 'the', 'naphthalene', '-', 'inhibitor', 'bind', 'site', '.', 'use', 'a', 'high', '-', 'throughput', 'screen', ',', 'we', 'have', 'previously', 'identify', 'the', 'dietary', 'hypericin', ',', 'rutin', ',', 'and', 'cyanidin-3', '-', 'o', '-', 'glucoside', 'compound', 'as', 'potential', 'protease', 'inhibitor', 'target', 'the', 'naphthalene', '-', 'inhibitor', 'bind', 'site', '.', 'here', ',', 'our', 'aim', 'be', 'to', 'investigate', 'the', 'bind', 'characteristic', 'of', 'these', 'compound', 'to', 'the', 'PL(pro', ')', ',', 'and', 'to', 'evaluate', 'deubiquitinating', 'activity', ',', 'by', 'analyze', 'seven', 'different', 'PL(pro', ')', 'crystal', 'structure', '.', 'molecular', 'docking', 'highlight', 'the', 'relatively', 'high', 'affinity', 'of', 'GRL-0617', 'and', 'dietary', 'compound', '.', 'in', 'contrast', 'bind', 'of', 'the', 'small', 'molecule', 'be', 'abolish', 'in', 'the', 'presence', 'of', 'ubiquitin', 'in', 'the', 'palm', 'subdomain', 'of', 'the', 'PL(pro', ')', '.', 'far', ',', 'dock', 'the', 'small', 'molecule', 'in', 'the', 'naphthalene', '-', 'inhibitor', 'bind', 'site', ',', 'follow', 'by', 'protein', '-', 'protein', 'docking', 'reveal', 'displacement', 'of', 'ubiquitin', 'in', 'a', 'conformation', 'inconsistent', 'with', 'functional', 'activity', '.', 'finally', ',', 'the', 'deubiquitinating', 'activity', 'be', 'validate', 'in', 'vitro', 'use', 'an', 'enzymatic', 'activity', 'assay', '.', 'the', 'finding', 'indicate', 'that', 'the', 'dietary', 'compound', 'inhibit', 'deubiquitinase', 'activity', 'in', 'the', 'micromolar', 'range', 'with', 'an', 'order', 'of', 'activity', 'of', 'GRL-0167', ',', 'hypericin', '>', '>', 'rutin', ',', 'cyanidin-3', '-', 'o', '-', 'glucoside', '>', 'epigallocatechin', 'gallate', ',', 'epicatechin', 'gallate', ',', 'and', 'cefotaxime', '.', 'our', 'finding', 'be', 'in', 'accordance', 'with', 'mechanism', 'and', 'potential', 'antiviral', 'effect', 'of', 'the', 'naphthalene', '-', 'base', ',', 'GRL-0617', 'inhibitor', ',', 'which', 'be', 'currently', 'progress', 'in', 'preclinical', 'trial', '.', 'far', ',', 'our', 'finding', 'indicate', 'that', 'in', 'particular', 'hypericin', ',', 'rutin', ',', 'and', 'cyanidin-3', '-', 'o', '-', 'glucoside', ',', 'represent', 'suitable', 'candidate', 'for', 'subsequent', 'evaluation', 'as', 'PL(pro', ')', 'inhibitor', '.']\n",
      "\n",
      "['NOUN', 'VERB', 'DET', 'ADJ', 'NOUN', 'VERB', 'ADP', 'DET', 'PROPN', 'PUNCT', 'PROPN', 'NOUN', 'ADP', 'ADJ', 'ADJ', 'PUNCT', 'NOUN', 'PUNCT', 'ADJ', 'PUNCT', 'CCONJ', 'ADJ', 'NOUN', 'NOUN', 'PUNCT', 'VERB', 'NOUN', 'VERB', 'DET', 'ADJ', 'ADJ', 'NOUN', 'PUNCT', 'CCONJ', 'ADP', 'DET', 'NOUN', 'NUM', 'ADJ', 'NOUN', 'PUNCT', 'DET', 'PROPN', 'PUNCT', 'PROPN', 'ADJ', 'CCONJ', 'NOUN', 'PUNCT', 'ADJ', 'NOUN', 'PUNCT', 'PROPN', 'PUNCT', 'PUNCT', 'PUNCT', 'DET', 'VERB', 'PROPN', 'CCONJ', 'PROPN', 'NOUN', 'PUNCT', 'VERB', 'ADJ', 'PUNCT', 'ADP', 'ADP', 'NOUN', 'NOUN', 'PUNCT', 'DET', 'PROPN', 'PUNCT', 'VERB', 'VERB', 'NOUN', 'PUNCT', 'DET', 'VERB', 'ADJ', 'ADP', 'ADJ', 'NOUN', 'PUNCT', 'NOUN', 'PUNCT', 'VERB', 'NOUN', 'PUNCT', 'ADJ', 'ADP', 'DET', 'ADV', 'PUNCT', 'VERB', 'PROPN', 'NOUN', 'PUNCT', 'VERB', 'VERB', 'VERB', 'PART', 'VERB', 'ADJ', 'NOUN', 'PUNCT', 'VERB', 'CCONJ', 'NOUN', 'CCONJ', 'VERB', 'NOUN', 'ADP', 'DET', 'PROPN', 'PUNCT', 'PUNCT', 'ADV', 'SCONJ', 'VERB', 'ADP', 'DET', 'ADJ', 'ADJ', 'NOUN', 'PUNCT', 'DET', 'NOUN', 'ADP', 'ADJ', 'ADJ', 'ADJ', 'NOUN', 'VERB', 'DET', 'ADJ', 'NOUN', 'PUNCT', 'DET', 'NOUN', 'PUNCT', 'NOUN', 'VERB', 'NOUN', 'PUNCT', 'VERB', 'DET', 'ADJ', 'PUNCT', 'NOUN', 'NOUN', 'PUNCT', 'PRON', 'VERB', 'ADV', 'VERB', 'DET', 'ADJ', 'NOUN', 'PUNCT', 'NOUN', 'PUNCT', 'CCONJ', 'PROPN', 'PUNCT', 'INTJ', 'PUNCT', 'NOUN', 'NOUN', 'ADP', 'ADJ', 'NOUN', 'NOUN', 'VERB', 'DET', 'NOUN', 'PUNCT', 'NOUN', 'VERB', 'NOUN', 'PUNCT', 'ADV', 'PUNCT', 'PRON', 'NOUN', 'VERB', 'PART', 'VERB', 'DET', 'VERB', 'NOUN', 'ADP', 'DET', 'NOUN', 'ADP', 'DET', 'PROPN', 'PUNCT', 'PUNCT', 'CCONJ', 'PART', 'VERB', 'NOUN', 'NOUN', 'PUNCT', 'ADP', 'VERB', 'NUM', 'ADJ', 'PROPN', 'PUNCT', 'NOUN', 'NOUN', 'PUNCT', 'ADJ', 'NOUN', 'VERB', 'DET', 'ADV', 'ADJ', 'NOUN', 'ADP', 'PROPN', 'CCONJ', 'ADJ', 'NOUN', 'PUNCT', 'ADP', 'NOUN', 'VERB', 'ADP', 'DET', 'ADJ', 'NOUN', 'VERB', 'VERB', 'ADP', 'DET', 'NOUN', 'ADP', 'NOUN', 'ADP', 'DET', 'NOUN', 'NOUN', 'ADP', 'DET', 'PROPN', 'PUNCT', 'PUNCT', 'ADV', 'PUNCT', 'VERB', 'DET', 'ADJ', 'NOUN', 'ADP', 'DET', 'NOUN', 'PUNCT', 'NOUN', 'VERB', 'NOUN', 'PUNCT', 'VERB', 'ADP', 'NOUN', 'PUNCT', 'NOUN', 'NOUN', 'VERB', 'NOUN', 'ADP', 'NOUN', 'ADP', 'DET', 'NOUN', 'ADJ', 'ADP', 'ADJ', 'NOUN', 'PUNCT', 'ADV', 'PUNCT', 'DET', 'NOUN', 'NOUN', 'VERB', 'VERB', 'ADP', 'X', 'VERB', 'DET', 'ADJ', 'NOUN', 'NOUN', 'PUNCT', 'DET', 'NOUN', 'VERB', 'SCONJ', 'DET', 'ADJ', 'NOUN', 'VERB', 'NOUN', 'NOUN', 'ADP', 'DET', 'NOUN', 'NOUN', 'ADP', 'DET', 'NOUN', 'ADP', 'NOUN', 'ADP', 'PROPN', 'PUNCT', 'PROPN', 'X', 'PUNCT', 'NOUN', 'PUNCT', 'PROPN', 'PUNCT', 'NOUN', 'PUNCT', 'NOUN', 'X', 'X', 'NOUN', 'PUNCT', 'NOUN', 'NOUN', 'PUNCT', 'CCONJ', 'NOUN', 'PUNCT', 'PRON', 'NOUN', 'VERB', 'ADP', 'NOUN', 'ADP', 'NOUN', 'CCONJ', 'ADJ', 'ADJ', 'NOUN', 'ADP', 'DET', 'NOUN', 'PUNCT', 'VERB', 'PUNCT', 'PROPN', 'NOUN', 'PUNCT', 'DET', 'VERB', 'ADV', 'VERB', 'ADP', 'ADJ', 'NOUN', 'PUNCT', 'ADV', 'PUNCT', 'PRON', 'NOUN', 'VERB', 'SCONJ', 'ADP', 'ADJ', 'PROPN', 'PUNCT', 'NOUN', 'PUNCT', 'CCONJ', 'PROPN', 'PUNCT', 'NOUN', 'PUNCT', 'NOUN', 'PUNCT', 'VERB', 'ADJ', 'NOUN', 'ADP', 'ADJ', 'NOUN', 'ADP', 'PROPN', 'PUNCT', 'NOUN', 'PUNCT']\n",
      "\n",
      "==============================================================\n",
      "\n",
      "\n",
      "==============================================================\n",
      "The Birkenhead drill suggests 'women and children first': government and society's reversal of the drill during the COVID-19 pandemic, left children last and cannot be allowed to continue.\n",
      "2020-10-17 00:00:00\n",
      "\n",
      "The Birkenhead drill states that in the time of crisis, the correct action is to prioritise the weakest and most vulnerable, in that example, women and children. Ethically this has been well analysed in terms of the intrinsic value of the human versus any utilitarian calculus of worth to society's function. We do not attempt to re-analyse this but do note that standard pandemic planning often disadvantages the weak and vulnerable in terms of allocation of resources to those with a greater chance of functional survival. We more argue from a debt that society owes its children in terms of the sacrifices they have made in terms of school, social life, healthcare and overall welfare during the pandemic from which they were at markedly less risk than adults. Society owes a debt to its young, and this on top of pre-existing commitments to the them that most nations fail to realise, calls for prioritisation of children and young people's issues as society rebuilds. The effects of poverty and systemic racism on many children must be tackled; so too the existential threats of climate change and pollution. COVID-19 provides a once in a generation opportunity to create a kinder, fairer society. Early signs are not good: Pub re-opening prioritised over school re-opening; no significant investment in children's services or women's health, a significant determinant of children's welfare. We highlight the way COVID-19 has, and continues, to harm children and argue that the contemporary erosion of the Birkenhead principle is simply amoral.\n",
      "\n",
      "[The, Birkenhead, drill, states, that, in, the, time, of, crisis, ,, the, correct, action, is, to, prioritise, the, weakest, and, most, vulnerable, ,, in, that, example, ,, women, and, children, ., Ethically, this, has, been, well, analysed, in, terms, of, the, intrinsic, value, of, the, human, versus, any, utilitarian, calculus, of, worth, to, society, 's, function, ., We, do, not, attempt, to, re, -, analyse, this, but, do, note, that, standard, pandemic, planning, often, disadvantages, the, weak, and, vulnerable, in, terms, of, allocation, of, resources, to, those, with, a, greater, chance, of, functional, survival, ., We, more, argue, from, a, debt, that, society, owes, its, children, in, terms, of, the, sacrifices, they, have, made, in, terms, of, school, ,, social, life, ,, healthcare, and, overall, welfare, during, the, pandemic, from, which, they, were, at, markedly, less, risk, than, adults, ., Society, owes, a, debt, to, its, young, ,, and, this, on, top, of, pre, -, existing, commitments, to, the, them, that, most, nations, fail, to, realise, ,, calls, for, prioritisation, of, children, and, young, people, 's, issues, as, society, rebuilds, ., The, effects, of, poverty, and, systemic, racism, on, many, children, must, be, tackled, ;, so, too, the, existential, threats, of, climate, change, and, pollution, ., COVID-19, provides, a, once, in, a, generation, opportunity, to, create, a, kinder, ,, fairer, society, ., Early, signs, are, not, good, :, Pub, re, -, opening, prioritised, over, school, re, -, opening, ;, no, significant, investment, in, children, 's, services, or, women, 's, health, ,, a, significant, determinant, of, children, 's, welfare, ., We, highlight, the, way, COVID-19, has, ,, and, continues, ,, to, harm, children, and, argue, that, the, contemporary, erosion, of, the, Birkenhead, principle, is, simply, amoral, .]\n",
      "\n",
      "['the', 'Birkenhead', 'drill', 'state', 'that', 'in', 'the', 'time', 'of', 'crisis', ',', 'the', 'correct', 'action', 'be', 'to', 'prioritise', 'the', 'weak', 'and', 'most', 'vulnerable', ',', 'in', 'that', 'example', ',', 'woman', 'and', 'child', '.', 'ethically', 'this', 'have', 'be', 'well', 'analyse', 'in', 'term', 'of', 'the', 'intrinsic', 'value', 'of', 'the', 'human', 'versus', 'any', 'utilitarian', 'calculus', 'of', 'worth', 'to', 'society', \"'s\", 'function', '.', 'we', 'do', 'not', 'attempt', 'to', 're', '-', 'analyse', 'this', 'but', 'do', 'note', 'that', 'standard', 'pandemic', 'planning', 'often', 'disadvantage', 'the', 'weak', 'and', 'vulnerable', 'in', 'term', 'of', 'allocation', 'of', 'resource', 'to', 'those', 'with', 'a', 'great', 'chance', 'of', 'functional', 'survival', '.', 'we', 'more', 'argue', 'from', 'a', 'debt', 'that', 'society', 'owe', 'its', 'child', 'in', 'term', 'of', 'the', 'sacrifice', 'they', 'have', 'make', 'in', 'term', 'of', 'school', ',', 'social', 'life', ',', 'healthcare', 'and', 'overall', 'welfare', 'during', 'the', 'pandemic', 'from', 'which', 'they', 'be', 'at', 'markedly', 'less', 'risk', 'than', 'adult', '.', 'society', 'owe', 'a', 'debt', 'to', 'its', 'young', ',', 'and', 'this', 'on', 'top', 'of', 'pre', '-', 'exist', 'commitment', 'to', 'the', 'they', 'that', 'most', 'nation', 'fail', 'to', 'realise', ',', 'call', 'for', 'prioritisation', 'of', 'child', 'and', 'young', 'people', \"'s\", 'issue', 'as', 'society', 'rebuild', '.', 'the', 'effect', 'of', 'poverty', 'and', 'systemic', 'racism', 'on', 'many', 'child', 'must', 'be', 'tackle', ';', 'so', 'too', 'the', 'existential', 'threat', 'of', 'climate', 'change', 'and', 'pollution', '.', 'covid-19', 'provide', 'a', 'once', 'in', 'a', 'generation', 'opportunity', 'to', 'create', 'a', 'kind', ',', 'fair', 'society', '.', 'early', 'sign', 'be', 'not', 'good', ':', 'Pub', 're', '-', 'opening', 'prioritise', 'over', 'school', 're', '-', 'opening', ';', 'no', 'significant', 'investment', 'in', 'child', \"'s\", 'service', 'or', 'woman', \"'s\", 'health', ',', 'a', 'significant', 'determinant', 'of', 'child', \"'s\", 'welfare', '.', 'we', 'highlight', 'the', 'way', 'covid-19', 'have', ',', 'and', 'continue', ',', 'to', 'harm', 'child', 'and', 'argue', 'that', 'the', 'contemporary', 'erosion', 'of', 'the', 'Birkenhead', 'principle', 'be', 'simply', 'amoral', '.']\n",
      "\n",
      "['DET', 'PROPN', 'NOUN', 'VERB', 'SCONJ', 'ADP', 'DET', 'NOUN', 'ADP', 'NOUN', 'PUNCT', 'DET', 'ADJ', 'NOUN', 'VERB', 'PART', 'VERB', 'DET', 'ADJ', 'CCONJ', 'ADV', 'ADJ', 'PUNCT', 'ADP', 'DET', 'NOUN', 'PUNCT', 'NOUN', 'CCONJ', 'NOUN', 'PUNCT', 'ADV', 'DET', 'VERB', 'VERB', 'ADV', 'VERB', 'ADP', 'NOUN', 'ADP', 'DET', 'ADJ', 'NOUN', 'ADP', 'DET', 'NOUN', 'ADP', 'DET', 'ADJ', 'NOUN', 'ADP', 'ADJ', 'ADP', 'NOUN', 'PART', 'NOUN', 'PUNCT', 'PRON', 'VERB', 'PART', 'VERB', 'PART', 'VERB', 'VERB', 'VERB', 'DET', 'CCONJ', 'VERB', 'VERB', 'SCONJ', 'ADJ', 'ADJ', 'NOUN', 'ADV', 'VERB', 'DET', 'ADJ', 'CCONJ', 'ADJ', 'ADP', 'NOUN', 'ADP', 'NOUN', 'ADP', 'NOUN', 'ADP', 'DET', 'ADP', 'DET', 'ADJ', 'NOUN', 'ADP', 'ADJ', 'NOUN', 'PUNCT', 'PRON', 'ADV', 'VERB', 'ADP', 'DET', 'NOUN', 'DET', 'NOUN', 'VERB', 'PRON', 'NOUN', 'ADP', 'NOUN', 'ADP', 'DET', 'NOUN', 'PRON', 'VERB', 'VERB', 'ADP', 'NOUN', 'ADP', 'NOUN', 'PUNCT', 'ADJ', 'NOUN', 'PUNCT', 'NOUN', 'CCONJ', 'ADJ', 'NOUN', 'ADP', 'DET', 'NOUN', 'ADP', 'DET', 'PRON', 'VERB', 'ADP', 'ADV', 'ADJ', 'NOUN', 'SCONJ', 'NOUN', 'PUNCT', 'NOUN', 'VERB', 'DET', 'NOUN', 'ADP', 'PRON', 'ADJ', 'PUNCT', 'CCONJ', 'DET', 'ADP', 'NOUN', 'ADP', 'ADJ', 'ADJ', 'VERB', 'NOUN', 'ADP', 'DET', 'PRON', 'DET', 'ADJ', 'NOUN', 'VERB', 'PART', 'VERB', 'PUNCT', 'VERB', 'ADP', 'NOUN', 'ADP', 'NOUN', 'CCONJ', 'ADJ', 'NOUN', 'PART', 'NOUN', 'ADP', 'NOUN', 'VERB', 'PUNCT', 'DET', 'NOUN', 'ADP', 'NOUN', 'CCONJ', 'ADJ', 'NOUN', 'ADP', 'ADJ', 'NOUN', 'AUX', 'VERB', 'VERB', 'PUNCT', 'ADV', 'ADV', 'DET', 'ADJ', 'NOUN', 'ADP', 'NOUN', 'NOUN', 'CCONJ', 'NOUN', 'PUNCT', 'NOUN', 'VERB', 'DET', 'ADV', 'ADP', 'DET', 'NOUN', 'NOUN', 'PART', 'VERB', 'DET', 'ADJ', 'PUNCT', 'ADJ', 'NOUN', 'PUNCT', 'ADJ', 'NOUN', 'VERB', 'PART', 'ADJ', 'PUNCT', 'PROPN', 'NOUN', 'NOUN', 'NOUN', 'VERB', 'ADP', 'NOUN', 'NOUN', 'NOUN', 'NOUN', 'PUNCT', 'DET', 'ADJ', 'NOUN', 'ADP', 'NOUN', 'PART', 'NOUN', 'CCONJ', 'NOUN', 'PART', 'NOUN', 'PUNCT', 'DET', 'ADJ', 'NOUN', 'ADP', 'NOUN', 'PART', 'NOUN', 'PUNCT', 'PRON', 'VERB', 'DET', 'NOUN', 'NOUN', 'VERB', 'PUNCT', 'CCONJ', 'VERB', 'PUNCT', 'PART', 'VERB', 'NOUN', 'CCONJ', 'VERB', 'SCONJ', 'DET', 'ADJ', 'NOUN', 'ADP', 'DET', 'PROPN', 'NOUN', 'VERB', 'ADV', 'ADJ', 'PUNCT']\n",
      "\n",
      "==============================================================\n",
      "\n",
      "\n"
     ]
    }
   ],
   "source": [
    "# Explore the abstracts of some random papers to find some special rules for the tokenizer of specific stopwords\n",
    "for idx, row in shuffle(metadata_df).iloc[:10].iterrows():\n",
    "    print('==============================================================')\n",
    "    print(row['title'])\n",
    "    print(row['publish_time'])\n",
    "    print()\n",
    "    print(row['abstract'])\n",
    "    print()\n",
    "    doc = nlp(row['abstract'])\n",
    "    print([tk for tk in doc])\n",
    "    print()\n",
    "    print([tk.lemma_ for tk in doc])\n",
    "    print()\n",
    "    print([tk.pos_ for tk in doc])\n",
    "    print()\n",
    "    print('==============================================================')\n",
    "    print('\\n')"
   ]
  },
  {
   "cell_type": "code",
   "execution_count": 7,
   "metadata": {},
   "outputs": [
    {
     "data": {
      "text/html": [
       "\n",
       "  <style>\n",
       "    pre {\n",
       "        white-space: pre-wrap;\n",
       "    }\n",
       "  </style>\n",
       "  "
      ],
      "text/plain": [
       "<IPython.core.display.HTML object>"
      ]
     },
     "metadata": {},
     "output_type": "display_data"
    }
   ],
   "source": [
    "# Add LanguageDetector and assign it a string name\n",
    "@Language.factory(\"language_detector\")\n",
    "def create_language_detector(nlp, name):\n",
    "    return LanguageDetector(language_detection_function=None)"
   ]
  },
  {
   "cell_type": "code",
   "execution_count": null,
   "metadata": {},
   "outputs": [],
   "source": [
    "mult_nlp = spacy.load('xx_sent_ud_sm')\n",
    "mult_nlp.add_pipe('language_detector', last=True)"
   ]
  },
  {
   "cell_type": "code",
   "execution_count": 8,
   "metadata": {},
   "outputs": [
    {
     "data": {
      "text/html": [
       "\n",
       "  <style>\n",
       "    pre {\n",
       "        white-space: pre-wrap;\n",
       "    }\n",
       "  </style>\n",
       "  "
      ],
      "text/plain": [
       "<IPython.core.display.HTML object>"
      ]
     },
     "metadata": {},
     "output_type": "display_data"
    },
    {
     "data": {
      "text/html": [
       "<div>\n",
       "<style scoped>\n",
       "    .dataframe tbody tr th:only-of-type {\n",
       "        vertical-align: middle;\n",
       "    }\n",
       "\n",
       "    .dataframe tbody tr th {\n",
       "        vertical-align: top;\n",
       "    }\n",
       "\n",
       "    .dataframe thead th {\n",
       "        text-align: right;\n",
       "    }\n",
       "</style>\n",
       "<table border=\"1\" class=\"dataframe\">\n",
       "  <thead>\n",
       "    <tr style=\"text-align: right;\">\n",
       "      <th></th>\n",
       "      <th>Term</th>\n",
       "      <th>Hash</th>\n",
       "      <th>Stopword</th>\n",
       "    </tr>\n",
       "  </thead>\n",
       "  <tbody>\n",
       "    <tr>\n",
       "      <th>0</th>\n",
       "      <td>nuthin</td>\n",
       "      <td>17780520906925867008</td>\n",
       "      <td>False</td>\n",
       "    </tr>\n",
       "    <tr>\n",
       "      <th>1</th>\n",
       "      <td>ü.</td>\n",
       "      <td>9616619598791593984</td>\n",
       "      <td>False</td>\n",
       "    </tr>\n",
       "    <tr>\n",
       "      <th>2</th>\n",
       "      <td>p.m</td>\n",
       "      <td>6364458155313776643</td>\n",
       "      <td>False</td>\n",
       "    </tr>\n",
       "    <tr>\n",
       "      <th>3</th>\n",
       "      <td>Kan</td>\n",
       "      <td>8969436956900823045</td>\n",
       "      <td>False</td>\n",
       "    </tr>\n",
       "    <tr>\n",
       "      <th>4</th>\n",
       "      <td>Mar</td>\n",
       "      <td>12595687976425261068</td>\n",
       "      <td>False</td>\n",
       "    </tr>\n",
       "    <tr>\n",
       "      <th>...</th>\n",
       "      <td>...</td>\n",
       "      <td>...</td>\n",
       "      <td>...</td>\n",
       "    </tr>\n",
       "    <tr>\n",
       "      <th>756</th>\n",
       "      <td>She's</td>\n",
       "      <td>7021531544473137138</td>\n",
       "      <td>False</td>\n",
       "    </tr>\n",
       "    <tr>\n",
       "      <th>757</th>\n",
       "      <td>ve</td>\n",
       "      <td>10105644630884274164</td>\n",
       "      <td>False</td>\n",
       "    </tr>\n",
       "    <tr>\n",
       "      <th>758</th>\n",
       "      <td>E.g.</td>\n",
       "      <td>4115108073383360500</td>\n",
       "      <td>False</td>\n",
       "    </tr>\n",
       "    <tr>\n",
       "      <th>759</th>\n",
       "      <td>:-|</td>\n",
       "      <td>280013313535684598</td>\n",
       "      <td>False</td>\n",
       "    </tr>\n",
       "    <tr>\n",
       "      <th>760</th>\n",
       "      <td>:*</td>\n",
       "      <td>13087474692530913272</td>\n",
       "      <td>False</td>\n",
       "    </tr>\n",
       "  </tbody>\n",
       "</table>\n",
       "<p>761 rows × 3 columns</p>\n",
       "</div>"
      ],
      "text/plain": [
       "       Term                  Hash  Stopword\n",
       "0    nuthin  17780520906925867008     False\n",
       "1        ü.   9616619598791593984     False\n",
       "2       p.m   6364458155313776643     False\n",
       "3       Kan   8969436956900823045     False\n",
       "4       Mar  12595687976425261068     False\n",
       "..      ...                   ...       ...\n",
       "756   She's   7021531544473137138     False\n",
       "757      ve  10105644630884274164     False\n",
       "758    E.g.   4115108073383360500     False\n",
       "759     :-|    280013313535684598     False\n",
       "760      :*  13087474692530913272     False\n",
       "\n",
       "[761 rows x 3 columns]"
      ]
     },
     "execution_count": 8,
     "metadata": {},
     "output_type": "execute_result"
    }
   ],
   "source": [
    "# Explore the vocabulary\n",
    "results = []\n",
    "for lex in nlp.vocab:\n",
    "    r = {}\n",
    "    r['Term'] = lex.text\n",
    "    r['Hash'] = lex.orth\n",
    "    r['Stopword'] = lex.is_stop\n",
    "    results.append(r)\n",
    "\n",
    "results_df = pd.DataFrame(results)\n",
    "results_df"
   ]
  },
  {
   "cell_type": "code",
   "execution_count": 10,
   "metadata": {},
   "outputs": [
    {
     "data": {
      "text/html": [
       "\n",
       "  <style>\n",
       "    pre {\n",
       "        white-space: pre-wrap;\n",
       "    }\n",
       "  </style>\n",
       "  "
      ],
      "text/plain": [
       "<IPython.core.display.HTML object>"
      ]
     },
     "metadata": {},
     "output_type": "display_data"
    },
    {
     "data": {
      "text/html": [
       "<div>\n",
       "<style scoped>\n",
       "    .dataframe tbody tr th:only-of-type {\n",
       "        vertical-align: middle;\n",
       "    }\n",
       "\n",
       "    .dataframe tbody tr th {\n",
       "        vertical-align: top;\n",
       "    }\n",
       "\n",
       "    .dataframe thead th {\n",
       "        text-align: right;\n",
       "    }\n",
       "</style>\n",
       "<table border=\"1\" class=\"dataframe\">\n",
       "  <thead>\n",
       "    <tr style=\"text-align: right;\">\n",
       "      <th></th>\n",
       "      <th>Term</th>\n",
       "      <th>Hash</th>\n",
       "      <th>Stopword</th>\n",
       "    </tr>\n",
       "  </thead>\n",
       "  <tbody>\n",
       "    <tr>\n",
       "      <th>14</th>\n",
       "      <td>it</td>\n",
       "      <td>10239237003504588839</td>\n",
       "      <td>True</td>\n",
       "    </tr>\n",
       "    <tr>\n",
       "      <th>25</th>\n",
       "      <td>is</td>\n",
       "      <td>3411606890003347522</td>\n",
       "      <td>True</td>\n",
       "    </tr>\n",
       "    <tr>\n",
       "      <th>28</th>\n",
       "      <td>Might</td>\n",
       "      <td>9747367433533540424</td>\n",
       "      <td>True</td>\n",
       "    </tr>\n",
       "    <tr>\n",
       "      <th>35</th>\n",
       "      <td>where</td>\n",
       "      <td>16318918034475841628</td>\n",
       "      <td>True</td>\n",
       "    </tr>\n",
       "    <tr>\n",
       "      <th>46</th>\n",
       "      <td>must</td>\n",
       "      <td>7290638946010101875</td>\n",
       "      <td>True</td>\n",
       "    </tr>\n",
       "    <tr>\n",
       "      <th>...</th>\n",
       "      <td>...</td>\n",
       "      <td>...</td>\n",
       "      <td>...</td>\n",
       "    </tr>\n",
       "    <tr>\n",
       "      <th>705</th>\n",
       "      <td>They</td>\n",
       "      <td>14947529218328092544</td>\n",
       "      <td>True</td>\n",
       "    </tr>\n",
       "    <tr>\n",
       "      <th>714</th>\n",
       "      <td>Had</td>\n",
       "      <td>6865576549405853585</td>\n",
       "      <td>True</td>\n",
       "    </tr>\n",
       "    <tr>\n",
       "      <th>733</th>\n",
       "      <td>should</td>\n",
       "      <td>10292920167869855674</td>\n",
       "      <td>True</td>\n",
       "    </tr>\n",
       "    <tr>\n",
       "      <th>741</th>\n",
       "      <td>are</td>\n",
       "      <td>5012629990875267006</td>\n",
       "      <td>True</td>\n",
       "    </tr>\n",
       "    <tr>\n",
       "      <th>746</th>\n",
       "      <td>and</td>\n",
       "      <td>2283656566040971221</td>\n",
       "      <td>True</td>\n",
       "    </tr>\n",
       "  </tbody>\n",
       "</table>\n",
       "<p>99 rows × 3 columns</p>\n",
       "</div>"
      ],
      "text/plain": [
       "       Term                  Hash  Stopword\n",
       "14       it  10239237003504588839      True\n",
       "25       is   3411606890003347522      True\n",
       "28    Might   9747367433533540424      True\n",
       "35    where  16318918034475841628      True\n",
       "46     must   7290638946010101875      True\n",
       "..      ...                   ...       ...\n",
       "705    They  14947529218328092544      True\n",
       "714     Had   6865576549405853585      True\n",
       "733  should  10292920167869855674      True\n",
       "741     are   5012629990875267006      True\n",
       "746     and   2283656566040971221      True\n",
       "\n",
       "[99 rows x 3 columns]"
      ]
     },
     "execution_count": 10,
     "metadata": {},
     "output_type": "execute_result"
    }
   ],
   "source": [
    "# Visualize some stopwords\n",
    "results_df.loc[results_df['Stopword']]"
   ]
  },
  {
   "cell_type": "code",
   "execution_count": 9,
   "metadata": {},
   "outputs": [
    {
     "data": {
      "text/html": [
       "\n",
       "  <style>\n",
       "    pre {\n",
       "        white-space: pre-wrap;\n",
       "    }\n",
       "  </style>\n",
       "  "
      ],
      "text/plain": [
       "<IPython.core.display.HTML object>"
      ]
     },
     "metadata": {},
     "output_type": "display_data"
    }
   ],
   "source": [
    "# Add some special cases for the tokenizer\n",
    "nlp.tokenizer.add_special_case('SARS-CoV-2', [{ORTH: 'SARS'}, {ORTH: '-'}, {ORTH: 'CoV-2'}])\n",
    "nlp.tokenizer.add_special_case('SARSr-CoV', [{ORTH: 'SARSr'}, {ORTH: '-'}, {ORTH: 'CoV'}])\n",
    "\n",
    "# Define the valid POS for the abstract tokens\n",
    "valid_POS = set(['VERB', 'NOUN', 'ADJ', 'PROPN'])\n",
    "\n",
    "def abstract_preprocessing(raw_abstract, mult_nlp, nlp, valid_POS):\n",
    "    '''\n",
    "    Preprocess the abstract text to extract only the valid lemmas.\n",
    "    \n",
    "    Args:\n",
    "    - raw_abstract (str): Original abstract string.\n",
    "    - mult_nlp (spacy.lang.xx.MultiLanguage): Multilanguage Spacy tokenizer.\n",
    "    - nlp (spacy.lang.en.English): English Spacy tokenizer.\n",
    "    - valid_POS (set): Set of the string representations of the valid POS.\n",
    "    \n",
    "    Returns:\n",
    "    - lemmas (list): List of the valid lemmas of the given abstract.\n",
    "    '''\n",
    "    mult_doc = mult_nlp(raw_abstract)\n",
    "    english_text = ' '.join([sent.text for sent in mult_doc.sents if sent._.language['language'] == 'en'])\n",
    "    doc = nlp(english_text)\n",
    "    \n",
    "    lemmas = []\n",
    "    for i, token in enumerate(doc):\n",
    "        if not token.is_stop and (token.is_alpha or token.is_digit) and token.pos_ in valid_POS:\n",
    "            lemmas.append(token.lemma_)\n",
    "    \n",
    "    return lemmas\n"
   ]
  },
  {
   "cell_type": "code",
   "execution_count": 10,
   "metadata": {},
   "outputs": [
    {
     "data": {
      "text/html": [
       "\n",
       "  <style>\n",
       "    pre {\n",
       "        white-space: pre-wrap;\n",
       "    }\n",
       "  </style>\n",
       "  "
      ],
      "text/plain": [
       "<IPython.core.display.HTML object>"
      ]
     },
     "metadata": {},
     "output_type": "display_data"
    },
    {
     "name": "stderr",
     "output_type": "stream",
     "text": [
      "100%|██████████| 396056/396056 [4:57:21<00:00, 22.20it/s]  \n",
      "<ipython-input-10-3882f4230122>:2: SettingWithCopyWarning: \n",
      "A value is trying to be set on a copy of a slice from a DataFrame.\n",
      "Try using .loc[row_indexer,col_indexer] = value instead\n",
      "\n",
      "See the caveats in the documentation: https://pandas.pydata.org/pandas-docs/stable/user_guide/indexing.html#returning-a-view-versus-a-copy\n",
      "  metadata_df['lemmas'] = metadata_df['abstract'].progress_apply(lambda abstract: abstract_preprocessing(abstract, mult_nlp, nlp, valid_POS))\n"
     ]
    },
    {
     "data": {
      "text/html": [
       "<div>\n",
       "<style scoped>\n",
       "    .dataframe tbody tr th:only-of-type {\n",
       "        vertical-align: middle;\n",
       "    }\n",
       "\n",
       "    .dataframe tbody tr th {\n",
       "        vertical-align: top;\n",
       "    }\n",
       "\n",
       "    .dataframe thead th {\n",
       "        text-align: right;\n",
       "    }\n",
       "</style>\n",
       "<table border=\"1\" class=\"dataframe\">\n",
       "  <thead>\n",
       "    <tr style=\"text-align: right;\">\n",
       "      <th></th>\n",
       "      <th>cord_uid</th>\n",
       "      <th>sha</th>\n",
       "      <th>source_x</th>\n",
       "      <th>title</th>\n",
       "      <th>doi</th>\n",
       "      <th>pmcid</th>\n",
       "      <th>pubmed_id</th>\n",
       "      <th>license</th>\n",
       "      <th>abstract</th>\n",
       "      <th>publish_time</th>\n",
       "      <th>authors</th>\n",
       "      <th>journal</th>\n",
       "      <th>mag_id</th>\n",
       "      <th>who_covidence_id</th>\n",
       "      <th>arxiv_id</th>\n",
       "      <th>pdf_json_files</th>\n",
       "      <th>pmc_json_files</th>\n",
       "      <th>url</th>\n",
       "      <th>s2_id</th>\n",
       "      <th>lemmas</th>\n",
       "    </tr>\n",
       "  </thead>\n",
       "  <tbody>\n",
       "    <tr>\n",
       "      <th>0</th>\n",
       "      <td>ug7v899j</td>\n",
       "      <td>d1aafb70c066a2068b02786f8929fd9c900897fb</td>\n",
       "      <td>PMC</td>\n",
       "      <td>Clinical features of culture-proven Mycoplasma...</td>\n",
       "      <td>10.1186/1471-2334-1-6</td>\n",
       "      <td>PMC35282</td>\n",
       "      <td>11472636</td>\n",
       "      <td>no-cc</td>\n",
       "      <td>OBJECTIVE: This retrospective chart review des...</td>\n",
       "      <td>2001-07-04</td>\n",
       "      <td>Madani, Tariq A; Al-Ghamdi, Aisha A</td>\n",
       "      <td>BMC Infect Dis</td>\n",
       "      <td>NaN</td>\n",
       "      <td>NaN</td>\n",
       "      <td>NaN</td>\n",
       "      <td>document_parses/pdf_json/d1aafb70c066a2068b027...</td>\n",
       "      <td>document_parses/pmc_json/PMC35282.xml.json</td>\n",
       "      <td>https://www.ncbi.nlm.nih.gov/pmc/articles/PMC3...</td>\n",
       "      <td>NaN</td>\n",
       "      <td>[retrospective, chart, review, describe, epide...</td>\n",
       "    </tr>\n",
       "    <tr>\n",
       "      <th>1</th>\n",
       "      <td>02tnwd4m</td>\n",
       "      <td>6b0567729c2143a66d737eb0a2f63f2dce2e5a7d</td>\n",
       "      <td>PMC</td>\n",
       "      <td>Nitric oxide: a pro-inflammatory mediator in l...</td>\n",
       "      <td>10.1186/rr14</td>\n",
       "      <td>PMC59543</td>\n",
       "      <td>11667967</td>\n",
       "      <td>no-cc</td>\n",
       "      <td>Inflammatory diseases of the respiratory tract...</td>\n",
       "      <td>2000-08-15</td>\n",
       "      <td>Vliet, Albert van der; Eiserich, Jason P; Cros...</td>\n",
       "      <td>Respir Res</td>\n",
       "      <td>NaN</td>\n",
       "      <td>NaN</td>\n",
       "      <td>NaN</td>\n",
       "      <td>document_parses/pdf_json/6b0567729c2143a66d737...</td>\n",
       "      <td>document_parses/pmc_json/PMC59543.xml.json</td>\n",
       "      <td>https://www.ncbi.nlm.nih.gov/pmc/articles/PMC5...</td>\n",
       "      <td>NaN</td>\n",
       "      <td>[inflammatory, disease, respiratory, tract, as...</td>\n",
       "    </tr>\n",
       "    <tr>\n",
       "      <th>2</th>\n",
       "      <td>ejv2xln0</td>\n",
       "      <td>06ced00a5fc04215949aa72528f2eeaae1d58927</td>\n",
       "      <td>PMC</td>\n",
       "      <td>Surfactant protein-D and pulmonary host defense</td>\n",
       "      <td>10.1186/rr19</td>\n",
       "      <td>PMC59549</td>\n",
       "      <td>11667972</td>\n",
       "      <td>no-cc</td>\n",
       "      <td>Surfactant protein-D (SP-D) participates in th...</td>\n",
       "      <td>2000-08-25</td>\n",
       "      <td>Crouch, Erika C</td>\n",
       "      <td>Respir Res</td>\n",
       "      <td>NaN</td>\n",
       "      <td>NaN</td>\n",
       "      <td>NaN</td>\n",
       "      <td>document_parses/pdf_json/06ced00a5fc04215949aa...</td>\n",
       "      <td>document_parses/pmc_json/PMC59549.xml.json</td>\n",
       "      <td>https://www.ncbi.nlm.nih.gov/pmc/articles/PMC5...</td>\n",
       "      <td>NaN</td>\n",
       "      <td>[surfactant, protein, d, SP, D, participate, i...</td>\n",
       "    </tr>\n",
       "    <tr>\n",
       "      <th>3</th>\n",
       "      <td>2b73a28n</td>\n",
       "      <td>348055649b6b8cf2b9a376498df9bf41f7123605</td>\n",
       "      <td>PMC</td>\n",
       "      <td>Role of endothelin-1 in lung disease</td>\n",
       "      <td>10.1186/rr44</td>\n",
       "      <td>PMC59574</td>\n",
       "      <td>11686871</td>\n",
       "      <td>no-cc</td>\n",
       "      <td>Endothelin-1 (ET-1) is a 21 amino acid peptide...</td>\n",
       "      <td>2001-02-22</td>\n",
       "      <td>Fagan, Karen A; McMurtry, Ivan F; Rodman, David M</td>\n",
       "      <td>Respir Res</td>\n",
       "      <td>NaN</td>\n",
       "      <td>NaN</td>\n",
       "      <td>NaN</td>\n",
       "      <td>document_parses/pdf_json/348055649b6b8cf2b9a37...</td>\n",
       "      <td>document_parses/pmc_json/PMC59574.xml.json</td>\n",
       "      <td>https://www.ncbi.nlm.nih.gov/pmc/articles/PMC5...</td>\n",
       "      <td>NaN</td>\n",
       "      <td>[amino, acid, peptide, diverse, biological, ac...</td>\n",
       "    </tr>\n",
       "    <tr>\n",
       "      <th>4</th>\n",
       "      <td>9785vg6d</td>\n",
       "      <td>5f48792a5fa08bed9f56016f4981ae2ca6031b32</td>\n",
       "      <td>PMC</td>\n",
       "      <td>Gene expression in epithelial cells in respons...</td>\n",
       "      <td>10.1186/rr61</td>\n",
       "      <td>PMC59580</td>\n",
       "      <td>11686888</td>\n",
       "      <td>no-cc</td>\n",
       "      <td>Respiratory syncytial virus (RSV) and pneumoni...</td>\n",
       "      <td>2001-05-11</td>\n",
       "      <td>Domachowske, Joseph B; Bonville, Cynthia A; Ro...</td>\n",
       "      <td>Respir Res</td>\n",
       "      <td>NaN</td>\n",
       "      <td>NaN</td>\n",
       "      <td>NaN</td>\n",
       "      <td>document_parses/pdf_json/5f48792a5fa08bed9f560...</td>\n",
       "      <td>document_parses/pmc_json/PMC59580.xml.json</td>\n",
       "      <td>https://www.ncbi.nlm.nih.gov/pmc/articles/PMC5...</td>\n",
       "      <td>NaN</td>\n",
       "      <td>[respiratory, syncytial, virus, RSV, pneumonia...</td>\n",
       "    </tr>\n",
       "    <tr>\n",
       "      <th>...</th>\n",
       "      <td>...</td>\n",
       "      <td>...</td>\n",
       "      <td>...</td>\n",
       "      <td>...</td>\n",
       "      <td>...</td>\n",
       "      <td>...</td>\n",
       "      <td>...</td>\n",
       "      <td>...</td>\n",
       "      <td>...</td>\n",
       "      <td>...</td>\n",
       "      <td>...</td>\n",
       "      <td>...</td>\n",
       "      <td>...</td>\n",
       "      <td>...</td>\n",
       "      <td>...</td>\n",
       "      <td>...</td>\n",
       "      <td>...</td>\n",
       "      <td>...</td>\n",
       "      <td>...</td>\n",
       "      <td>...</td>\n",
       "    </tr>\n",
       "    <tr>\n",
       "      <th>544401</th>\n",
       "      <td>x7mhzhw9</td>\n",
       "      <td>1fca7a77b04fc4a1b326c8a48964ee0d6a768e86</td>\n",
       "      <td>Medline; PMC</td>\n",
       "      <td>The COVID19 pandemic crisis and the relevance ...</td>\n",
       "      <td>10.1007/s12571-020-01071-6</td>\n",
       "      <td>PMC7343897</td>\n",
       "      <td>32837643</td>\n",
       "      <td>cc-by</td>\n",
       "      <td>The Covid19 pandemic should be seen as a wake-...</td>\n",
       "      <td>2020-07-09</td>\n",
       "      <td>Bhavani, R. V.; Gopinath, R.</td>\n",
       "      <td>Food Secur</td>\n",
       "      <td>NaN</td>\n",
       "      <td>NaN</td>\n",
       "      <td>NaN</td>\n",
       "      <td>document_parses/pdf_json/1fca7a77b04fc4a1b326c...</td>\n",
       "      <td>document_parses/pmc_json/PMC7343897.xml.json</td>\n",
       "      <td>https://doi.org/10.1007/s12571-020-01071-6; ht...</td>\n",
       "      <td>220417712.0</td>\n",
       "      <td>[pandemic, see, wake, humanity, reflect, rethi...</td>\n",
       "    </tr>\n",
       "    <tr>\n",
       "      <th>544402</th>\n",
       "      <td>n47e9u3c</td>\n",
       "      <td>91351188e43719fe66f83b9144832073eae26dc9</td>\n",
       "      <td>Elsevier; PMC</td>\n",
       "      <td>Law and policy of platform economy in China</td>\n",
       "      <td>10.1016/j.clsr.2020.105493</td>\n",
       "      <td>PMC7581424</td>\n",
       "      <td>NaN</td>\n",
       "      <td>els-covid</td>\n",
       "      <td>China is experiencing a phenomenal expansion o...</td>\n",
       "      <td>2020-11-30</td>\n",
       "      <td>You, Chuanman</td>\n",
       "      <td>Computer Law &amp; Security Review</td>\n",
       "      <td>NaN</td>\n",
       "      <td>NaN</td>\n",
       "      <td>NaN</td>\n",
       "      <td>document_parses/pdf_json/91351188e43719fe66f83...</td>\n",
       "      <td>NaN</td>\n",
       "      <td>https://www.sciencedirect.com/science/article/...</td>\n",
       "      <td>225041999.0</td>\n",
       "      <td>[China, experience, phenomenal, expansion, pla...</td>\n",
       "    </tr>\n",
       "    <tr>\n",
       "      <th>544403</th>\n",
       "      <td>yia4uww0</td>\n",
       "      <td>612fef2d60ed24807bf9ce083bc619059885d1dd</td>\n",
       "      <td>Medline; PMC</td>\n",
       "      <td>The perception of nurses towards their roles d...</td>\n",
       "      <td>10.1111/ijcp.13919</td>\n",
       "      <td>PMC7883258</td>\n",
       "      <td>33296522</td>\n",
       "      <td>no-cc</td>\n",
       "      <td>PURPOSE: The study aims to evaluate the availa...</td>\n",
       "      <td>2020-12-23</td>\n",
       "      <td>Abuhammad, Sawsan; AlAzzam, Manar; Mukattash, ...</td>\n",
       "      <td>Int J Clin Pract</td>\n",
       "      <td>NaN</td>\n",
       "      <td>NaN</td>\n",
       "      <td>NaN</td>\n",
       "      <td>document_parses/pdf_json/612fef2d60ed24807bf9c...</td>\n",
       "      <td>document_parses/pmc_json/PMC7883258.xml.json</td>\n",
       "      <td>https://doi.org/10.1111/ijcp.13919; https://ww...</td>\n",
       "      <td>228089464.0</td>\n",
       "      <td>[study, aim, evaluate, available, content, loc...</td>\n",
       "    </tr>\n",
       "    <tr>\n",
       "      <th>544404</th>\n",
       "      <td>nrpiyq1g</td>\n",
       "      <td>645c9aec6eed5f1c1436ab4083d35f1107e6467e</td>\n",
       "      <td>Medline; PMC</td>\n",
       "      <td>Choroid Plexus: The Orchestrator of Long-Range...</td>\n",
       "      <td>10.3390/ijms21134760</td>\n",
       "      <td>PMC7369786</td>\n",
       "      <td>32635478</td>\n",
       "      <td>cc-by</td>\n",
       "      <td>Cerebrospinal fluid (CSF) is the liquid that f...</td>\n",
       "      <td>2020-07-04</td>\n",
       "      <td>Kaiser, Karol; Bryja, Vitezslav</td>\n",
       "      <td>Int J Mol Sci</td>\n",
       "      <td>NaN</td>\n",
       "      <td>NaN</td>\n",
       "      <td>NaN</td>\n",
       "      <td>document_parses/pdf_json/645c9aec6eed5f1c1436a...</td>\n",
       "      <td>document_parses/pmc_json/PMC7369786.xml.json</td>\n",
       "      <td>https://www.ncbi.nlm.nih.gov/pubmed/32635478/;...</td>\n",
       "      <td>220412134.0</td>\n",
       "      <td>[cerebrospinal, fluid, CSF, liquid, fill, brai...</td>\n",
       "    </tr>\n",
       "    <tr>\n",
       "      <th>544405</th>\n",
       "      <td>00tprg6w</td>\n",
       "      <td>f8888e195680f58ab6a413e7cafcf1b17339c549</td>\n",
       "      <td>Medline; PMC</td>\n",
       "      <td>North East London coronavirus disease 2019 pro...</td>\n",
       "      <td>10.1017/s0022215120001267</td>\n",
       "      <td>PMC7399153</td>\n",
       "      <td>32613916</td>\n",
       "      <td>cc-by</td>\n",
       "      <td>BACKGROUND: The coronavirus disease 2019 pande...</td>\n",
       "      <td>2020-06-18</td>\n",
       "      <td>Warner, E; Scholfield, D W; Adams, A; Richards...</td>\n",
       "      <td>The Journal of laryngology and otology</td>\n",
       "      <td>NaN</td>\n",
       "      <td>NaN</td>\n",
       "      <td>NaN</td>\n",
       "      <td>document_parses/pdf_json/f8888e195680f58ab6a41...</td>\n",
       "      <td>document_parses/pmc_json/PMC7399153.xml.json</td>\n",
       "      <td>https://doi.org/10.1017/s0022215120001267; htt...</td>\n",
       "      <td>220308469.0</td>\n",
       "      <td>[background, coronavirus, disease, pandemic, r...</td>\n",
       "    </tr>\n",
       "  </tbody>\n",
       "</table>\n",
       "<p>396056 rows × 20 columns</p>\n",
       "</div>"
      ],
      "text/plain": [
       "        cord_uid                                       sha       source_x  \\\n",
       "0       ug7v899j  d1aafb70c066a2068b02786f8929fd9c900897fb            PMC   \n",
       "1       02tnwd4m  6b0567729c2143a66d737eb0a2f63f2dce2e5a7d            PMC   \n",
       "2       ejv2xln0  06ced00a5fc04215949aa72528f2eeaae1d58927            PMC   \n",
       "3       2b73a28n  348055649b6b8cf2b9a376498df9bf41f7123605            PMC   \n",
       "4       9785vg6d  5f48792a5fa08bed9f56016f4981ae2ca6031b32            PMC   \n",
       "...          ...                                       ...            ...   \n",
       "544401  x7mhzhw9  1fca7a77b04fc4a1b326c8a48964ee0d6a768e86   Medline; PMC   \n",
       "544402  n47e9u3c  91351188e43719fe66f83b9144832073eae26dc9  Elsevier; PMC   \n",
       "544403  yia4uww0  612fef2d60ed24807bf9ce083bc619059885d1dd   Medline; PMC   \n",
       "544404  nrpiyq1g  645c9aec6eed5f1c1436ab4083d35f1107e6467e   Medline; PMC   \n",
       "544405  00tprg6w  f8888e195680f58ab6a413e7cafcf1b17339c549   Medline; PMC   \n",
       "\n",
       "                                                    title  \\\n",
       "0       Clinical features of culture-proven Mycoplasma...   \n",
       "1       Nitric oxide: a pro-inflammatory mediator in l...   \n",
       "2         Surfactant protein-D and pulmonary host defense   \n",
       "3                    Role of endothelin-1 in lung disease   \n",
       "4       Gene expression in epithelial cells in respons...   \n",
       "...                                                   ...   \n",
       "544401  The COVID19 pandemic crisis and the relevance ...   \n",
       "544402        Law and policy of platform economy in China   \n",
       "544403  The perception of nurses towards their roles d...   \n",
       "544404  Choroid Plexus: The Orchestrator of Long-Range...   \n",
       "544405  North East London coronavirus disease 2019 pro...   \n",
       "\n",
       "                               doi       pmcid pubmed_id    license  \\\n",
       "0            10.1186/1471-2334-1-6    PMC35282  11472636      no-cc   \n",
       "1                     10.1186/rr14    PMC59543  11667967      no-cc   \n",
       "2                     10.1186/rr19    PMC59549  11667972      no-cc   \n",
       "3                     10.1186/rr44    PMC59574  11686871      no-cc   \n",
       "4                     10.1186/rr61    PMC59580  11686888      no-cc   \n",
       "...                            ...         ...       ...        ...   \n",
       "544401  10.1007/s12571-020-01071-6  PMC7343897  32837643      cc-by   \n",
       "544402  10.1016/j.clsr.2020.105493  PMC7581424       NaN  els-covid   \n",
       "544403          10.1111/ijcp.13919  PMC7883258  33296522      no-cc   \n",
       "544404        10.3390/ijms21134760  PMC7369786  32635478      cc-by   \n",
       "544405   10.1017/s0022215120001267  PMC7399153  32613916      cc-by   \n",
       "\n",
       "                                                 abstract publish_time  \\\n",
       "0       OBJECTIVE: This retrospective chart review des...   2001-07-04   \n",
       "1       Inflammatory diseases of the respiratory tract...   2000-08-15   \n",
       "2       Surfactant protein-D (SP-D) participates in th...   2000-08-25   \n",
       "3       Endothelin-1 (ET-1) is a 21 amino acid peptide...   2001-02-22   \n",
       "4       Respiratory syncytial virus (RSV) and pneumoni...   2001-05-11   \n",
       "...                                                   ...          ...   \n",
       "544401  The Covid19 pandemic should be seen as a wake-...   2020-07-09   \n",
       "544402  China is experiencing a phenomenal expansion o...   2020-11-30   \n",
       "544403  PURPOSE: The study aims to evaluate the availa...   2020-12-23   \n",
       "544404  Cerebrospinal fluid (CSF) is the liquid that f...   2020-07-04   \n",
       "544405  BACKGROUND: The coronavirus disease 2019 pande...   2020-06-18   \n",
       "\n",
       "                                                  authors  \\\n",
       "0                     Madani, Tariq A; Al-Ghamdi, Aisha A   \n",
       "1       Vliet, Albert van der; Eiserich, Jason P; Cros...   \n",
       "2                                         Crouch, Erika C   \n",
       "3       Fagan, Karen A; McMurtry, Ivan F; Rodman, David M   \n",
       "4       Domachowske, Joseph B; Bonville, Cynthia A; Ro...   \n",
       "...                                                   ...   \n",
       "544401                       Bhavani, R. V.; Gopinath, R.   \n",
       "544402                                      You, Chuanman   \n",
       "544403  Abuhammad, Sawsan; AlAzzam, Manar; Mukattash, ...   \n",
       "544404                    Kaiser, Karol; Bryja, Vitezslav   \n",
       "544405  Warner, E; Scholfield, D W; Adams, A; Richards...   \n",
       "\n",
       "                                       journal  mag_id who_covidence_id  \\\n",
       "0                               BMC Infect Dis     NaN              NaN   \n",
       "1                                   Respir Res     NaN              NaN   \n",
       "2                                   Respir Res     NaN              NaN   \n",
       "3                                   Respir Res     NaN              NaN   \n",
       "4                                   Respir Res     NaN              NaN   \n",
       "...                                        ...     ...              ...   \n",
       "544401                              Food Secur     NaN              NaN   \n",
       "544402          Computer Law & Security Review     NaN              NaN   \n",
       "544403                        Int J Clin Pract     NaN              NaN   \n",
       "544404                           Int J Mol Sci     NaN              NaN   \n",
       "544405  The Journal of laryngology and otology     NaN              NaN   \n",
       "\n",
       "       arxiv_id                                     pdf_json_files  \\\n",
       "0           NaN  document_parses/pdf_json/d1aafb70c066a2068b027...   \n",
       "1           NaN  document_parses/pdf_json/6b0567729c2143a66d737...   \n",
       "2           NaN  document_parses/pdf_json/06ced00a5fc04215949aa...   \n",
       "3           NaN  document_parses/pdf_json/348055649b6b8cf2b9a37...   \n",
       "4           NaN  document_parses/pdf_json/5f48792a5fa08bed9f560...   \n",
       "...         ...                                                ...   \n",
       "544401      NaN  document_parses/pdf_json/1fca7a77b04fc4a1b326c...   \n",
       "544402      NaN  document_parses/pdf_json/91351188e43719fe66f83...   \n",
       "544403      NaN  document_parses/pdf_json/612fef2d60ed24807bf9c...   \n",
       "544404      NaN  document_parses/pdf_json/645c9aec6eed5f1c1436a...   \n",
       "544405      NaN  document_parses/pdf_json/f8888e195680f58ab6a41...   \n",
       "\n",
       "                                      pmc_json_files  \\\n",
       "0         document_parses/pmc_json/PMC35282.xml.json   \n",
       "1         document_parses/pmc_json/PMC59543.xml.json   \n",
       "2         document_parses/pmc_json/PMC59549.xml.json   \n",
       "3         document_parses/pmc_json/PMC59574.xml.json   \n",
       "4         document_parses/pmc_json/PMC59580.xml.json   \n",
       "...                                              ...   \n",
       "544401  document_parses/pmc_json/PMC7343897.xml.json   \n",
       "544402                                           NaN   \n",
       "544403  document_parses/pmc_json/PMC7883258.xml.json   \n",
       "544404  document_parses/pmc_json/PMC7369786.xml.json   \n",
       "544405  document_parses/pmc_json/PMC7399153.xml.json   \n",
       "\n",
       "                                                      url        s2_id  \\\n",
       "0       https://www.ncbi.nlm.nih.gov/pmc/articles/PMC3...          NaN   \n",
       "1       https://www.ncbi.nlm.nih.gov/pmc/articles/PMC5...          NaN   \n",
       "2       https://www.ncbi.nlm.nih.gov/pmc/articles/PMC5...          NaN   \n",
       "3       https://www.ncbi.nlm.nih.gov/pmc/articles/PMC5...          NaN   \n",
       "4       https://www.ncbi.nlm.nih.gov/pmc/articles/PMC5...          NaN   \n",
       "...                                                   ...          ...   \n",
       "544401  https://doi.org/10.1007/s12571-020-01071-6; ht...  220417712.0   \n",
       "544402  https://www.sciencedirect.com/science/article/...  225041999.0   \n",
       "544403  https://doi.org/10.1111/ijcp.13919; https://ww...  228089464.0   \n",
       "544404  https://www.ncbi.nlm.nih.gov/pubmed/32635478/;...  220412134.0   \n",
       "544405  https://doi.org/10.1017/s0022215120001267; htt...  220308469.0   \n",
       "\n",
       "                                                   lemmas  \n",
       "0       [retrospective, chart, review, describe, epide...  \n",
       "1       [inflammatory, disease, respiratory, tract, as...  \n",
       "2       [surfactant, protein, d, SP, D, participate, i...  \n",
       "3       [amino, acid, peptide, diverse, biological, ac...  \n",
       "4       [respiratory, syncytial, virus, RSV, pneumonia...  \n",
       "...                                                   ...  \n",
       "544401  [pandemic, see, wake, humanity, reflect, rethi...  \n",
       "544402  [China, experience, phenomenal, expansion, pla...  \n",
       "544403  [study, aim, evaluate, available, content, loc...  \n",
       "544404  [cerebrospinal, fluid, CSF, liquid, fill, brai...  \n",
       "544405  [background, coronavirus, disease, pandemic, r...  \n",
       "\n",
       "[396056 rows x 20 columns]"
      ]
     },
     "execution_count": 10,
     "metadata": {},
     "output_type": "execute_result"
    }
   ],
   "source": [
    "# Tokenize and lemmatize the data\n",
    "metadata_df['lemmas'] = metadata_df['abstract'].progress_apply(lambda abstract: abstract_preprocessing(abstract, mult_nlp, nlp, valid_POS))\n",
    "metadata_df"
   ]
  },
  {
   "cell_type": "code",
   "execution_count": 11,
   "metadata": {},
   "outputs": [
    {
     "data": {
      "text/html": [
       "\n",
       "  <style>\n",
       "    pre {\n",
       "        white-space: pre-wrap;\n",
       "    }\n",
       "  </style>\n",
       "  "
      ],
      "text/plain": [
       "<IPython.core.display.HTML object>"
      ]
     },
     "metadata": {},
     "output_type": "display_data"
    }
   ],
   "source": [
    "# Save the preprocessed data\n",
    "metadata_df.to_csv('./data/metadata_processed.csv', index=False)\n",
    "nlp.to_disk('./data/en_core_extended')"
   ]
  },
  {
   "cell_type": "markdown",
   "metadata": {},
   "source": [
    "## Build the corpus"
   ]
  },
  {
   "cell_type": "code",
   "execution_count": 3,
   "metadata": {},
   "outputs": [
    {
     "data": {
      "text/html": [
       "\n",
       "  <style>\n",
       "    pre {\n",
       "        white-space: pre-wrap;\n",
       "    }\n",
       "  </style>\n",
       "  "
      ],
      "text/plain": [
       "<IPython.core.display.HTML object>"
      ]
     },
     "metadata": {},
     "output_type": "display_data"
    },
    {
     "data": {
      "text/html": [
       "<div>\n",
       "<style scoped>\n",
       "    .dataframe tbody tr th:only-of-type {\n",
       "        vertical-align: middle;\n",
       "    }\n",
       "\n",
       "    .dataframe tbody tr th {\n",
       "        vertical-align: top;\n",
       "    }\n",
       "\n",
       "    .dataframe thead th {\n",
       "        text-align: right;\n",
       "    }\n",
       "</style>\n",
       "<table border=\"1\" class=\"dataframe\">\n",
       "  <thead>\n",
       "    <tr style=\"text-align: right;\">\n",
       "      <th></th>\n",
       "      <th>cord_uid</th>\n",
       "      <th>sha</th>\n",
       "      <th>source_x</th>\n",
       "      <th>title</th>\n",
       "      <th>doi</th>\n",
       "      <th>pmcid</th>\n",
       "      <th>pubmed_id</th>\n",
       "      <th>license</th>\n",
       "      <th>abstract</th>\n",
       "      <th>publish_time</th>\n",
       "      <th>authors</th>\n",
       "      <th>journal</th>\n",
       "      <th>mag_id</th>\n",
       "      <th>who_covidence_id</th>\n",
       "      <th>arxiv_id</th>\n",
       "      <th>pdf_json_files</th>\n",
       "      <th>pmc_json_files</th>\n",
       "      <th>url</th>\n",
       "      <th>s2_id</th>\n",
       "      <th>lemmas</th>\n",
       "    </tr>\n",
       "  </thead>\n",
       "  <tbody>\n",
       "    <tr>\n",
       "      <th>0</th>\n",
       "      <td>ug7v899j</td>\n",
       "      <td>d1aafb70c066a2068b02786f8929fd9c900897fb</td>\n",
       "      <td>PMC</td>\n",
       "      <td>Clinical features of culture-proven Mycoplasma...</td>\n",
       "      <td>10.1186/1471-2334-1-6</td>\n",
       "      <td>PMC35282</td>\n",
       "      <td>11472636</td>\n",
       "      <td>no-cc</td>\n",
       "      <td>OBJECTIVE: This retrospective chart review des...</td>\n",
       "      <td>2001-07-04</td>\n",
       "      <td>Madani, Tariq A; Al-Ghamdi, Aisha A</td>\n",
       "      <td>BMC Infect Dis</td>\n",
       "      <td>NaN</td>\n",
       "      <td>NaN</td>\n",
       "      <td>NaN</td>\n",
       "      <td>document_parses/pdf_json/d1aafb70c066a2068b027...</td>\n",
       "      <td>document_parses/pmc_json/PMC35282.xml.json</td>\n",
       "      <td>https://www.ncbi.nlm.nih.gov/pmc/articles/PMC3...</td>\n",
       "      <td>NaN</td>\n",
       "      <td>[retrospective, chart, review, describe, epide...</td>\n",
       "    </tr>\n",
       "    <tr>\n",
       "      <th>1</th>\n",
       "      <td>02tnwd4m</td>\n",
       "      <td>6b0567729c2143a66d737eb0a2f63f2dce2e5a7d</td>\n",
       "      <td>PMC</td>\n",
       "      <td>Nitric oxide: a pro-inflammatory mediator in l...</td>\n",
       "      <td>10.1186/rr14</td>\n",
       "      <td>PMC59543</td>\n",
       "      <td>11667967</td>\n",
       "      <td>no-cc</td>\n",
       "      <td>Inflammatory diseases of the respiratory tract...</td>\n",
       "      <td>2000-08-15</td>\n",
       "      <td>Vliet, Albert van der; Eiserich, Jason P; Cros...</td>\n",
       "      <td>Respir Res</td>\n",
       "      <td>NaN</td>\n",
       "      <td>NaN</td>\n",
       "      <td>NaN</td>\n",
       "      <td>document_parses/pdf_json/6b0567729c2143a66d737...</td>\n",
       "      <td>document_parses/pmc_json/PMC59543.xml.json</td>\n",
       "      <td>https://www.ncbi.nlm.nih.gov/pmc/articles/PMC5...</td>\n",
       "      <td>NaN</td>\n",
       "      <td>[inflammatory, disease, respiratory, tract, as...</td>\n",
       "    </tr>\n",
       "    <tr>\n",
       "      <th>2</th>\n",
       "      <td>ejv2xln0</td>\n",
       "      <td>06ced00a5fc04215949aa72528f2eeaae1d58927</td>\n",
       "      <td>PMC</td>\n",
       "      <td>Surfactant protein-D and pulmonary host defense</td>\n",
       "      <td>10.1186/rr19</td>\n",
       "      <td>PMC59549</td>\n",
       "      <td>11667972</td>\n",
       "      <td>no-cc</td>\n",
       "      <td>Surfactant protein-D (SP-D) participates in th...</td>\n",
       "      <td>2000-08-25</td>\n",
       "      <td>Crouch, Erika C</td>\n",
       "      <td>Respir Res</td>\n",
       "      <td>NaN</td>\n",
       "      <td>NaN</td>\n",
       "      <td>NaN</td>\n",
       "      <td>document_parses/pdf_json/06ced00a5fc04215949aa...</td>\n",
       "      <td>document_parses/pmc_json/PMC59549.xml.json</td>\n",
       "      <td>https://www.ncbi.nlm.nih.gov/pmc/articles/PMC5...</td>\n",
       "      <td>NaN</td>\n",
       "      <td>[surfactant, protein, d, SP, D, participate, i...</td>\n",
       "    </tr>\n",
       "    <tr>\n",
       "      <th>3</th>\n",
       "      <td>2b73a28n</td>\n",
       "      <td>348055649b6b8cf2b9a376498df9bf41f7123605</td>\n",
       "      <td>PMC</td>\n",
       "      <td>Role of endothelin-1 in lung disease</td>\n",
       "      <td>10.1186/rr44</td>\n",
       "      <td>PMC59574</td>\n",
       "      <td>11686871</td>\n",
       "      <td>no-cc</td>\n",
       "      <td>Endothelin-1 (ET-1) is a 21 amino acid peptide...</td>\n",
       "      <td>2001-02-22</td>\n",
       "      <td>Fagan, Karen A; McMurtry, Ivan F; Rodman, David M</td>\n",
       "      <td>Respir Res</td>\n",
       "      <td>NaN</td>\n",
       "      <td>NaN</td>\n",
       "      <td>NaN</td>\n",
       "      <td>document_parses/pdf_json/348055649b6b8cf2b9a37...</td>\n",
       "      <td>document_parses/pmc_json/PMC59574.xml.json</td>\n",
       "      <td>https://www.ncbi.nlm.nih.gov/pmc/articles/PMC5...</td>\n",
       "      <td>NaN</td>\n",
       "      <td>[amino, acid, peptide, diverse, biological, ac...</td>\n",
       "    </tr>\n",
       "    <tr>\n",
       "      <th>4</th>\n",
       "      <td>9785vg6d</td>\n",
       "      <td>5f48792a5fa08bed9f56016f4981ae2ca6031b32</td>\n",
       "      <td>PMC</td>\n",
       "      <td>Gene expression in epithelial cells in respons...</td>\n",
       "      <td>10.1186/rr61</td>\n",
       "      <td>PMC59580</td>\n",
       "      <td>11686888</td>\n",
       "      <td>no-cc</td>\n",
       "      <td>Respiratory syncytial virus (RSV) and pneumoni...</td>\n",
       "      <td>2001-05-11</td>\n",
       "      <td>Domachowske, Joseph B; Bonville, Cynthia A; Ro...</td>\n",
       "      <td>Respir Res</td>\n",
       "      <td>NaN</td>\n",
       "      <td>NaN</td>\n",
       "      <td>NaN</td>\n",
       "      <td>document_parses/pdf_json/5f48792a5fa08bed9f560...</td>\n",
       "      <td>document_parses/pmc_json/PMC59580.xml.json</td>\n",
       "      <td>https://www.ncbi.nlm.nih.gov/pmc/articles/PMC5...</td>\n",
       "      <td>NaN</td>\n",
       "      <td>[respiratory, syncytial, virus, RSV, pneumonia...</td>\n",
       "    </tr>\n",
       "    <tr>\n",
       "      <th>...</th>\n",
       "      <td>...</td>\n",
       "      <td>...</td>\n",
       "      <td>...</td>\n",
       "      <td>...</td>\n",
       "      <td>...</td>\n",
       "      <td>...</td>\n",
       "      <td>...</td>\n",
       "      <td>...</td>\n",
       "      <td>...</td>\n",
       "      <td>...</td>\n",
       "      <td>...</td>\n",
       "      <td>...</td>\n",
       "      <td>...</td>\n",
       "      <td>...</td>\n",
       "      <td>...</td>\n",
       "      <td>...</td>\n",
       "      <td>...</td>\n",
       "      <td>...</td>\n",
       "      <td>...</td>\n",
       "      <td>...</td>\n",
       "    </tr>\n",
       "    <tr>\n",
       "      <th>396051</th>\n",
       "      <td>x7mhzhw9</td>\n",
       "      <td>1fca7a77b04fc4a1b326c8a48964ee0d6a768e86</td>\n",
       "      <td>Medline; PMC</td>\n",
       "      <td>The COVID19 pandemic crisis and the relevance ...</td>\n",
       "      <td>10.1007/s12571-020-01071-6</td>\n",
       "      <td>PMC7343897</td>\n",
       "      <td>32837643</td>\n",
       "      <td>cc-by</td>\n",
       "      <td>The Covid19 pandemic should be seen as a wake-...</td>\n",
       "      <td>2020-07-09</td>\n",
       "      <td>Bhavani, R. V.; Gopinath, R.</td>\n",
       "      <td>Food Secur</td>\n",
       "      <td>NaN</td>\n",
       "      <td>NaN</td>\n",
       "      <td>NaN</td>\n",
       "      <td>document_parses/pdf_json/1fca7a77b04fc4a1b326c...</td>\n",
       "      <td>document_parses/pmc_json/PMC7343897.xml.json</td>\n",
       "      <td>https://doi.org/10.1007/s12571-020-01071-6; ht...</td>\n",
       "      <td>220417712.0</td>\n",
       "      <td>[pandemic, see, wake, humanity, reflect, rethi...</td>\n",
       "    </tr>\n",
       "    <tr>\n",
       "      <th>396052</th>\n",
       "      <td>n47e9u3c</td>\n",
       "      <td>91351188e43719fe66f83b9144832073eae26dc9</td>\n",
       "      <td>Elsevier; PMC</td>\n",
       "      <td>Law and policy of platform economy in China</td>\n",
       "      <td>10.1016/j.clsr.2020.105493</td>\n",
       "      <td>PMC7581424</td>\n",
       "      <td>NaN</td>\n",
       "      <td>els-covid</td>\n",
       "      <td>China is experiencing a phenomenal expansion o...</td>\n",
       "      <td>2020-11-30</td>\n",
       "      <td>You, Chuanman</td>\n",
       "      <td>Computer Law &amp; Security Review</td>\n",
       "      <td>NaN</td>\n",
       "      <td>NaN</td>\n",
       "      <td>NaN</td>\n",
       "      <td>document_parses/pdf_json/91351188e43719fe66f83...</td>\n",
       "      <td>NaN</td>\n",
       "      <td>https://www.sciencedirect.com/science/article/...</td>\n",
       "      <td>225041999.0</td>\n",
       "      <td>[China, experience, phenomenal, expansion, pla...</td>\n",
       "    </tr>\n",
       "    <tr>\n",
       "      <th>396053</th>\n",
       "      <td>yia4uww0</td>\n",
       "      <td>612fef2d60ed24807bf9ce083bc619059885d1dd</td>\n",
       "      <td>Medline; PMC</td>\n",
       "      <td>The perception of nurses towards their roles d...</td>\n",
       "      <td>10.1111/ijcp.13919</td>\n",
       "      <td>PMC7883258</td>\n",
       "      <td>33296522</td>\n",
       "      <td>no-cc</td>\n",
       "      <td>PURPOSE: The study aims to evaluate the availa...</td>\n",
       "      <td>2020-12-23</td>\n",
       "      <td>Abuhammad, Sawsan; AlAzzam, Manar; Mukattash, ...</td>\n",
       "      <td>Int J Clin Pract</td>\n",
       "      <td>NaN</td>\n",
       "      <td>NaN</td>\n",
       "      <td>NaN</td>\n",
       "      <td>document_parses/pdf_json/612fef2d60ed24807bf9c...</td>\n",
       "      <td>document_parses/pmc_json/PMC7883258.xml.json</td>\n",
       "      <td>https://doi.org/10.1111/ijcp.13919; https://ww...</td>\n",
       "      <td>228089464.0</td>\n",
       "      <td>[study, aim, evaluate, available, content, loc...</td>\n",
       "    </tr>\n",
       "    <tr>\n",
       "      <th>396054</th>\n",
       "      <td>nrpiyq1g</td>\n",
       "      <td>645c9aec6eed5f1c1436ab4083d35f1107e6467e</td>\n",
       "      <td>Medline; PMC</td>\n",
       "      <td>Choroid Plexus: The Orchestrator of Long-Range...</td>\n",
       "      <td>10.3390/ijms21134760</td>\n",
       "      <td>PMC7369786</td>\n",
       "      <td>32635478</td>\n",
       "      <td>cc-by</td>\n",
       "      <td>Cerebrospinal fluid (CSF) is the liquid that f...</td>\n",
       "      <td>2020-07-04</td>\n",
       "      <td>Kaiser, Karol; Bryja, Vitezslav</td>\n",
       "      <td>Int J Mol Sci</td>\n",
       "      <td>NaN</td>\n",
       "      <td>NaN</td>\n",
       "      <td>NaN</td>\n",
       "      <td>document_parses/pdf_json/645c9aec6eed5f1c1436a...</td>\n",
       "      <td>document_parses/pmc_json/PMC7369786.xml.json</td>\n",
       "      <td>https://www.ncbi.nlm.nih.gov/pubmed/32635478/;...</td>\n",
       "      <td>220412134.0</td>\n",
       "      <td>[cerebrospinal, fluid, CSF, liquid, fill, brai...</td>\n",
       "    </tr>\n",
       "    <tr>\n",
       "      <th>396055</th>\n",
       "      <td>00tprg6w</td>\n",
       "      <td>f8888e195680f58ab6a413e7cafcf1b17339c549</td>\n",
       "      <td>Medline; PMC</td>\n",
       "      <td>North East London coronavirus disease 2019 pro...</td>\n",
       "      <td>10.1017/s0022215120001267</td>\n",
       "      <td>PMC7399153</td>\n",
       "      <td>32613916</td>\n",
       "      <td>cc-by</td>\n",
       "      <td>BACKGROUND: The coronavirus disease 2019 pande...</td>\n",
       "      <td>2020-06-18</td>\n",
       "      <td>Warner, E; Scholfield, D W; Adams, A; Richards...</td>\n",
       "      <td>The Journal of laryngology and otology</td>\n",
       "      <td>NaN</td>\n",
       "      <td>NaN</td>\n",
       "      <td>NaN</td>\n",
       "      <td>document_parses/pdf_json/f8888e195680f58ab6a41...</td>\n",
       "      <td>document_parses/pmc_json/PMC7399153.xml.json</td>\n",
       "      <td>https://doi.org/10.1017/s0022215120001267; htt...</td>\n",
       "      <td>220308469.0</td>\n",
       "      <td>[background, coronavirus, disease, pandemic, r...</td>\n",
       "    </tr>\n",
       "  </tbody>\n",
       "</table>\n",
       "<p>396056 rows × 20 columns</p>\n",
       "</div>"
      ],
      "text/plain": [
       "        cord_uid                                       sha       source_x  \\\n",
       "0       ug7v899j  d1aafb70c066a2068b02786f8929fd9c900897fb            PMC   \n",
       "1       02tnwd4m  6b0567729c2143a66d737eb0a2f63f2dce2e5a7d            PMC   \n",
       "2       ejv2xln0  06ced00a5fc04215949aa72528f2eeaae1d58927            PMC   \n",
       "3       2b73a28n  348055649b6b8cf2b9a376498df9bf41f7123605            PMC   \n",
       "4       9785vg6d  5f48792a5fa08bed9f56016f4981ae2ca6031b32            PMC   \n",
       "...          ...                                       ...            ...   \n",
       "396051  x7mhzhw9  1fca7a77b04fc4a1b326c8a48964ee0d6a768e86   Medline; PMC   \n",
       "396052  n47e9u3c  91351188e43719fe66f83b9144832073eae26dc9  Elsevier; PMC   \n",
       "396053  yia4uww0  612fef2d60ed24807bf9ce083bc619059885d1dd   Medline; PMC   \n",
       "396054  nrpiyq1g  645c9aec6eed5f1c1436ab4083d35f1107e6467e   Medline; PMC   \n",
       "396055  00tprg6w  f8888e195680f58ab6a413e7cafcf1b17339c549   Medline; PMC   \n",
       "\n",
       "                                                    title  \\\n",
       "0       Clinical features of culture-proven Mycoplasma...   \n",
       "1       Nitric oxide: a pro-inflammatory mediator in l...   \n",
       "2         Surfactant protein-D and pulmonary host defense   \n",
       "3                    Role of endothelin-1 in lung disease   \n",
       "4       Gene expression in epithelial cells in respons...   \n",
       "...                                                   ...   \n",
       "396051  The COVID19 pandemic crisis and the relevance ...   \n",
       "396052        Law and policy of platform economy in China   \n",
       "396053  The perception of nurses towards their roles d...   \n",
       "396054  Choroid Plexus: The Orchestrator of Long-Range...   \n",
       "396055  North East London coronavirus disease 2019 pro...   \n",
       "\n",
       "                               doi       pmcid pubmed_id    license  \\\n",
       "0            10.1186/1471-2334-1-6    PMC35282  11472636      no-cc   \n",
       "1                     10.1186/rr14    PMC59543  11667967      no-cc   \n",
       "2                     10.1186/rr19    PMC59549  11667972      no-cc   \n",
       "3                     10.1186/rr44    PMC59574  11686871      no-cc   \n",
       "4                     10.1186/rr61    PMC59580  11686888      no-cc   \n",
       "...                            ...         ...       ...        ...   \n",
       "396051  10.1007/s12571-020-01071-6  PMC7343897  32837643      cc-by   \n",
       "396052  10.1016/j.clsr.2020.105493  PMC7581424       NaN  els-covid   \n",
       "396053          10.1111/ijcp.13919  PMC7883258  33296522      no-cc   \n",
       "396054        10.3390/ijms21134760  PMC7369786  32635478      cc-by   \n",
       "396055   10.1017/s0022215120001267  PMC7399153  32613916      cc-by   \n",
       "\n",
       "                                                 abstract publish_time  \\\n",
       "0       OBJECTIVE: This retrospective chart review des...   2001-07-04   \n",
       "1       Inflammatory diseases of the respiratory tract...   2000-08-15   \n",
       "2       Surfactant protein-D (SP-D) participates in th...   2000-08-25   \n",
       "3       Endothelin-1 (ET-1) is a 21 amino acid peptide...   2001-02-22   \n",
       "4       Respiratory syncytial virus (RSV) and pneumoni...   2001-05-11   \n",
       "...                                                   ...          ...   \n",
       "396051  The Covid19 pandemic should be seen as a wake-...   2020-07-09   \n",
       "396052  China is experiencing a phenomenal expansion o...   2020-11-30   \n",
       "396053  PURPOSE: The study aims to evaluate the availa...   2020-12-23   \n",
       "396054  Cerebrospinal fluid (CSF) is the liquid that f...   2020-07-04   \n",
       "396055  BACKGROUND: The coronavirus disease 2019 pande...   2020-06-18   \n",
       "\n",
       "                                                  authors  \\\n",
       "0                     Madani, Tariq A; Al-Ghamdi, Aisha A   \n",
       "1       Vliet, Albert van der; Eiserich, Jason P; Cros...   \n",
       "2                                         Crouch, Erika C   \n",
       "3       Fagan, Karen A; McMurtry, Ivan F; Rodman, David M   \n",
       "4       Domachowske, Joseph B; Bonville, Cynthia A; Ro...   \n",
       "...                                                   ...   \n",
       "396051                       Bhavani, R. V.; Gopinath, R.   \n",
       "396052                                      You, Chuanman   \n",
       "396053  Abuhammad, Sawsan; AlAzzam, Manar; Mukattash, ...   \n",
       "396054                    Kaiser, Karol; Bryja, Vitezslav   \n",
       "396055  Warner, E; Scholfield, D W; Adams, A; Richards...   \n",
       "\n",
       "                                       journal  mag_id who_covidence_id  \\\n",
       "0                               BMC Infect Dis     NaN              NaN   \n",
       "1                                   Respir Res     NaN              NaN   \n",
       "2                                   Respir Res     NaN              NaN   \n",
       "3                                   Respir Res     NaN              NaN   \n",
       "4                                   Respir Res     NaN              NaN   \n",
       "...                                        ...     ...              ...   \n",
       "396051                              Food Secur     NaN              NaN   \n",
       "396052          Computer Law & Security Review     NaN              NaN   \n",
       "396053                        Int J Clin Pract     NaN              NaN   \n",
       "396054                           Int J Mol Sci     NaN              NaN   \n",
       "396055  The Journal of laryngology and otology     NaN              NaN   \n",
       "\n",
       "       arxiv_id                                     pdf_json_files  \\\n",
       "0           NaN  document_parses/pdf_json/d1aafb70c066a2068b027...   \n",
       "1           NaN  document_parses/pdf_json/6b0567729c2143a66d737...   \n",
       "2           NaN  document_parses/pdf_json/06ced00a5fc04215949aa...   \n",
       "3           NaN  document_parses/pdf_json/348055649b6b8cf2b9a37...   \n",
       "4           NaN  document_parses/pdf_json/5f48792a5fa08bed9f560...   \n",
       "...         ...                                                ...   \n",
       "396051      NaN  document_parses/pdf_json/1fca7a77b04fc4a1b326c...   \n",
       "396052      NaN  document_parses/pdf_json/91351188e43719fe66f83...   \n",
       "396053      NaN  document_parses/pdf_json/612fef2d60ed24807bf9c...   \n",
       "396054      NaN  document_parses/pdf_json/645c9aec6eed5f1c1436a...   \n",
       "396055      NaN  document_parses/pdf_json/f8888e195680f58ab6a41...   \n",
       "\n",
       "                                      pmc_json_files  \\\n",
       "0         document_parses/pmc_json/PMC35282.xml.json   \n",
       "1         document_parses/pmc_json/PMC59543.xml.json   \n",
       "2         document_parses/pmc_json/PMC59549.xml.json   \n",
       "3         document_parses/pmc_json/PMC59574.xml.json   \n",
       "4         document_parses/pmc_json/PMC59580.xml.json   \n",
       "...                                              ...   \n",
       "396051  document_parses/pmc_json/PMC7343897.xml.json   \n",
       "396052                                           NaN   \n",
       "396053  document_parses/pmc_json/PMC7883258.xml.json   \n",
       "396054  document_parses/pmc_json/PMC7369786.xml.json   \n",
       "396055  document_parses/pmc_json/PMC7399153.xml.json   \n",
       "\n",
       "                                                      url        s2_id  \\\n",
       "0       https://www.ncbi.nlm.nih.gov/pmc/articles/PMC3...          NaN   \n",
       "1       https://www.ncbi.nlm.nih.gov/pmc/articles/PMC5...          NaN   \n",
       "2       https://www.ncbi.nlm.nih.gov/pmc/articles/PMC5...          NaN   \n",
       "3       https://www.ncbi.nlm.nih.gov/pmc/articles/PMC5...          NaN   \n",
       "4       https://www.ncbi.nlm.nih.gov/pmc/articles/PMC5...          NaN   \n",
       "...                                                   ...          ...   \n",
       "396051  https://doi.org/10.1007/s12571-020-01071-6; ht...  220417712.0   \n",
       "396052  https://www.sciencedirect.com/science/article/...  225041999.0   \n",
       "396053  https://doi.org/10.1111/ijcp.13919; https://ww...  228089464.0   \n",
       "396054  https://www.ncbi.nlm.nih.gov/pubmed/32635478/;...  220412134.0   \n",
       "396055  https://doi.org/10.1017/s0022215120001267; htt...  220308469.0   \n",
       "\n",
       "                                                   lemmas  \n",
       "0       [retrospective, chart, review, describe, epide...  \n",
       "1       [inflammatory, disease, respiratory, tract, as...  \n",
       "2       [surfactant, protein, d, SP, D, participate, i...  \n",
       "3       [amino, acid, peptide, diverse, biological, ac...  \n",
       "4       [respiratory, syncytial, virus, RSV, pneumonia...  \n",
       "...                                                   ...  \n",
       "396051  [pandemic, see, wake, humanity, reflect, rethi...  \n",
       "396052  [China, experience, phenomenal, expansion, pla...  \n",
       "396053  [study, aim, evaluate, available, content, loc...  \n",
       "396054  [cerebrospinal, fluid, CSF, liquid, fill, brai...  \n",
       "396055  [background, coronavirus, disease, pandemic, r...  \n",
       "\n",
       "[396056 rows x 20 columns]"
      ]
     },
     "execution_count": 3,
     "metadata": {},
     "output_type": "execute_result"
    }
   ],
   "source": [
    "# Load the data\n",
    "metadata_df = pd.read_csv('./data/metadata_processed.csv', low_memory=False)\n",
    "metadata_df['lemmas'] = metadata_df['lemmas'].apply(lambda ls_str: [x.strip() for x in eval(ls_str)])\n",
    "metadata_df"
   ]
  },
  {
   "cell_type": "code",
   "execution_count": 12,
   "metadata": {},
   "outputs": [
    {
     "data": {
      "text/html": [
       "\n",
       "  <style>\n",
       "    pre {\n",
       "        white-space: pre-wrap;\n",
       "    }\n",
       "  </style>\n",
       "  "
      ],
      "text/plain": [
       "<IPython.core.display.HTML object>"
      ]
     },
     "metadata": {},
     "output_type": "display_data"
    },
    {
     "name": "stdout",
     "output_type": "stream",
     "text": [
      "Mean number of tokens: 110.74\n",
      "Median number of tokens: 111.00\n",
      "Standard deviation number of tokens: 62.15\n"
     ]
    },
    {
     "data": {
      "image/png": "[encoded data removed]",
      "text/plain": [
       "<Figure size 1440x1080 with 1 Axes>"
      ]
     },
     "metadata": {
      "needs_background": "light"
     },
     "output_type": "display_data"
    },
    {
     "data": {
      "image/png": "[encoded data removed]",
      "text/plain": [
       "<Figure size 1440x1080 with 1 Axes>"
      ]
     },
     "metadata": {
      "needs_background": "light"
     },
     "output_type": "display_data"
    }
   ],
   "source": [
    "# Explore the number of tokens per document\n",
    "n_tokens_aux = metadata_df['lemmas'].apply(lambda x: len(x))\n",
    "\n",
    "print('Mean number of tokens: {:.2f}'.format(n_tokens_aux.mean()))\n",
    "print('Median number of tokens: {:.2f}'.format(n_tokens_aux.median()))\n",
    "print('Standard deviation number of tokens: {:.2f}'.format(n_tokens_aux.std()))\n",
    "\n",
    "plt.figure(figsize=(20,15))\n",
    "plt.hist(n_tokens_aux, bins=1000)\n",
    "plt.xlabel('Number of tokens')\n",
    "plt.ylabel('Number of documents')\n",
    "plt.show()\n",
    "\n",
    "plt.figure(figsize=(20,15))\n",
    "plt.hist(n_tokens_aux[n_tokens_aux < 1000], bins=1000)\n",
    "plt.xlabel('Number of tokens')\n",
    "plt.ylabel('Number of documents')\n",
    "plt.show()"
   ]
  },
  {
   "cell_type": "code",
   "execution_count": 13,
   "metadata": {},
   "outputs": [
    {
     "data": {
      "text/html": [
       "\n",
       "  <style>\n",
       "    pre {\n",
       "        white-space: pre-wrap;\n",
       "    }\n",
       "  </style>\n",
       "  "
      ],
      "text/plain": [
       "<IPython.core.display.HTML object>"
      ]
     },
     "metadata": {},
     "output_type": "display_data"
    },
    {
     "name": "stdout",
     "output_type": "stream",
     "text": [
      "\n",
      "============= First document in corpus =============\n",
      "['retrospective', 'chart', 'review', 'describe', 'epidemiology', 'clinical', 'feature', 'patient', 'culture', 'prove', 'Mycoplasma', 'pneumoniae', 'infection', 'King', 'Abdulaziz', 'University', 'Hospital', 'Jeddah', 'Saudi', 'Arabia', 'method', 'patient', 'positive', 'pneumoniae', 'culture', 'respiratory', 'specimen', 'January', 'December', 'identify', 'Microbiology', 'record', 'chart', 'patient', 'review', 'result', 'patient', 'identify', 'require', 'admission', 'infection', 'community', 'acquire', 'infection', 'affect', 'age', 'group', 'common', 'infant', 'pre', 'school', 'child', 'occur', 'year', 'round', 'common', 'fall', 'spring', 'quarter', 'patient', 'comorbiditie', 'isolate', 'associate', 'pneumonia', 'upper', 'respiratory', 'tract', 'infection', 'bronchiolitis', 'Cough', 'fever', 'malaise', 'common', 'symptom', 'crepitation', 'wheeze', 'common', 'sign', 'patient', 'pneumonia', 'crepitation', 'bronchial', 'breathing', 'immunocompromised', 'patient', 'likely', 'non', 'immunocompromised', 'patient', 'present', 'pneumonia', 'p', 'patient', 'pneumonia', 'uneventful', 'recovery', 'recover', 'follow', 'complication', 'die', 'm', 'pneumoniae', 'infection', 'die', 'underlying', 'comorbiditie', 'patient', 'die', 'M', 'pneumoniae', 'pneumonia', 'comorbiditie', 'conclusion', 'result', 'similar', 'publish', 'datum', 'finding', 'infection', 'common', 'infant', 'preschool', 'child', 'mortality', 'rate', 'pneumonia', 'patient', 'comorbiditie', 'high']\n",
      "\n",
      "============= First document after N-gram replacement =============\n",
      "['retrospective_chart', 'review', 'describe', 'epidemiology', 'clinical', 'feature', 'patient', 'culture', 'prove', 'Mycoplasma_pneumoniae', 'infection', 'King_Abdulaziz', 'University_Hospital', 'Jeddah_Saudi', 'Arabia', 'method', 'patient', 'positive', 'pneumoniae', 'culture', 'respiratory', 'specimen', 'January_December', 'identify', 'Microbiology', 'record', 'chart', 'patient', 'review', 'result', 'patient', 'identify', 'require', 'admission', 'infection', 'community_acquire', 'infection', 'affect', 'age', 'group', 'common', 'infant', 'pre', 'school', 'child', 'occur', 'year', 'round', 'common', 'fall', 'spring', 'quarter', 'patient', 'comorbiditie', 'isolate', 'associate', 'pneumonia', 'upper_respiratory', 'tract', 'infection', 'bronchiolitis', 'Cough_fever', 'malaise', 'common', 'symptom', 'crepitation', 'wheeze', 'common', 'sign', 'patient', 'pneumonia', 'crepitation', 'bronchial', 'breathing', 'immunocompromised', 'patient', 'likely', 'non', 'immunocompromised', 'patient', 'present', 'pneumonia', 'p', 'patient', 'pneumonia', 'uneventful_recovery', 'recover', 'follow', 'complication', 'die', 'm', 'pneumoniae', 'infection', 'die', 'underlying_comorbiditie', 'patient', 'die', 'M', 'pneumoniae', 'pneumonia', 'comorbiditie', 'conclusion', 'result', 'similar', 'publish', 'datum', 'finding', 'infection', 'common', 'infant_preschool', 'child', 'mortality', 'rate', 'pneumonia', 'patient', 'comorbiditie', 'high']\n"
     ]
    }
   ],
   "source": [
    "# Build the corpus and compute N-gram detection and replacement\n",
    "corpus = metadata_df['lemmas'].to_list()\n",
    "phrase_model = Phrases(corpus, min_count=2, threshold=20)\n",
    "\n",
    "print('\\n============= First document in corpus =============')\n",
    "print(corpus[0])\n",
    "corpus = [el for el in phrase_model[corpus]]\n",
    "print('\\n============= First document after N-gram replacement =============')\n",
    "print(corpus[0])"
   ]
  },
  {
   "cell_type": "code",
   "execution_count": 14,
   "metadata": {},
   "outputs": [
    {
     "data": {
      "text/html": [
       "\n",
       "  <style>\n",
       "    pre {\n",
       "        white-space: pre-wrap;\n",
       "    }\n",
       "  </style>\n",
       "  "
      ],
      "text/plain": [
       "<IPython.core.display.HTML object>"
      ]
     },
     "metadata": {},
     "output_type": "display_data"
    },
    {
     "name": "stdout",
     "output_type": "stream",
     "text": [
      "The dictionary contains 452579 terms\n",
      "First terms in the dictionary:\n",
      "0 : Arabia\n",
      "1 : Cough_fever\n",
      "2 : January_December\n",
      "3 : Jeddah_Saudi\n",
      "4 : King_Abdulaziz\n",
      "5 : M\n",
      "6 : Microbiology\n",
      "7 : Mycoplasma_pneumoniae\n",
      "8 : University_Hospital\n",
      "9 : admission\n"
     ]
    }
   ],
   "source": [
    "# Create dictionary of tokens\n",
    "D = Dictionary(corpus)\n",
    "n_tokens = len(D)\n",
    "\n",
    "print('The dictionary contains', n_tokens, 'terms')\n",
    "print('First terms in the dictionary:')\n",
    "for n in range(10):\n",
    "    print(str(n), ':', D[n])"
   ]
  },
  {
   "cell_type": "code",
   "execution_count": 15,
   "metadata": {},
   "outputs": [
    {
     "data": {
      "text/html": [
       "\n",
       "  <style>\n",
       "    pre {\n",
       "        white-space: pre-wrap;\n",
       "    }\n",
       "  </style>\n",
       "  "
      ],
      "text/plain": [
       "<IPython.core.display.HTML object>"
      ]
     },
     "metadata": {},
     "output_type": "display_data"
    },
    {
     "name": "stdout",
     "output_type": "stream",
     "text": [
      "Number of tokens appearing in just one document: 129917\n",
      "             token   ndocs\n",
      "306          study  177740\n",
      "25          result  175123\n",
      "6          patient  149909\n",
      "81         disease  141046\n",
      "1394      pandemic  126171\n",
      "79            high  117376\n",
      "239        include  117280\n",
      "10       infection  106533\n",
      "71      conclusion  102843\n",
      "74           datum   93444\n",
      "86        increase   92405\n",
      "752           case   87691\n",
      "4         clinical   87063\n",
      "456           base   85783\n",
      "15          method   85360\n",
      "877           SARS   84663\n",
      "448         report   84293\n",
      "23258  coronavirus   81060\n",
      "431        provide   79272\n",
      "1298          risk   77100\n",
      "                         token  ndocs\n",
      "254333              tubography      2\n",
      "254332                   GP_TP      2\n",
      "254325               toric_IOL      2\n",
      "254324      Alcon_Laboratories      2\n",
      "254322                    Lomb      2\n",
      "254321                  Bausch      2\n",
      "254311             unneglected      2\n",
      "254257                   Jadad      2\n",
      "254310              recanalise      2\n",
      "254303               ABL_ratio      2\n",
      "26716                      LCK      2\n",
      "254292                    Visp      2\n",
      "254291                   Poste      2\n",
      "254290              Adriamycin      2\n",
      "254288          atypical_POEMS      2\n",
      "254287          POEMS_syndrome      2\n",
      "254286  macrovascular_invasion      2\n",
      "254268             hirsutenone      2\n",
      "254266                   Steud      2\n",
      "452141          inhibitor_ΔABP      2\n"
     ]
    }
   ],
   "source": [
    "df_aux = pd.DataFrame([{'token': D[idx], 'ndocs': val} for idx, val in D.dfs.items()])\n",
    "\n",
    "just_one_doc = df_aux.loc[df_aux['ndocs'] == 1]\n",
    "print('Number of tokens appearing in just one document: {}'.format(len(just_one_doc)))\n",
    "df_aux = df_aux.loc[df_aux['ndocs'] != 1]\n",
    "\n",
    "df_aux = df_aux.sort_values('ndocs', ascending=False)\n",
    "\n",
    "print(df_aux.head(20))\n",
    "print(df_aux.tail(20))"
   ]
  },
  {
   "cell_type": "code",
   "execution_count": 16,
   "metadata": {},
   "outputs": [
    {
     "data": {
      "text/html": [
       "\n",
       "  <style>\n",
       "    pre {\n",
       "        white-space: pre-wrap;\n",
       "    }\n",
       "  </style>\n",
       "  "
      ],
      "text/plain": [
       "<IPython.core.display.HTML object>"
      ]
     },
     "metadata": {},
     "output_type": "display_data"
    },
    {
     "name": "stdout",
     "output_type": "stream",
     "text": [
      "The dictionary contains 100000 terms\n"
     ]
    }
   ],
   "source": [
    "no_below = 4 #Minimum number of documents to keep a term in the dictionary\n",
    "no_above = .80 #Maximum proportion of documents in which a term can appear to be kept in the dictionary\n",
    "\n",
    "D.filter_extremes(no_below=no_below,no_above=no_above)\n",
    "n_tokens = len(D)\n",
    "\n",
    "print('The dictionary contains', n_tokens, 'terms')"
   ]
  },
  {
   "cell_type": "code",
   "execution_count": 17,
   "metadata": {},
   "outputs": [
    {
     "data": {
      "text/html": [
       "\n",
       "  <style>\n",
       "    pre {\n",
       "        white-space: pre-wrap;\n",
       "    }\n",
       "  </style>\n",
       "  "
      ],
      "text/plain": [
       "<IPython.core.display.HTML object>"
      ]
     },
     "metadata": {},
     "output_type": "display_data"
    },
    {
     "name": "stdout",
     "output_type": "stream",
     "text": [
      "             token   ndocs\n",
      "302          study  177740\n",
      "25          result  175123\n",
      "6          patient  149909\n",
      "81         disease  141046\n",
      "1330      pandemic  126171\n",
      "79            high  117376\n",
      "236        include  117280\n",
      "10       infection  106533\n",
      "71      conclusion  102843\n",
      "74           datum   93444\n",
      "86        increase   92405\n",
      "731           case   87691\n",
      "4         clinical   87063\n",
      "447           base   85783\n",
      "15          method   85360\n",
      "846           SARS   84663\n",
      "440         report   84293\n",
      "19067  coronavirus   81060\n",
      "423        provide   79272\n",
      "1236          risk   77100\n",
      "                             token  ndocs\n",
      "35012                          FEB      6\n",
      "34977       conjugate_pneumococcal      6\n",
      "34975             secretory_otitis      6\n",
      "4612           multiplex_microbead      6\n",
      "34952                  MassTag_PCR      6\n",
      "34906           luminal_epithelium      6\n",
      "34905          chromatography_DEAE      6\n",
      "34895                     red_deer      6\n",
      "34893              african_cheetah      6\n",
      "34884                  Ancylostoma      6\n",
      "34882                   Aborigines      6\n",
      "34879               trypomastigote      6\n",
      "34877              noncontributory      6\n",
      "14184  idiopathic_thrombocytopenia      6\n",
      "34818               enteroinvasive      6\n",
      "14198                      tryptic      6\n",
      "14200                 ruminant_PPR      6\n",
      "34779                   matter_SPM      6\n",
      "34758                   flagellate      6\n",
      "34284                     goat_pig      6\n"
     ]
    }
   ],
   "source": [
    "df_aux = pd.DataFrame([{'token': D[idx], 'ndocs': val} for idx, val in D.dfs.items()])\n",
    "df_aux = df_aux.sort_values('ndocs', ascending=False)\n",
    "\n",
    "print(df_aux.head(20))\n",
    "print(df_aux.tail(20))"
   ]
  },
  {
   "cell_type": "markdown",
   "metadata": {},
   "source": [
    "## CHECKPOINT"
   ]
  },
  {
   "cell_type": "code",
   "execution_count": 18,
   "metadata": {},
   "outputs": [
    {
     "data": {
      "text/html": [
       "\n",
       "  <style>\n",
       "    pre {\n",
       "        white-space: pre-wrap;\n",
       "    }\n",
       "  </style>\n",
       "  "
      ],
      "text/plain": [
       "<IPython.core.display.HTML object>"
      ]
     },
     "metadata": {},
     "output_type": "display_data"
    }
   ],
   "source": [
    "# Save the dictionary\n",
    "D.save('./data/gensim_dictionary')\n",
    "# Save corpus\n",
    "pickle.dump(corpus, open('./data/corpus.pkl', 'wb'))"
   ]
  },
  {
   "cell_type": "code",
   "execution_count": 3,
   "metadata": {},
   "outputs": [
    {
     "data": {
      "text/html": [
       "\n",
       "  <style>\n",
       "    pre {\n",
       "        white-space: pre-wrap;\n",
       "    }\n",
       "  </style>\n",
       "  "
      ],
      "text/plain": [
       "<IPython.core.display.HTML object>"
      ]
     },
     "metadata": {},
     "output_type": "display_data"
    }
   ],
   "source": [
    "# Load the dictionary\n",
    "D = Dictionary.load('./data/gensim_dictionary')\n",
    "# Load corpus\n",
    "corpus = pickle.load(open('./data/corpus.pkl', 'rb'))"
   ]
  },
  {
   "cell_type": "code",
   "execution_count": 4,
   "metadata": {},
   "outputs": [
    {
     "data": {
      "text/html": [
       "\n",
       "  <style>\n",
       "    pre {\n",
       "        white-space: pre-wrap;\n",
       "    }\n",
       "  </style>\n",
       "  "
      ],
      "text/plain": [
       "<IPython.core.display.HTML object>"
      ]
     },
     "metadata": {},
     "output_type": "display_data"
    },
    {
     "name": "stdout",
     "output_type": "stream",
     "text": [
      "============= Project abstract (lemmas) =============\n",
      "brain assume sterile organ absence disease impact immune disruption uncertain term brain microbial_diversity quantity investigate microbial_diversity quantity brain profile infectious agent examine normal abnormal brain person HIV_AIDS HIV disease control ODC cerebral surgical_resection epilepsy SURG deep_sequencing cerebral white_matter derive RNA HIV ODC patient SURG group reveal encode RNA sequence brain specimen α_proteobacteria represent bacterial sequence bacterial class vary bacterial rRNA detect white_matter glial_cell situ_hybridization peptidoglycan immunoreactivity localize glia human brain analysis amplify bacterial_rrna sequence disclose Proteobacteria principal bacterial_phylum human brain sample similar bacterial_rrna quantity HIV ODC group increase host neuroimmune response HIV group exogenous virus include bacteriophage human herpe detect autopsie_brain clinical group brain SHIV_infect macaque display profile bacterial_phyla dominate_Proteobacteria bacterial sequence detect FIV infect cat mouse brain intracerebral implantation human brain_homogenate mouse reveal preponderance α_proteobacteria RNA sequence brain recipient mouse week post implantation abrogate prior heat treatment brain_homogenate α_proteobacteria represent major bacterial component primate brain microbiome underlie immune status transfer naïve host lead microbial persistence brain\n",
      "\n",
      "============= Sparse vector representation =============\n",
      "[(18, 1), (34, 4), (50, 1), (70, 1), (71, 1), (92, 1), (93, 2), (100, 1), (111, 1), (133, 1), (162, 4), (163, 2), (178, 3), (190, 1), (200, 1), (237, 1), (245, 1), (267, 3), (307, 5), (319, 1), (346, 1), (392, 1), (408, 1), (449, 1), (598, 1), (602, 1), (624, 2), (638, 3), (655, 1), (662, 1), (674, 1), (706, 1), (720, 1), (738, 1), (777, 1), (779, 1), (788, 2), (832, 2), (846, 1), (856, 1), (885, 2), (929, 1), (942, 1), (1013, 1), (1069, 1), (1132, 1), (1164, 1), (1175, 1), (1275, 1), (1487, 1), (1511, 12), (1535, 1), (1579, 5), (1613, 1), (1644, 4), (1714, 1), (1831, 1), (2328, 1), (2362, 1), (2482, 1), (2490, 1), (2567, 1), (2731, 1), (2785, 1), (3610, 1), (3884, 1), (4064, 1), (4153, 1), (4661, 1), (5078, 1), (5577, 1), (5586, 1), (5656, 1), (6067, 1), (6153, 3), (6164, 2), (6419, 1), (7269, 1), (7274, 2), (7415, 2), (7581, 1), (7804, 1), (8504, 1), (8506, 1), (9363, 1), (9877, 1), (10153, 1), (10300, 1), (11231, 1), (12199, 3), (12200, 1), (12201, 1), (12202, 2), (12203, 1), (12204, 1), (12205, 1), (12206, 2), (12207, 1), (12208, 1), (12209, 2)]\n",
      "\n",
      "============= Word counts for the project =============\n",
      "[('clinical', 1), ('group', 4), ('patient', 1), ('similar', 1), ('specimen', 1), ('derive', 1), ('disease', 2), ('increase', 1), ('microbial', 1), ('abnormal', 1), ('human', 4), ('immune', 2), ('mouse', 3), ('response', 1), ('virus', 1), ('display', 1), ('include', 1), ('RNA', 3), ('sequence', 5), ('transfer', 1), ('normal', 1), ('agent', 1), ('exogenous', 1), ('analysis', 1), ('disruption', 1), ('examine', 1), ('represent', 2), ('detect', 3), ('infect', 1), ('organ', 1), ('treatment', 1), ('assume', 1), ('control', 1), ('post', 1), ('lead', 1), ('major', 1), ('reveal', 2), ('profile', 2), ('HIV_AIDS', 1), ('infectious', 1), ('host', 2), ('investigate', 1), ('recipient', 1), ('situ_hybridization', 1), ('impact', 1), ('term', 1), ('sample', 1), ('encode', 1), ('status', 1), ('class', 1), ('brain', 12), ('rRNA', 1), ('bacterial', 5), ('amplify', 1), ('HIV', 4), ('localize', 1), ('vary', 1), ('week', 1), ('component', 1), ('absence', 1), ('macaque', 1), ('underlie', 1), ('principal', 1), ('prior', 1), ('person', 1), ('naïve', 1), ('uncertain', 1), ('cat', 1), ('herpe', 1), ('abrogate', 1), ('disclose', 1), ('preponderance', 1), ('FIV', 1), ('epilepsy', 1), ('quantity', 3), ('cerebral', 2), ('primate', 1), ('bacterial_phyla', 1), ('microbial_diversity', 2), ('brain_homogenate', 2), ('persistence', 1), ('bacteriophage', 1), ('deep_sequencing', 1), ('microbiome', 1), ('sterile', 1), ('surgical_resection', 1), ('heat', 1), ('peptidoglycan', 1), ('immunoreactivity', 1), ('ODC', 3), ('Proteobacteria', 1), ('bacterial_phylum', 1), ('bacterial_rrna', 2), ('dominate_Proteobacteria', 1), ('glia', 1), ('glial_cell', 1), ('implantation', 2), ('intracerebral', 1), ('neuroimmune', 1), ('white_matter', 2)]\n"
     ]
    }
   ],
   "source": [
    "corpus_bow = [D.doc2bow(doc) for doc in corpus]\n",
    "\n",
    "n_project = 1000\n",
    "print('============= Project abstract (lemmas) =============')\n",
    "print(' '.join(corpus[n_project]))\n",
    "\n",
    "print('\\n============= Sparse vector representation =============')\n",
    "print(corpus_bow[n_project])\n",
    "\n",
    "print('\\n============= Word counts for the project =============')\n",
    "print(list(map(lambda x: (D[x[0]], x[1]), corpus_bow[n_project])))"
   ]
  },
  {
   "cell_type": "code",
   "execution_count": 5,
   "metadata": {},
   "outputs": [
    {
     "data": {
      "text/html": [
       "\n",
       "  <style>\n",
       "    pre {\n",
       "        white-space: pre-wrap;\n",
       "    }\n",
       "  </style>\n",
       "  "
      ],
      "text/plain": [
       "<IPython.core.display.HTML object>"
      ]
     },
     "metadata": {},
     "output_type": "display_data"
    },
    {
     "name": "stdout",
     "output_type": "stream",
     "text": [
      "============= TFIDF representation for the project =============\n",
      "[(18, 0.015380620760321326), (34, 0.07981996159568555), (50, 0.009863659649891464), (70, 0.02791121333831108), (71, 0.0441224267832071), (92, 0.03677344857661043), (93, 0.020964782881144065), (100, 0.014776034471297429), (111, 0.05152013856506781), (133, 0.049397439252150475), (162, 0.08664066713940291), (163, 0.0663971091800224), (178, 0.1174888835224182), (190, 0.020784323815927527), (200, 0.016681718529194766), (237, 0.0427862686159527), (245, 0.012355793113461168), (267, 0.10163729105362272), (307, 0.17073640093655218), (319, 0.042487260226141806), (346, 0.03574112761278007), (392, 0.03532525193574348), (408, 0.06339592127631585), (449, 0.016828185904767503), (598, 0.04375531510126356), (602, 0.026143357268067994), (624, 0.0626072737719928), (638, 0.07991269957607211), (655, 0.02696254791507194), (662, 0.043191335268806266), (674, 0.017323122706987343), (706, 0.0474597301396623), (720, 0.01949247951941993), (738, 0.032963232274279365), (777, 0.022587408119282514), (779, 0.0270567641701644), (788, 0.05228132936161626), (832, 0.0788620553740929), (846, 0.06754556185559037), (856, 0.02836303030718949), (885, 0.060558623587999766), (929, 0.023490860116781007), (942, 0.05142224078659884), (1013, 0.07295277865068252), (1069, 0.020070932497262627), (1132, 0.0309668140345662), (1164, 0.02477167140770853), (1175, 0.04890097712013814), (1275, 0.033123299015863916), (1487, 0.03989111745005447), (1511, 0.5182527202782401), (1535, 0.0856379651372028), (1579, 0.2098514097568084), (1613, 0.052765778752933847), (1644, 0.18614351477642843), (1714, 0.055725228040262), (1831, 0.0367657788978493), (2328, 0.029494911705811755), (2362, 0.036017762127573856), (2482, 0.040562104860860926), (2490, 0.073296972181185), (2567, 0.040733474990176884), (2731, 0.05910049093433239), (2785, 0.04531750524277724), (3610, 0.03467151666580268), (3884, 0.06465963081830528), (4064, 0.05289636237659654), (4153, 0.05653168043741784), (4661, 0.07543204611255824), (5078, 0.07018546307998637), (5577, 0.0648406650966805), (5586, 0.08462746735410125), (5656, 0.08005803105878016), (6067, 0.0661032986548456), (6153, 0.16223960616721167), (6164, 0.11851472074874815), (6419, 0.07079613848788831), (7269, 0.10748424039406505), (7274, 0.17249219040424), (7415, 0.21303316245264464), (7581, 0.054153976619157), (7804, 0.07104546788268876), (8504, 0.07946258597040265), (8506, 0.06442316628903695), (9363, 0.07049949028134597), (9877, 0.06995615689370191), (10153, 0.057727500595258906), (10300, 0.09567507638989879), (11231, 0.08033431305328166), (12199, 0.3333164016447131), (12200, 0.09476526773068401), (12201, 0.11267051849121991), (12202, 0.1980558666191211), (12203, 0.11110546721490437), (12204, 0.09094299004740922), (12205, 0.07743107252237752), (12206, 0.12735406033244334), (12207, 0.08662926281801576), (12208, 0.09340955864987174), (12209, 0.1409458943270839)]\n",
      "\n",
      "============= TFIDF applying the transformation only to the document =============\n",
      "[(18, 0.015380620760321326), (34, 0.07981996159568555), (50, 0.009863659649891464), (70, 0.02791121333831108), (71, 0.0441224267832071), (92, 0.03677344857661043), (93, 0.020964782881144065), (100, 0.014776034471297429), (111, 0.05152013856506781), (133, 0.049397439252150475), (162, 0.08664066713940291), (163, 0.0663971091800224), (178, 0.1174888835224182), (190, 0.020784323815927527), (200, 0.016681718529194766), (237, 0.0427862686159527), (245, 0.012355793113461168), (267, 0.10163729105362272), (307, 0.17073640093655218), (319, 0.042487260226141806), (346, 0.03574112761278007), (392, 0.03532525193574348), (408, 0.06339592127631585), (449, 0.016828185904767503), (598, 0.04375531510126356), (602, 0.026143357268067994), (624, 0.0626072737719928), (638, 0.07991269957607211), (655, 0.02696254791507194), (662, 0.043191335268806266), (674, 0.017323122706987343), (706, 0.0474597301396623), (720, 0.01949247951941993), (738, 0.032963232274279365), (777, 0.022587408119282514), (779, 0.0270567641701644), (788, 0.05228132936161626), (832, 0.0788620553740929), (846, 0.06754556185559037), (856, 0.02836303030718949), (885, 0.060558623587999766), (929, 0.023490860116781007), (942, 0.05142224078659884), (1013, 0.07295277865068252), (1069, 0.020070932497262627), (1132, 0.0309668140345662), (1164, 0.02477167140770853), (1175, 0.04890097712013814), (1275, 0.033123299015863916), (1487, 0.03989111745005447), (1511, 0.5182527202782401), (1535, 0.0856379651372028), (1579, 0.2098514097568084), (1613, 0.052765778752933847), (1644, 0.18614351477642843), (1714, 0.055725228040262), (1831, 0.0367657788978493), (2328, 0.029494911705811755), (2362, 0.036017762127573856), (2482, 0.040562104860860926), (2490, 0.073296972181185), (2567, 0.040733474990176884), (2731, 0.05910049093433239), (2785, 0.04531750524277724), (3610, 0.03467151666580268), (3884, 0.06465963081830528), (4064, 0.05289636237659654), (4153, 0.05653168043741784), (4661, 0.07543204611255824), (5078, 0.07018546307998637), (5577, 0.0648406650966805), (5586, 0.08462746735410125), (5656, 0.08005803105878016), (6067, 0.0661032986548456), (6153, 0.16223960616721167), (6164, 0.11851472074874815), (6419, 0.07079613848788831), (7269, 0.10748424039406505), (7274, 0.17249219040424), (7415, 0.21303316245264464), (7581, 0.054153976619157), (7804, 0.07104546788268876), (8504, 0.07946258597040265), (8506, 0.06442316628903695), (9363, 0.07049949028134597), (9877, 0.06995615689370191), (10153, 0.057727500595258906), (10300, 0.09567507638989879), (11231, 0.08033431305328166), (12199, 0.3333164016447131), (12200, 0.09476526773068401), (12201, 0.11267051849121991), (12202, 0.1980558666191211), (12203, 0.11110546721490437), (12204, 0.09094299004740922), (12205, 0.07743107252237752), (12206, 0.12735406033244334), (12207, 0.08662926281801576), (12208, 0.09340955864987174), (12209, 0.1409458943270839)]\n"
     ]
    }
   ],
   "source": [
    "tfidf = TfidfModel(corpus_bow)\n",
    "\n",
    "corpus_tfidf = tfidf[corpus_bow]\n",
    "n_project = 1000\n",
    "print('============= TFIDF representation for the project =============')\n",
    "print(corpus_tfidf[n_project])\n",
    "\n",
    "print('\\n============= TFIDF applying the transformation only to the document =============')\n",
    "print(tfidf[corpus_bow[n_project]])"
   ]
  },
  {
   "cell_type": "markdown",
   "metadata": {},
   "source": [
    "## CHECKPOINT"
   ]
  },
  {
   "cell_type": "code",
   "execution_count": 10,
   "metadata": {},
   "outputs": [
    {
     "data": {
      "text/html": [
       "\n",
       "  <style>\n",
       "    pre {\n",
       "        white-space: pre-wrap;\n",
       "    }\n",
       "  </style>\n",
       "  "
      ],
      "text/plain": [
       "<IPython.core.display.HTML object>"
      ]
     },
     "metadata": {},
     "output_type": "display_data"
    }
   ],
   "source": [
    "# Save corpus\n",
    "pickle.dump(corpus_bow, open('./data/corpus_bow.pkl', 'wb'))\n",
    "pickle.dump(corpus_tfidf, open('./data/corpus_tfidf.pkl', 'wb'))"
   ]
  },
  {
   "cell_type": "code",
   "execution_count": 11,
   "metadata": {},
   "outputs": [
    {
     "data": {
      "text/html": [
       "\n",
       "  <style>\n",
       "    pre {\n",
       "        white-space: pre-wrap;\n",
       "    }\n",
       "  </style>\n",
       "  "
      ],
      "text/plain": [
       "<IPython.core.display.HTML object>"
      ]
     },
     "metadata": {},
     "output_type": "display_data"
    }
   ],
   "source": [
    "# Load corpus\n",
    "corpus_bow = pickle.load(open('./data/corpus_bow.pkl', 'rb'))\n",
    "corpus_tfidf = pickle.load(open('./data/corpus_tfidf.pkl', 'rb'))"
   ]
  },
  {
   "cell_type": "markdown",
   "metadata": {},
   "source": [
    "## Find appropiate number of topics"
   ]
  },
  {
   "cell_type": "code",
   "execution_count": 14,
   "metadata": {},
   "outputs": [
    {
     "data": {
      "text/html": [
       "\n",
       "  <style>\n",
       "    pre {\n",
       "        white-space: pre-wrap;\n",
       "    }\n",
       "  </style>\n",
       "  "
      ],
      "text/plain": [
       "<IPython.core.display.HTML object>"
      ]
     },
     "metadata": {},
     "output_type": "display_data"
    },
    {
     "name": "stderr",
     "output_type": "stream",
     "text": [
      " 17%|█▋        | 1/6 [04:15<21:19, 256.00s/it]"
     ]
    },
    {
     "name": "stdout",
     "output_type": "stream",
     "text": [
      "Estimated coherence for a model with 5 topics: 0.4766\n"
     ]
    },
    {
     "name": "stderr",
     "output_type": "stream",
     "text": [
      " 33%|███▎      | 2/6 [10:02<20:37, 309.39s/it]"
     ]
    },
    {
     "name": "stdout",
     "output_type": "stream",
     "text": [
      "Estimated coherence for a model with 10 topics: 0.5096\n"
     ]
    },
    {
     "name": "stderr",
     "output_type": "stream",
     "text": [
      " 50%|█████     | 3/6 [17:09<18:08, 362.99s/it]"
     ]
    },
    {
     "name": "stdout",
     "output_type": "stream",
     "text": [
      "Estimated coherence for a model with 15 topics: 0.5343\n"
     ]
    },
    {
     "name": "stderr",
     "output_type": "stream",
     "text": [
      " 67%|██████▋   | 4/6 [25:16<13:43, 411.76s/it]"
     ]
    },
    {
     "name": "stdout",
     "output_type": "stream",
     "text": [
      "Estimated coherence for a model with 20 topics: 0.5208\n"
     ]
    },
    {
     "name": "stderr",
     "output_type": "stream",
     "text": [
      " 83%|████████▎ | 5/6 [34:58<07:53, 473.40s/it]"
     ]
    },
    {
     "name": "stdout",
     "output_type": "stream",
     "text": [
      "Estimated coherence for a model with 25 topics: 0.5207\n"
     ]
    },
    {
     "name": "stderr",
     "output_type": "stream",
     "text": [
      "100%|██████████| 6/6 [52:03<00:00, 520.54s/it]"
     ]
    },
    {
     "name": "stdout",
     "output_type": "stream",
     "text": [
      "Estimated coherence for a model with 50 topics: 0.4723\n",
      "Best number of topics: 15\n"
     ]
    },
    {
     "name": "stderr",
     "output_type": "stream",
     "text": [
      "\n"
     ]
    },
    {
     "data": {
      "image/png": "[encoded data removed]",
      "text/plain": [
       "<Figure size 720x504 with 1 Axes>"
      ]
     },
     "metadata": {
      "needs_background": "light"
     },
     "output_type": "display_data"
    }
   ],
   "source": [
    "# Search for the ideal number of topics\n",
    "n_topics = [5, 10, 15, 20, 25, 50]\n",
    "\n",
    "coh_ls = []\n",
    "for nt in tqdm(n_topics):\n",
    "\n",
    "    ldag_n = LdaModel(corpus=corpus_bow, id2word=D, num_topics=nt)\n",
    "    coherencemodel = CoherenceModel(ldag_n, texts=corpus, dictionary=D, coherence='c_v')\n",
    "\n",
    "    coh = coherencemodel.get_coherence()\n",
    "    print('Estimated coherence for a model with {} topics: {:.4f}'.format(nt, coh))\n",
    "    coh_ls.append(coh)\n",
    "\n",
    "best_n_topics = n_topics[np.argmax(coh_ls)]\n",
    "print('Best number of topics:', best_n_topics)\n",
    "\n",
    "plt.figure(figsize=(10,7))\n",
    "plt.plot(n_topics, coh_ls, marker='x')\n",
    "plt.xlabel('Number of topics')\n",
    "plt.ylabel('Coherence')\n",
    "plt.show()"
   ]
  },
  {
   "cell_type": "code",
   "execution_count": 15,
   "metadata": {},
   "outputs": [
    {
     "data": {
      "text/html": [
       "\n",
       "  <style>\n",
       "    pre {\n",
       "        white-space: pre-wrap;\n",
       "    }\n",
       "  </style>\n",
       "  "
      ],
      "text/plain": [
       "<IPython.core.display.HTML object>"
      ]
     },
     "metadata": {},
     "output_type": "display_data"
    },
    {
     "name": "stderr",
     "output_type": "stream",
     "text": [
      " 11%|█         | 1/9 [07:08<57:10, 428.76s/it]"
     ]
    },
    {
     "name": "stdout",
     "output_type": "stream",
     "text": [
      "Estimated coherence for a model with 11 topics: 0.5105\n"
     ]
    },
    {
     "name": "stderr",
     "output_type": "stream",
     "text": [
      " 22%|██▏       | 2/9 [14:19<50:09, 429.86s/it]"
     ]
    },
    {
     "name": "stdout",
     "output_type": "stream",
     "text": [
      "Estimated coherence for a model with 12 topics: 0.5243\n"
     ]
    },
    {
     "name": "stderr",
     "output_type": "stream",
     "text": [
      " 33%|███▎      | 3/9 [23:02<47:14, 472.46s/it]"
     ]
    },
    {
     "name": "stdout",
     "output_type": "stream",
     "text": [
      "Estimated coherence for a model with 13 topics: 0.5484\n"
     ]
    },
    {
     "name": "stderr",
     "output_type": "stream",
     "text": [
      " 44%|████▍     | 4/9 [31:32<40:36, 487.39s/it]"
     ]
    },
    {
     "name": "stdout",
     "output_type": "stream",
     "text": [
      "Estimated coherence for a model with 14 topics: 0.5365\n"
     ]
    },
    {
     "name": "stderr",
     "output_type": "stream",
     "text": [
      " 56%|█████▌    | 5/9 [39:34<32:20, 485.21s/it]"
     ]
    },
    {
     "name": "stdout",
     "output_type": "stream",
     "text": [
      "Estimated coherence for a model with 15 topics: 0.5218\n"
     ]
    },
    {
     "name": "stderr",
     "output_type": "stream",
     "text": [
      " 67%|██████▋   | 6/9 [48:17<24:54, 498.06s/it]"
     ]
    },
    {
     "name": "stdout",
     "output_type": "stream",
     "text": [
      "Estimated coherence for a model with 16 topics: 0.5208\n"
     ]
    },
    {
     "name": "stderr",
     "output_type": "stream",
     "text": [
      " 78%|███████▊  | 7/9 [57:15<17:02, 511.23s/it]"
     ]
    },
    {
     "name": "stdout",
     "output_type": "stream",
     "text": [
      "Estimated coherence for a model with 17 topics: 0.5414\n"
     ]
    },
    {
     "name": "stderr",
     "output_type": "stream",
     "text": [
      " 89%|████████▉ | 8/9 [1:05:39<08:28, 508.97s/it]"
     ]
    },
    {
     "name": "stdout",
     "output_type": "stream",
     "text": [
      "Estimated coherence for a model with 18 topics: 0.5239\n"
     ]
    },
    {
     "name": "stderr",
     "output_type": "stream",
     "text": [
      "100%|██████████| 9/9 [1:14:34<00:00, 497.13s/it]"
     ]
    },
    {
     "name": "stdout",
     "output_type": "stream",
     "text": [
      "Estimated coherence for a model with 19 topics: 0.5255\n",
      "Best number of topics: 13\n"
     ]
    },
    {
     "name": "stderr",
     "output_type": "stream",
     "text": [
      "\n"
     ]
    },
    {
     "data": {
      "image/png": "[encoded data removed]",
      "text/plain": [
       "<Figure size 720x504 with 1 Axes>"
      ]
     },
     "metadata": {
      "needs_background": "light"
     },
     "output_type": "display_data"
    }
   ],
   "source": [
    "# Search for the ideal number of topics in a more precise approx\n",
    "n_topics = list(range(best_n_topics - 4, best_n_topics + 5))\n",
    "\n",
    "coh_ls = []\n",
    "for nt in tqdm(n_topics):\n",
    "\n",
    "    ldag_n = LdaModel(corpus=corpus_bow, id2word=D, num_topics=nt)\n",
    "    coherencemodel = CoherenceModel(ldag_n, texts=corpus, dictionary=D, coherence='c_v')\n",
    "\n",
    "    coh = coherencemodel.get_coherence()\n",
    "    print('Estimated coherence for a model with {} topics: {:.4f}'.format(nt, coh))\n",
    "    coh_ls.append(coh)\n",
    "\n",
    "best_n_topics = n_topics[np.argmax(coh_ls)]\n",
    "print('Best number of topics:', best_n_topics)\n",
    "\n",
    "plt.figure(figsize=(10,7))\n",
    "plt.plot(n_topics, coh_ls, marker='x')\n",
    "plt.xlabel('Number of topics')\n",
    "plt.ylabel('Coherence')\n",
    "plt.show()"
   ]
  },
  {
   "cell_type": "markdown",
   "metadata": {},
   "source": [
    "## CHECKPOINT"
   ]
  },
  {
   "cell_type": "code",
   "execution_count": null,
   "metadata": {},
   "outputs": [],
   "source": [
    "D = Dictionary.load('./data/gensim_dictionary')\n",
    "corpus = pickle.load(open('./data/corpus.pkl', 'rb'))\n",
    "corpus_bow = pickle.load(open('./data/corpus_bow.pkl', 'rb'))\n",
    "corpus_tfidf = pickle.load(open('./data/corpus_tfidf.pkl', 'rb'))"
   ]
  },
  {
   "cell_type": "markdown",
   "metadata": {},
   "source": [
    "## Topic modelling - Final LDA model"
   ]
  },
  {
   "cell_type": "code",
   "execution_count": 16,
   "metadata": {},
   "outputs": [
    {
     "data": {
      "text/html": [
       "\n",
       "  <style>\n",
       "    pre {\n",
       "        white-space: pre-wrap;\n",
       "    }\n",
       "  </style>\n",
       "  "
      ],
      "text/plain": [
       "<IPython.core.display.HTML object>"
      ]
     },
     "metadata": {},
     "output_type": "display_data"
    },
    {
     "data": {
      "text/plain": [
       "[(0,\n",
       "  '0.034*\"study\" + 0.019*\"risk\" + 0.016*\"high\" + 0.016*\"age\" + 0.013*\"result\" + 0.012*\"associate\" + 0.011*\"factor\" + 0.011*\"report\" + 0.010*\"participant\" + 0.010*\"datum\"'),\n",
       " (1,\n",
       "  '0.133*\"patient\" + 0.019*\"day\" + 0.017*\"treatment\" + 0.016*\"hospital\" + 0.014*\"clinical\" + 0.012*\"outcome\" + 0.011*\"group\" + 0.010*\"mortality\" + 0.009*\"admission\" + 0.009*\"high\"'),\n",
       " (2,\n",
       "  '0.021*\"pandemic\" + 0.018*\"health\" + 0.011*\"care\" + 0.007*\"research\" + 0.007*\"need\" + 0.007*\"provide\" + 0.006*\"student\" + 0.006*\"support\" + 0.006*\"service\" + 0.006*\"impact\"'),\n",
       " (3,\n",
       "  '0.022*\"protein\" + 0.021*\"SARS\" + 0.020*\"host\" + 0.018*\"viral\" + 0.013*\"virus\" + 0.012*\"human\" + 0.011*\"target\" + 0.011*\"role\" + 0.011*\"cell\" + 0.010*\"receptor\"'),\n",
       " (4,\n",
       "  '0.035*\"vaccine\" + 0.026*\"drug\" + 0.023*\"treatment\" + 0.014*\"clinical\" + 0.013*\"trial\" + 0.011*\"development\" + 0.011*\"potential\" + 0.010*\"vaccination\" + 0.010*\"study\" + 0.010*\"therapeutic\"'),\n",
       " (5,\n",
       "  '0.028*\"level\" + 0.022*\"increase\" + 0.018*\"disease\" + 0.015*\"effect\" + 0.013*\"group\" + 0.011*\"control\" + 0.011*\"high\" + 0.011*\"inflammatory\" + 0.011*\"inflammation\" + 0.010*\"associate\"'),\n",
       " (6,\n",
       "  '0.051*\"cell\" + 0.028*\"virus\" + 0.018*\"infection\" + 0.017*\"protein\" + 0.014*\"expression\" + 0.012*\"viral\" + 0.010*\"gene\" + 0.010*\"RNA\" + 0.009*\"replication\" + 0.009*\"mouse\"'),\n",
       " (7,\n",
       "  '0.035*\"model\" + 0.018*\"base\" + 0.016*\"method\" + 0.015*\"datum\" + 0.011*\"result\" + 0.011*\"analysis\" + 0.009*\"study\" + 0.009*\"system\" + 0.008*\"approach\" + 0.008*\"propose\"'),\n",
       " (8,\n",
       "  '0.015*\"risk\" + 0.012*\"use\" + 0.011*\"transmission\" + 0.011*\"contact\" + 0.010*\"hospital\" + 0.010*\"procedure\" + 0.010*\"reduce\" + 0.010*\"staff\" + 0.009*\"measure\" + 0.009*\"testing\"'),\n",
       " (9,\n",
       "  '0.017*\"lockdown\" + 0.017*\"increase\" + 0.015*\"rate\" + 0.014*\"number\" + 0.013*\"time\" + 0.013*\"period\" + 0.012*\"study\" + 0.012*\"effect\" + 0.012*\"change\" + 0.012*\"population\"'),\n",
       " (10,\n",
       "  '0.046*\"patient\" + 0.033*\"disease\" + 0.031*\"infection\" + 0.024*\"severe\" + 0.023*\"clinical\" + 0.022*\"case\" + 0.021*\"symptom\" + 0.018*\"respiratory\" + 0.014*\"pneumonia\" + 0.014*\"child\"'),\n",
       " (11,\n",
       "  '0.043*\"SARS\" + 0.036*\"disease\" + 0.031*\"coronavirus\" + 0.030*\"case\" + 0.028*\"infection\" + 0.022*\"pandemic\" + 0.020*\"outbreak\" + 0.017*\"spread\" + 0.015*\"epidemic\" + 0.013*\"transmission\"'),\n",
       " (12,\n",
       "  '0.035*\"SARS\" + 0.031*\"virus\" + 0.022*\"test\" + 0.020*\"sample\" + 0.016*\"positive\" + 0.013*\"infection\" + 0.013*\"antibody\" + 0.013*\"detect\" + 0.013*\"assay\" + 0.012*\"result\"')]"
      ]
     },
     "execution_count": 16,
     "metadata": {},
     "output_type": "execute_result"
    }
   ],
   "source": [
    "# Train LDA model\n",
    "ldag = LdaModel(corpus=corpus_bow, id2word=D, num_topics=best_n_topics)\n",
    "\n",
    "# Display all topics including 10 most relevant tokens per topic\n",
    "ldag.show_topics(num_topics=-1, num_words=10, log=False, formatted=True)"
   ]
  },
  {
   "cell_type": "code",
   "execution_count": 37,
   "metadata": {},
   "outputs": [
    {
     "data": {
      "text/html": [
       "\n",
       "  <style>\n",
       "    pre {\n",
       "        white-space: pre-wrap;\n",
       "    }\n",
       "  </style>\n",
       "  "
      ],
      "text/plain": [
       "<IPython.core.display.HTML object>"
      ]
     },
     "metadata": {},
     "output_type": "display_data"
    },
    {
     "data": {
      "image/png": "[encoded data removed]",
      "text/plain": [
       "<Figure size 2160x2880 with 15 Axes>"
      ]
     },
     "metadata": {
      "needs_background": "light"
     },
     "output_type": "display_data"
    }
   ],
   "source": [
    "topn = 25\n",
    "\n",
    "fig, axes = plt.subplots(5, 3, figsize=(30, 40), sharex=True)\n",
    "x = 0\n",
    "\n",
    "for i in range(best_n_topics):\n",
    "    # Build a dataframe with columns 'token' and 'weight' for topic i\n",
    "    df_weights = pd.DataFrame([{'token': t, 'weight': w} for t, w in ldag.show_topic(i, topn=topn)])\n",
    "    \n",
    "    ax = axes[x][i - (3 * x)]\n",
    "    x += 1 if (i + 1) % 3 == 0 else 0\n",
    "    sns.barplot(x='weight', y='token', data=df_weights, color='c', orient='h', ax=ax)\n",
    "    ax.set_title('Topic ' + str(i))\n",
    "    \n",
    "plt.show()"
   ]
  },
  {
   "cell_type": "code",
   "execution_count": 42,
   "metadata": {},
   "outputs": [
    {
     "name": "stderr",
     "output_type": "stream",
     "text": [
      "/home/hl0d0w1g/data/Educación/Master Ing de la Informacion para la Salud/Speech & Natural Language Processing/Labs/FINAL PROJECT/CORD-19-NLP/venv/lib/python3.8/site-packages/ipykernel/ipkernel.py:283: DeprecationWarning: `should_run_async` will not call `transform_cell` automatically in the future. Please pass the result to `transformed_cell` argument and any exception that happen during thetransform in `preprocessing_exc_tuple` in IPython 7.17 and above.\n",
      "  and should_run_async(code)\n"
     ]
    },
    {
     "data": {
      "text/html": [
       "\n",
       "  <style>\n",
       "    pre {\n",
       "        white-space: pre-wrap;\n",
       "    }\n",
       "  </style>\n",
       "  "
      ],
      "text/plain": [
       "<IPython.core.display.HTML object>"
      ]
     },
     "metadata": {},
     "output_type": "display_data"
    },
    {
     "name": "stdout",
     "output_type": "stream",
     "text": [
      "The coherence of the trained model is 0.5253781626724113\n"
     ]
    },
    {
     "data": {
      "text/html": [
       "<div>\n",
       "<style scoped>\n",
       "    .dataframe tbody tr th:only-of-type {\n",
       "        vertical-align: middle;\n",
       "    }\n",
       "\n",
       "    .dataframe tbody tr th {\n",
       "        vertical-align: top;\n",
       "    }\n",
       "\n",
       "    .dataframe thead th {\n",
       "        text-align: right;\n",
       "    }\n",
       "</style>\n",
       "<table border=\"1\" class=\"dataframe\">\n",
       "  <thead>\n",
       "    <tr style=\"text-align: right;\">\n",
       "      <th></th>\n",
       "      <th>topic_id</th>\n",
       "      <th>coherence</th>\n",
       "    </tr>\n",
       "  </thead>\n",
       "  <tbody>\n",
       "    <tr>\n",
       "      <th>3</th>\n",
       "      <td>3</td>\n",
       "      <td>0.663291</td>\n",
       "    </tr>\n",
       "    <tr>\n",
       "      <th>6</th>\n",
       "      <td>6</td>\n",
       "      <td>0.652362</td>\n",
       "    </tr>\n",
       "    <tr>\n",
       "      <th>11</th>\n",
       "      <td>11</td>\n",
       "      <td>0.613080</td>\n",
       "    </tr>\n",
       "    <tr>\n",
       "      <th>12</th>\n",
       "      <td>12</td>\n",
       "      <td>0.572009</td>\n",
       "    </tr>\n",
       "    <tr>\n",
       "      <th>2</th>\n",
       "      <td>2</td>\n",
       "      <td>0.559528</td>\n",
       "    </tr>\n",
       "    <tr>\n",
       "      <th>10</th>\n",
       "      <td>10</td>\n",
       "      <td>0.558035</td>\n",
       "    </tr>\n",
       "    <tr>\n",
       "      <th>4</th>\n",
       "      <td>4</td>\n",
       "      <td>0.521678</td>\n",
       "    </tr>\n",
       "    <tr>\n",
       "      <th>0</th>\n",
       "      <td>0</td>\n",
       "      <td>0.483617</td>\n",
       "    </tr>\n",
       "    <tr>\n",
       "      <th>1</th>\n",
       "      <td>1</td>\n",
       "      <td>0.476046</td>\n",
       "    </tr>\n",
       "    <tr>\n",
       "      <th>5</th>\n",
       "      <td>5</td>\n",
       "      <td>0.467480</td>\n",
       "    </tr>\n",
       "    <tr>\n",
       "      <th>8</th>\n",
       "      <td>8</td>\n",
       "      <td>0.449083</td>\n",
       "    </tr>\n",
       "    <tr>\n",
       "      <th>7</th>\n",
       "      <td>7</td>\n",
       "      <td>0.416934</td>\n",
       "    </tr>\n",
       "    <tr>\n",
       "      <th>9</th>\n",
       "      <td>9</td>\n",
       "      <td>0.396772</td>\n",
       "    </tr>\n",
       "  </tbody>\n",
       "</table>\n",
       "</div>"
      ],
      "text/plain": [
       "    topic_id  coherence\n",
       "3          3   0.663291\n",
       "6          6   0.652362\n",
       "11        11   0.613080\n",
       "12        12   0.572009\n",
       "2          2   0.559528\n",
       "10        10   0.558035\n",
       "4          4   0.521678\n",
       "0          0   0.483617\n",
       "1          1   0.476046\n",
       "5          5   0.467480\n",
       "8          8   0.449083\n",
       "7          7   0.416934\n",
       "9          9   0.396772"
      ]
     },
     "execution_count": 42,
     "metadata": {},
     "output_type": "execute_result"
    }
   ],
   "source": [
    "# Compute the coherence per topic\n",
    "coherencemodel = CoherenceModel(ldag, texts=corpus, dictionary=D, coherence='c_v')\n",
    "print('The coherence of the trained model is', coherencemodel.get_coherence())\n",
    "\n",
    "df_coherence = pd.DataFrame([{'topic_id': i, 'coherence': c} for i, c in enumerate(coherencemodel.get_coherence_per_topic())])\n",
    "df_coherence.sort_values('coherence', ascending=False)"
   ]
  },
  {
   "cell_type": "code",
   "execution_count": 39,
   "metadata": {},
   "outputs": [
    {
     "data": {
      "text/html": [
       "\n",
       "  <style>\n",
       "    pre {\n",
       "        white-space: pre-wrap;\n",
       "    }\n",
       "  </style>\n",
       "  "
      ],
      "text/plain": [
       "<IPython.core.display.HTML object>"
      ]
     },
     "metadata": {},
     "output_type": "display_data"
    },
    {
     "ename": "ValidationError",
     "evalue": "\n * Not all rows (distributions) in topic_term_dists sum to 1.",
     "output_type": "error",
     "traceback": [
      "\u001b[0;31m---------------------------------------------------------------------------\u001b[0m",
      "\u001b[0;31mValidationError\u001b[0m                           Traceback (most recent call last)",
      "\u001b[0;32m<ipython-input-39-2733de5416f4>\u001b[0m in \u001b[0;36m<module>\u001b[0;34m\u001b[0m\n\u001b[1;32m      2\u001b[0m \u001b[0;32mimport\u001b[0m \u001b[0mpyLDAvis\u001b[0m\u001b[0;34m\u001b[0m\u001b[0;34m\u001b[0m\u001b[0m\n\u001b[1;32m      3\u001b[0m \u001b[0;34m\u001b[0m\u001b[0m\n\u001b[0;32m----> 4\u001b[0;31m \u001b[0mvis_data\u001b[0m \u001b[0;34m=\u001b[0m \u001b[0mgensimvis\u001b[0m\u001b[0;34m.\u001b[0m\u001b[0mprepare\u001b[0m\u001b[0;34m(\u001b[0m\u001b[0mldag\u001b[0m\u001b[0;34m,\u001b[0m \u001b[0mcorpus_bow\u001b[0m\u001b[0;34m,\u001b[0m \u001b[0mD\u001b[0m\u001b[0;34m)\u001b[0m\u001b[0;34m\u001b[0m\u001b[0;34m\u001b[0m\u001b[0m\n\u001b[0m\u001b[1;32m      5\u001b[0m \u001b[0mpyLDAvis\u001b[0m\u001b[0;34m.\u001b[0m\u001b[0mdisplay\u001b[0m\u001b[0;34m(\u001b[0m\u001b[0mvis_data\u001b[0m\u001b[0;34m)\u001b[0m\u001b[0;34m\u001b[0m\u001b[0;34m\u001b[0m\u001b[0m\n",
      "\u001b[0;32m~/data/Educación/Master Ing de la Informacion para la Salud/Speech & Natural Language Processing/Labs/FINAL PROJECT/CORD-19-NLP/venv/lib/python3.8/site-packages/pyLDAvis/gensim.py\u001b[0m in \u001b[0;36mprepare\u001b[0;34m(topic_model, corpus, dictionary, doc_topic_dist, **kwargs)\u001b[0m\n\u001b[1;32m    117\u001b[0m     \"\"\"\n\u001b[1;32m    118\u001b[0m     \u001b[0mopts\u001b[0m \u001b[0;34m=\u001b[0m \u001b[0mfp\u001b[0m\u001b[0;34m.\u001b[0m\u001b[0mmerge\u001b[0m\u001b[0;34m(\u001b[0m\u001b[0m_extract_data\u001b[0m\u001b[0;34m(\u001b[0m\u001b[0mtopic_model\u001b[0m\u001b[0;34m,\u001b[0m \u001b[0mcorpus\u001b[0m\u001b[0;34m,\u001b[0m \u001b[0mdictionary\u001b[0m\u001b[0;34m,\u001b[0m \u001b[0mdoc_topic_dist\u001b[0m\u001b[0;34m)\u001b[0m\u001b[0;34m,\u001b[0m \u001b[0mkwargs\u001b[0m\u001b[0;34m)\u001b[0m\u001b[0;34m\u001b[0m\u001b[0;34m\u001b[0m\u001b[0m\n\u001b[0;32m--> 119\u001b[0;31m     \u001b[0;32mreturn\u001b[0m \u001b[0mvis_prepare\u001b[0m\u001b[0;34m(\u001b[0m\u001b[0;34m**\u001b[0m\u001b[0mopts\u001b[0m\u001b[0;34m)\u001b[0m\u001b[0;34m\u001b[0m\u001b[0;34m\u001b[0m\u001b[0m\n\u001b[0m",
      "\u001b[0;32m~/data/Educación/Master Ing de la Informacion para la Salud/Speech & Natural Language Processing/Labs/FINAL PROJECT/CORD-19-NLP/venv/lib/python3.8/site-packages/pyLDAvis/_prepare.py\u001b[0m in \u001b[0;36mprepare\u001b[0;34m(topic_term_dists, doc_topic_dists, doc_lengths, vocab, term_frequency, R, lambda_step, mds, n_jobs, plot_opts, sort_topics)\u001b[0m\n\u001b[1;32m    372\u001b[0m    \u001b[0mdoc_lengths\u001b[0m      \u001b[0;34m=\u001b[0m \u001b[0m_series_with_name\u001b[0m\u001b[0;34m(\u001b[0m\u001b[0mdoc_lengths\u001b[0m\u001b[0;34m,\u001b[0m \u001b[0;34m'doc_length'\u001b[0m\u001b[0;34m)\u001b[0m\u001b[0;34m\u001b[0m\u001b[0;34m\u001b[0m\u001b[0m\n\u001b[1;32m    373\u001b[0m    \u001b[0mvocab\u001b[0m            \u001b[0;34m=\u001b[0m \u001b[0m_series_with_name\u001b[0m\u001b[0;34m(\u001b[0m\u001b[0mvocab\u001b[0m\u001b[0;34m,\u001b[0m \u001b[0;34m'vocab'\u001b[0m\u001b[0;34m)\u001b[0m\u001b[0;34m\u001b[0m\u001b[0;34m\u001b[0m\u001b[0m\n\u001b[0;32m--> 374\u001b[0;31m    \u001b[0m_input_validate\u001b[0m\u001b[0;34m(\u001b[0m\u001b[0mtopic_term_dists\u001b[0m\u001b[0;34m,\u001b[0m \u001b[0mdoc_topic_dists\u001b[0m\u001b[0;34m,\u001b[0m \u001b[0mdoc_lengths\u001b[0m\u001b[0;34m,\u001b[0m \u001b[0mvocab\u001b[0m\u001b[0;34m,\u001b[0m \u001b[0mterm_frequency\u001b[0m\u001b[0;34m)\u001b[0m\u001b[0;34m\u001b[0m\u001b[0;34m\u001b[0m\u001b[0m\n\u001b[0m\u001b[1;32m    375\u001b[0m    \u001b[0mR\u001b[0m \u001b[0;34m=\u001b[0m \u001b[0mmin\u001b[0m\u001b[0;34m(\u001b[0m\u001b[0mR\u001b[0m\u001b[0;34m,\u001b[0m \u001b[0mlen\u001b[0m\u001b[0;34m(\u001b[0m\u001b[0mvocab\u001b[0m\u001b[0;34m)\u001b[0m\u001b[0;34m)\u001b[0m\u001b[0;34m\u001b[0m\u001b[0;34m\u001b[0m\u001b[0m\n\u001b[1;32m    376\u001b[0m \u001b[0;34m\u001b[0m\u001b[0m\n",
      "\u001b[0;32m~/data/Educación/Master Ing de la Informacion para la Salud/Speech & Natural Language Processing/Labs/FINAL PROJECT/CORD-19-NLP/venv/lib/python3.8/site-packages/pyLDAvis/_prepare.py\u001b[0m in \u001b[0;36m_input_validate\u001b[0;34m(*args)\u001b[0m\n\u001b[1;32m     63\u001b[0m    \u001b[0mres\u001b[0m \u001b[0;34m=\u001b[0m \u001b[0m_input_check\u001b[0m\u001b[0;34m(\u001b[0m\u001b[0;34m*\u001b[0m\u001b[0margs\u001b[0m\u001b[0;34m)\u001b[0m\u001b[0;34m\u001b[0m\u001b[0;34m\u001b[0m\u001b[0m\n\u001b[1;32m     64\u001b[0m    \u001b[0;32mif\u001b[0m \u001b[0mres\u001b[0m\u001b[0;34m:\u001b[0m\u001b[0;34m\u001b[0m\u001b[0;34m\u001b[0m\u001b[0m\n\u001b[0;32m---> 65\u001b[0;31m       \u001b[0;32mraise\u001b[0m \u001b[0mValidationError\u001b[0m\u001b[0;34m(\u001b[0m\u001b[0;34m'\\n'\u001b[0m \u001b[0;34m+\u001b[0m \u001b[0;34m'\\n'\u001b[0m\u001b[0;34m.\u001b[0m\u001b[0mjoin\u001b[0m\u001b[0;34m(\u001b[0m\u001b[0;34m[\u001b[0m\u001b[0;34m' * '\u001b[0m \u001b[0;34m+\u001b[0m \u001b[0ms\u001b[0m \u001b[0;32mfor\u001b[0m \u001b[0ms\u001b[0m \u001b[0;32min\u001b[0m \u001b[0mres\u001b[0m\u001b[0;34m]\u001b[0m\u001b[0;34m)\u001b[0m\u001b[0;34m)\u001b[0m\u001b[0;34m\u001b[0m\u001b[0;34m\u001b[0m\u001b[0m\n\u001b[0m\u001b[1;32m     66\u001b[0m \u001b[0;34m\u001b[0m\u001b[0m\n\u001b[1;32m     67\u001b[0m \u001b[0;34m\u001b[0m\u001b[0m\n",
      "\u001b[0;31mValidationError\u001b[0m: \n * Not all rows (distributions) in topic_term_dists sum to 1."
     ]
    }
   ],
   "source": [
    "vis_data = gensimvis.prepare(ldag, corpus_bow, D)\n",
    "pyLDAvis.display(vis_data)"
   ]
  },
  {
   "cell_type": "code",
   "execution_count": 43,
   "metadata": {},
   "outputs": [
    {
     "name": "stderr",
     "output_type": "stream",
     "text": [
      "/home/hl0d0w1g/data/Educación/Master Ing de la Informacion para la Salud/Speech & Natural Language Processing/Labs/FINAL PROJECT/CORD-19-NLP/venv/lib/python3.8/site-packages/ipykernel/ipkernel.py:283: DeprecationWarning: `should_run_async` will not call `transform_cell` automatically in the future. Please pass the result to `transformed_cell` argument and any exception that happen during thetransform in `preprocessing_exc_tuple` in IPython 7.17 and above.\n",
      "  and should_run_async(code)\n"
     ]
    },
    {
     "data": {
      "text/html": [
       "\n",
       "  <style>\n",
       "    pre {\n",
       "        white-space: pre-wrap;\n",
       "    }\n",
       "  </style>\n",
       "  "
      ],
      "text/plain": [
       "<IPython.core.display.HTML object>"
      ]
     },
     "metadata": {},
     "output_type": "display_data"
    },
    {
     "name": "stdout",
     "output_type": "stream",
     "text": [
      "Topic 0\n",
      "\n",
      "Computing most relevant documents for Topic 0\n",
      "Topic composition is:\n",
      "[('study', 0.034164015), ('risk', 0.018647186), ('high', 0.016436234), ('age', 0.015894666), ('result', 0.012749537), ('associate', 0.011705475), ('factor', 0.011019012), ('report', 0.010509707), ('participant', 0.010167673), ('datum', 0.009773185)]\n",
      "\n",
      " background pandemic place significant burden mental_health wellbeing frontline health social care worker need support frontline staff recognise date little research good support mental_health need frontline_worker experience view helpful set redress research gap explore UK frontline health social care worker experience view psychosocial support pandemic frontline health social care worker recruit social_medium snowball_sampling healthcare colleague worker volunteer study interview follow semi_structured interview guide transcript interview analyse research team follow principle Reflexive Thematic_Analysis conduct interview frontline_worker variety professional group work health social care setting UK theme derive analysis show worker experience view psychosocial support complex peer support worker line support experience burden worker ambivalent support show organisation medium public worker value psychological support service disparity provision barrier access result study frontline health social care worker likely need flexible system support include peer organisational professional support research need unpack structural systemic individual barrier access psychosocial support great collaboration consultation co production support service evaluation warrant keyword health social care worker psychosocial support experience view qualitative_thematic analysis\n",
      "\n",
      " examine international approach ethical_oversight regulation quality improvement clinical audit healthcare system search grey_literature include website national research ethic regulatory body health department select country study selection national guidance document include country Ireland England Australia_New Zealand United_States America Canada DATA_EXTRACTION datum extract document priori framework develop publish literature organise datum theme ethical framework guidance ethical review consent vulnerable group personal health datum quality improvement activity tend scope ethic framework country New_Zealand integrate national ethic standard research quality improvement country consensus activity exempt ethical review require proportionate review organisational oversight minimal risk project majority country lack guidance participant consent use personal health information inclusion vulnerable group routine quality improvement conclusion country fail provide specific ethic framework quality improvement guidance disperse organisation lack legal_certainty review demonstrate need appropriate oversight responsive infrastructure quality improvement underpin ethical framework build equivalence research oversight outline aspect good practice New_Zealand framework integrate research quality improvement ethic\n",
      "\n",
      " purpose examine international approach ethical_oversight regulation quality improvement clinical audit healthcare system search grey_literature include website national research ethic regulatory body health department select country study_SELECTION National guidance document include country Ireland England Australia_New Zealand United_States America Canada DATA_EXTRACTION Data extract document priori framework develop publish literature result organise datum theme ethical framework guidance ethical review consent vulnerable group personal health datum quality improvement activity tend scope ethic framework country New_Zealand integrate national ethic standard research quality improvement country consensus activity exempt ethical review require proportionate review organisational oversight minimal risk project majority country lack guidance participant consent use personal health information inclusion vulnerable group routine quality improvement conclusion country fail provide specific ethic framework quality improvement guidance disperse organisation lack legal_certainty review demonstrate need appropriate oversight responsive infrastructure quality improvement underpin ethical framework build equivalence research oversight outline aspect good practice New_Zealand framework integrate research quality improvement ethic\n",
      "==================================================================\n",
      "Topic 1\n",
      "\n",
      "Computing most relevant documents for Topic 1\n",
      "Topic composition is:\n",
      "[('patient', 0.13347621), ('day', 0.018716311), ('treatment', 0.017133845), ('hospital', 0.015631294), ('clinical', 0.013680567), ('outcome', 0.011663729), ('group', 0.011055209), ('mortality', 0.010084844), ('admission', 0.009117724), ('high', 0.0085631125)]\n",
      "\n",
      " background child medical complexity CMC require expertise care provider span different discipline institution setting care lead duplicate health record breakdown communication limited opportunity provide comprehensive collaborative care objective study explore communication challenge solution recommendation multiple perspective include parent HCPs hospital community provider teacher CMC goal inform patient care qualitative study utilize interpretive_description methodology depth_semi structured_interview conduct parent care team_member CMC interview guide target question surround communication coordination access information role health system interview conduct thematic saturation reach interview_audio record_transcribe code analyze thematic_analysis result individual interview conduct involve parent care team_member interview reveal main theme associated subtheme parenthesis communication challenge care CMC organizational policy technology system barrier inadequate access health information lack partnership care communication solution share system access real_time universal access health information partner contribution care conclusion parent HCPs teacher face multiple barrier communication information accessibility effort care CMC parent care provider study suggest potential strategy improve communication include facilitate communication real_time universal access health information meaningful partnership online_version contain_supplementary material_available\n",
      "\n",
      " college school education serve educator area instructional_design program house traditional academic unit produce high caliber scholar researcher impact field article suggest partnership university innovation hub school fill_gap programming focus develop practical skill relate digital_transformation learn environment article present case study innovation hub develop programming Anderson University Center Innovation Digital Learning CIDL staff begin offer external professional development offering educator leader seek use design thinking emerge technology university initiative program time relationship lead development structure professional master_degree align national post secondary educational technology association standard state online teacher endorsement criterion program administer teach instructional_design personnel CIDL university innovation hub traditional academic unit article offer insight development alignment external programming specific insight learner_instructor program leader importance have practitioner faculty digital_transformation program role practitioner faculty professional community development organizational advantage impact implication research opportunity type programming identify\n",
      "\n",
      " study specific primer fluorescent_probe design target thymidine_kinase TK_gene sequence avian infectious_laryngotracheitis virus ILTV specificity sensitivity test real_time fluorescence base recombinase_aid amplification RF_RAA method detect ILTV establish result show method specific detect ILTV cross reaction Newcastle disease virus NDV_avian influenza virus AIV infectious_bronchitis virus IBV real_time fluorescence base recombinase_aid amplification high sensitivity low detectable limit LDL ILTV reach copy L time sensitive conventional PCR copy L rival real_time fluorescence base quantitative PCR RFQ_PCR copy l method RFQ_PCR detect sample chicken throat_swab ILT diagnose clinic north China coincidence_rate method RF_RAA reaction require minute complete sensitivity high conventional PCR real_time fluorescence base recombinase_aid amplification similar RFQ_PCR advantage specificity sensitivity high efficiency suitable early clinical detection epidemiological investigation ILTV\n",
      "==================================================================\n",
      "Topic 2\n",
      "\n",
      "Computing most relevant documents for Topic 2\n",
      "Topic composition is:\n",
      "[('pandemic', 0.021221709), ('health', 0.018008055), ('care', 0.011377802), ('research', 0.0070670974), ('need', 0.0066770106), ('provide', 0.006572717), ('student', 0.0064344364), ('support', 0.006232323), ('service', 0.006202305), ('impact', 0.006172293)]\n",
      "\n",
      " background Cybersecurity healthcare important pandemic increase use digital_technology healthcare provision world encourage cybercriminal target healthcare organisation great number threat cyberattack patient safety provision healthcare cybersecurity health sector lag industry adequate cybersecurity framework exist consider unique need health sector Methods online Delphi carry develop relevant applicable readiness framework guide cybersecurity planning healthcare expert area cybersecurity information communication technology health informatic invite list component feel essential framework agree consensus final framework base identify component result round Essentials Cybersecurity Healthcare_Organizations ECHO framework component group category regard expert acceptable planning tool guide cybersecurity healthcare global level conclusion ECHO framework design base component choose international expert meet challenge cybersecurity scale health care sector help guide policymaker health care organisation strengthen cybersecurity infrastructure deliver safe_effective care commercial use right permission publish_BMJ\n",
      "\n",
      " compare laboratory develop real_time PCR assay detection Mycoplasma_homini detection differentiation Ureaplasma_urealyticum parvum culture genitourinary specimen submit homini_Ureaplasma culture genitourinary specimen receive clinical bacteriology laboratory homini_Ureaplasma specie culture evaluate nucleic_acid extract Total_Nucleic Acid Kit MagNA_Pure μL extract combine μL master_mix assay perform LightCycler_II system culture perform routine method hominis PCR detect hominis culture positive specimen culture negative sensitivity_specificity Ureaplasma PCR detect Ureaplasma culture positive specimen culture negative sensitivity_specificity specimen test positive Ureaplasma specie urealyticum detect parvum conclusion describe pcr assay rapid alternative culture detection homini_Ureaplasma specie culture Ureaplasma assay distinguish urealyticum parvum\n",
      "\n",
      " molecular characterization infectious_bronchitis virus_IBVs isolate chicken Russia perform field sample test reverse_transcriptase polymerase_chain reaction set primer correspond conserve region variable gene region viral genome IBV isolate characterize phylogenetic_analysis gene hypervariable_region comprise nucleotide major group isolate virus show close sequence relationship strain Massachusetts genotype circulate Russia early analyse region russian ibv similar identity strain european genotype include isolate b isolate isolate group isolate distant geographic_location Russia Far_East european cluster chinese strain QXIBV genotype remain russian isolate show close sequence relationship know IBV_strain available sequence database majority variant virus cluster novel russian genotype correlate geographic_location remain place unique group represent new genotype datum time demonstrate high genetic_diversity IBV isolate circulate Russia\n",
      "==================================================================\n",
      "Topic 3\n",
      "\n",
      "Computing most relevant documents for Topic 3\n",
      "Topic composition is:\n",
      "[('protein', 0.022276336), ('SARS', 0.021283831), ('host', 0.019763695), ('viral', 0.018056305), ('virus', 0.013134897), ('human', 0.012223772), ('target', 0.011450735), ('role', 0.011022717), ('cell', 0.010547766), ('receptor', 0.01041371)]\n",
      "\n",
      " different porcine_epidemic diarrhea virus PEDV_strain identify United_States PEDV prototype S_INDEL variant strain current serological_assay offer veterinary diagnostic laboratory detection PEDV specific antibody base PEDV prototype strain objective study isolate PEDV S_INDEL variant strain cell culture generate antisera PEDV prototype S_INDEL variant strain infect wean_pig determine PEDV serological_assay detect antibody PEDV S_INDEL variant strain result PEDV S_INDEL variant strain isolate cell culture study group PEDV negative week old pig pig group inoculate_PEDV prototype isolate isolate lab S indel_variant isolate virus negative culture medium serum sample collect day post_inoculation evaluate follow pedv serological_assay indirect_fluorescent antibody IFA assay prototype S_INDEL variant strain indicator virus virus neutralization_VN test prototype S_INDEL variant virus PEDV prototype strain virus base ELISA PEDV prototype strain base ELISA PEDV S_INDEL variant strain base ELISA positive antisera prototype strain react neutralize prototype S_INDEL variant virus positive antisera S indel_variant strain react neutralize prototype S_INDEL variant virus examine IFA antibody assay VN test antibody PEDV_strain detect elisa detection rate vary_degree conclusion datum indicate antibody PEDV prototype S_INDEL variant strain cros_react cross neutralize strain current serological_assay base PEDV prototype strain detect antibody PEDV_strain\n",
      "\n",
      " sensitive specific method diagnosis infectious_bronchitis virus IBV great importance study development real_time TaqMan RT_PCR target conserve nucleocapsid_N gene IBV include internal PCR control describe assay specific IBV detect avian pathogen include turkey coronaviruse comparative limit detection determine embryo adapt strain embryo adapt variant real_time RT_PCR virus isolation time sensitive RT_PCR target N spike_glycoprotein gene real_time RT_PCR sensitive virus isolation fold n gene gene RT_PCR RT_PCR virus isolation sensitive RT_PCR target gene test tracheal swab infect chick tracheal_cloacal swab clinical specimen test sample positive real_time RT_PCR gene RT_PCR RT_PCR target n gene sensitive common diagnostic assay allow rapid accurate IBV detection clinical specimen facilitate differential_diagnosis\n",
      "\n",
      " study evaluate analytical performance clinical potential step multiplex_real time PCR assay simultaneous_detection type respiratory virus AdvanSure_RV real_time PCR Kit LG Life_Sciences Korea method clinical specimen test AdvanSure_RV real_time PCR kit conventional multiplex_reverse transcription assay assay result analyze step AdvanSure_RV real_time PCR Kit compare conventional multiplex_RT PCR assay respect sensitivity_specificity detection respiratory virus result limit detection_LOD plaque_form unit human rhinovirus hRVs pfu_ml human coronavirus PFU_ml human coronavirus HCoV pfu_ml parainfluenza_virus pfu_mL PFU_mL PFU_mL influenza virus group Flu pfu_mL FluB pfu_ml human respiratory_syncytial virus pfu_ml hRSV b PFU_ml human adenovirus_ADVs cross_reactivity test assay type non respiratory virus show negative result virus test agreement step AdvanSure multiplex_real time PCR assay conventional multiplex_RT PCR assay conclusion step AdvanSure_RV multiplex_real time PCR assay simple assay high potential specific rapid sensitive laboratory diagnosis respiratory virus compare conventional multiplex_RT PCR\n",
      "==================================================================\n",
      "Topic 4\n",
      "\n",
      "Computing most relevant documents for Topic 4\n",
      "Topic composition is:\n",
      "[('vaccine', 0.03499637), ('drug', 0.02577539), ('treatment', 0.022634098), ('clinical', 0.014028334), ('trial', 0.012832963), ('development', 0.011307613), ('potential', 0.010800031), ('vaccination', 0.010388758), ('study', 0.01023478), ('therapeutic', 0.009732338)]\n",
      "\n",
      " background Schmallenberg_virus SBV emerge virus ruminant Europe immunosorbent_assay ELISA detect SBV specific antibody bulk_tank milk sample monitor herd exposure infection show bulk_tank milk sample test positive majority cow_herd seronegative SBV antibody development pen test detect antibody individual milk sample provide cheap test sample obtain non test individual serum sample ELISA aim study investigate agreement antibody level measure milk serum result correspond milk serum sample cow_dairy herd UK test presence immunoglobulin_g antibody SBV available indirect_ELISA serum_neutralisation test NT perform gold_standard assay_ELISA value obtain bulk_tank milk sample correspond mean value individual milk sample herd bulk_tank milk value mean individual milk value herd b serum sample test NT positive high antibody level ELISA value tend high individual milk sample corresponding serum sample positive predictive_value milk sample serum sample serum ELISA likely false_positive result cut_value assay conclusion result indicate testing individual milk sample antibody SBV ELISA inform decision management dairy_herd animal vaccinate\n",
      "\n",
      " porcine_circovirus type emerge circovirus specie associate disease study aim investigate frequency porcine_circovirus coinfection canine_parvovirus type dog Guangxi_province China examine genome diversity polymerase_chain reaction PCR amplification sequencing positive sample coinfecte CPV positive rate high positive sample non sample difference significant p complete genome capsid gene sequence multiple sequence_alignment result show sequence share nucleotide similarity reference genome_sequence nucleotide similarity reference capsid gene sequence classify different genotype accord phylogenetic_analysis base genome strain cluster show close relationship analyze strain Guangxi_province find dog pig different branch summary seroprevalence genetic investigation dog Guangxi_province China complete genome dog obtain world result provide insight epidemiology pathogenesis important virus\n",
      "\n",
      " Faecal_sample diarrheic_dairy calf_dairy herd select convenience screen presence rotavirus coronavirus Cryptosporidium_spp coli_Salmonella spp animal survey day old cryptosporidium rotavirus detect agent sample positive coli detect faece_calf bovine coronavirus detect faece_calf find faece_calf mixed infection agent occur calf concurrent infection rotavirus_Cryptosporidium find calf test detection rotavirus commercial_ELISA PAGE coli ELISA bacterial culture Cryptosporidium ELISA microscopy validity commercial_ELISA detection rotavirus coli_Cryptosporidium faece_diarrheic calf evaluate page bacterial culture microscopy gold_standard ELISA show low sensitivity detection coli compare bacterial culture\n",
      "==================================================================\n",
      "Topic 5\n",
      "\n",
      "Computing most relevant documents for Topic 5\n",
      "Topic composition is:\n",
      "[('level', 0.027717719), ('increase', 0.02191335), ('disease', 0.017500278), ('effect', 0.014545144), ('group', 0.012691264), ('control', 0.011226605), ('high', 0.011221072), ('inflammatory', 0.010769505), ('inflammation', 0.010705913), ('associate', 0.010493395)]\n",
      "\n",
      " laboratory diagnosis viral respiratory infection perform virus isolation cell culture immunofluorescent_assay reverse PCR recognize sensitive specific alternative detection respiratory RNA virus rapid real_time multiplex_PCR assay develop detection influenza influenza b virus human respiratory_syncytial virus RSV_parainfluenza virus tube multiplex reaction molecular_beacon discriminate pathogen total respiratory sample take year period analyze multiplex_assay incidence respiratory virus detect sample culture real_time PCR culture detect influenza virus influenza b virus RSV infection culture positive sample additional influenza virus RSV infection detect multiplex_real time PCR application real_time PCR clinical sample increase sensitivity respiratory viral diagnosis addition result obtain h increase clinical relevance use real_time PCR assay improve patient management infection control\n",
      "\n",
      " aim study aim detect characterize current genotype canine_parvovirus CPV_Egypt total fecal swab collect infect domestic_dog month age suspect suffer CPV infection Cairo Giza Governorates sample subject qualitative antigen detection rapid test follow isolation Madin_Darby Canine_Kidney MDCK_cell molecular characterization partial amplification gene polymerase_chain reaction PCR follow sequence phylogenetic_analysis result fecal_sample sample positive Rapid CPV_canine coronavirus Ag_Test Kit positive sample culture MDCK_cell choose sample negative sample amplify PCR primer Hfor Hrev yield typical bp_fragment choose sample amplify PCR primer Pbs Pbas yield typical bp_fragment sequence blast analysis assembly fragment_bp bp produce bp_fragment sample reveal serotype obtain strain submit_GenBank give accession_number phylogenetic_analysis egyptian strain serotype illustrate relate Thailand strain accession_number egyptian strain serotype relate Thailand strain accession_number Taiwanese strain chinese strain vietnamese strain accession_number conclusion current research recommend epidemiological study assess extent occurrence different serotype CPV_Egypt efficiency import produce vaccine protection CPV infection\n",
      "\n",
      " rapid semiautomated automate multiplex_real time RT_PCR assay develop validate detection influenza Flu_Flu B respiratory_syncytial virus RSV nasopharyngeal specimen assay detect human swine_origin S_OIV Flu virus distinguish Flu infection subtype Flu_B rsv infection current S_OIV outbreak Milwaukee_WI analytical limit detection depend platform analyte show minor cross reaction common respiratory pathogen intermittent cross reaction adenovirus total clinical sample test tissue culture automate assay Food_Drug Administration_approve assay semiautomated automate assay exhibit great overall Flu_Flu B RSV combine clinical sensitivity individual Flu sensitivity Food_Drug Administration_approve test overall sensitivity flu sensitivity assay specific S_OIV outbreak Milwaukee_WI automate assay test sample week Flu detect clinical sample S_OIV human untyped positive agreement compare house validate molecular assay false_positive result accurate testing automate high_throughput molecule system allow clinician public_health official react viral outbreak\n",
      "==================================================================\n",
      "Topic 6\n",
      "\n",
      "Computing most relevant documents for Topic 6\n",
      "Topic composition is:\n",
      "[('cell', 0.05072972), ('virus', 0.027969642), ('infection', 0.017579706), ('protein', 0.017224371), ('expression', 0.01372808), ('viral', 0.011508865), ('gene', 0.0104231), ('RNA', 0.009956336), ('replication', 0.009346554), ('mouse', 0.008914349)]\n",
      "\n",
      " trifluoromethylthiobenzimidazole obtain condensation trimethylsilyl derivative substitute benzimidazole alkylate_agent presence direct alkylation sodium_salt heterocycle\n",
      "\n",
      " development rhinovirus specific reverse_transcription assay complicate close homology RV enterovirus_EV genome conserve region choose primer design RT_PCR assay develop sensitive rapid RV specific nest_RT PCR assay test nasopharyngeal_aspirate patient present acute_respiratory tract infection RV RNA detect nest_RT PCR sample RV positive virus isolation method sample negative virus isolation method enzyme_link immunosorbent_assay ELISA addition sample positive different respiratory virus virus isolation ELISA RV RNA detect RT_PCR ev adenovirus respiratory_syncytial virus coronaviruse influenza parainfluenza_virus include clinical isolate stock virus amplify RV specific RT_PCR assay indicate assay specific processing time day RT_PCR oppose week virus isolation result indicate nest_RT PCR sensitive conventional method detection RV patient experience acute_respiratory tract infection represent reliable tool early laboratory diagnosis RV infection important light new opportunity therapy develop\n",
      "\n",
      " tumor cell outcompete t_cell methionine cause epigenetic_aberration t_cell\n",
      "==================================================================\n",
      "Topic 7\n",
      "\n",
      "Computing most relevant documents for Topic 7\n",
      "Topic composition is:\n",
      "[('model', 0.03497823), ('base', 0.018120393), ('method', 0.015505919), ('datum', 0.0154436845), ('result', 0.010795348), ('analysis', 0.010723024), ('study', 0.009284025), ('system', 0.008753611), ('approach', 0.008433224), ('propose', 0.008389795)]\n",
      "\n",
      " RAPID process Operation_Warp Speed achieve amazing result time great need\n",
      "\n",
      " skilled negotiator study process negotiation rely process successful process negotiation\n",
      "\n",
      " enantiomer halitunal novel diterpene aldehyde have iridoid carbon framework heteroaromatic system synthesize\n",
      "==================================================================\n",
      "Topic 8\n",
      "\n",
      "Computing most relevant documents for Topic 8\n",
      "Topic composition is:\n",
      "[('risk', 0.014587783), ('use', 0.012483054), ('transmission', 0.011198958), ('contact', 0.010749727), ('hospital', 0.01037435), ('procedure', 0.00985234), ('reduce', 0.009716013), ('staff', 0.009704526), ('measure', 0.009341315), ('testing', 0.009177969)]\n",
      "\n",
      " ventilator mask test short supply\n",
      "\n",
      " ventilator mask test short supply\n",
      "\n",
      " ventilator mask test short supply\n",
      "==================================================================\n",
      "Topic 9\n",
      "\n",
      "Computing most relevant documents for Topic 9\n",
      "Topic composition is:\n",
      "[('lockdown', 0.016962815), ('increase', 0.016938347), ('rate', 0.014848804), ('number', 0.013730816), ('time', 0.012831552), ('period', 0.012524479), ('study', 0.012141641), ('effect', 0.01202508), ('change', 0.0117844), ('population', 0.011621313)]\n",
      "\n",
      " recent study arrive different conclusion\n",
      "\n",
      " background_Little know performance Roche novel severe_acute respiratory_syndrome coronavirus antibody anti SARS assay provide extensive evaluation automate assay Cobas_immunoassay analyzer assess linearity_precision throughput Roche anti SARS assay sensitivity calculate SARS polymerase_chain reaction PCR positive sample specificity determine coronavirus disease sample examine cross_reactivity antibody positive sample syphili rheumatoid factor rf antinuclear_antibody ANA double_strand dna ds_DNA influenza dengue hepatitis_B HBV_hepatitis C HCV anti SARS kinetic result assay cut index COI linear interassay precision negative control coi positive control coi assay time min result available min throughput sample min case positive HBsAg test positive specificity assay sensitivity day PCR positivity POS day POS case anti SARS day POS patient serum available positive antibody signal COI interval negative positive coi time seroconversion average day range day day range anti SARS plateau conclusion Roche anti SARS assay show excellent performance minimal cross_reactivity viral confounding antibody antibody development seroconversion appear\n",
      "\n",
      " Csaba Forro Istituto Italiano Tecnologia Italy Stanford_University USA Alberto Salleo Bianxiao Cui Stanford_University USA\n",
      "==================================================================\n",
      "Topic 10\n",
      "\n",
      "Computing most relevant documents for Topic 10\n",
      "Topic composition is:\n",
      "[('patient', 0.045809384), ('disease', 0.033168647), ('infection', 0.031425085), ('severe', 0.023886167), ('clinical', 0.022719724), ('case', 0.022038918), ('symptom', 0.021296274), ('respiratory', 0.018120427), ('pneumonia', 0.014429046), ('child', 0.01403492)]\n",
      "\n",
      " diagnose cause man bilateral pulmonary_nodule acute_respiratory failure\n",
      "\n",
      " editorial_comment discuss follow AJR article Imaging finding Multisystem_Inflammatory Syndrome_Children MIS_C associate\n",
      "\n",
      " editorial_comment discuss follow AJR article Imaging finding Multisystem_Inflammatory Syndrome_Children MIS_C associate\n",
      "==================================================================\n",
      "Topic 11\n",
      "\n",
      "Computing most relevant documents for Topic 11\n",
      "Topic composition is:\n",
      "[('SARS', 0.04293405), ('disease', 0.03587887), ('coronavirus', 0.030610401), ('case', 0.029604932), ('infection', 0.027630372), ('pandemic', 0.021710543), ('outbreak', 0.019508822), ('spread', 0.016549084), ('epidemic', 0.015295946), ('transmission', 0.013439473)]\n",
      "\n",
      " Coronavirus disease cause SARS major pandemic\n",
      "\n",
      " Coronavirus disease cause SARS major pandemic\n",
      "\n",
      " coronavirus disease Bangldesh March confirm case include pa\n",
      "==================================================================\n",
      "Topic 12\n",
      "\n",
      "Computing most relevant documents for Topic 12\n",
      "Topic composition is:\n",
      "[('SARS', 0.0352476), ('virus', 0.030604059), ('test', 0.021863224), ('sample', 0.019765085), ('positive', 0.01599159), ('infection', 0.0133894235), ('antibody', 0.01281409), ('detect', 0.012569936), ('assay', 0.012508076), ('result', 0.012070703)]\n",
      "\n",
      " antibody SARS like virus hint repeat infection\n",
      "\n",
      " James Cochran importance test random sample\n",
      "\n",
      " James Cochran importance test random sample\n",
      "==================================================================\n"
     ]
    }
   ],
   "source": [
    "def most_relevant_documents(ldag, topicid, corpus_bow, ndocs=10):\n",
    "    '''\n",
    "    This function returns the most relevant documents in corpus_bow\n",
    "    \n",
    "    Args:\n",
    "    - ldag: The trained topic model object provided by gensim\n",
    "    - topicid: The topic for which we want to find the most relevant documents\n",
    "    - corpus_bow: The BoW representation of documents in Gensim format\n",
    "    - ndocs: Number of most relevant documents to return\n",
    "    \n",
    "    Returns: \n",
    "    - A list with the identifiers of the most relevant documents\n",
    "    '''\n",
    "\n",
    "    print('Computing most relevant documents for Topic', topicid)\n",
    "    print('Topic composition is:')\n",
    "    print(ldag.show_topic(topicid))\n",
    "    \n",
    "    corpus_ldag = ldag[corpus_bow]\n",
    "\n",
    "    scores = []\n",
    "    for c in corpus_ldag:\n",
    "        try:\n",
    "            scores.append(c[topicid][1])\n",
    "        except:\n",
    "            scores.append(0)\n",
    "\n",
    "    return np.array(scores).argsort()[-ndocs:][::-1]    \n",
    "    \n",
    "for t in range(best_n_topics):\n",
    "    print('Topic', t)\n",
    "    print('')\n",
    "    project_id = most_relevant_documents(ldag, t, corpus_bow, ndocs=3)\n",
    "\n",
    "    # Print abstracts of selected projects\n",
    "    for idproject in project_id:\n",
    "        print('\\n', ' '.join(corpus[idproject]))\n",
    "        \n",
    "    print('==================================================================')"
   ]
  },
  {
   "cell_type": "code",
   "execution_count": null,
   "metadata": {
    "id": "Xgvauo0istF7"
   },
   "outputs": [],
   "source": []
  },
  {
   "cell_type": "code",
   "execution_count": null,
   "metadata": {
    "id": "tBBTsBvJstEF"
   },
   "outputs": [],
   "source": []
  },
  {
   "cell_type": "code",
   "execution_count": null,
   "metadata": {
    "id": "nKRwYCNpstBz"
   },
   "outputs": [],
   "source": []
  },
  {
   "cell_type": "code",
   "execution_count": null,
   "metadata": {
    "id": "hLMm0nQHss-9"
   },
   "outputs": [],
   "source": []
  },
  {
   "cell_type": "code",
   "execution_count": null,
   "metadata": {
    "id": "CECgoe4Xss9s"
   },
   "outputs": [],
   "source": []
  },
  {
   "cell_type": "code",
   "execution_count": null,
   "metadata": {
    "colab": {
     "base_uri": "https://localhost:8080/"
    },
    "executionInfo": {
     "elapsed": 6562,
     "status": "ok",
     "timestamp": 1619620641624,
     "user": {
      "displayName": "LUIS CAMBERO PIQUERAS",
      "photoUrl": "",
      "userId": "06844157874572054860"
     },
     "user_tz": -120
    },
    "id": "C_9ZnvQ66XT3",
    "outputId": "a54deeaf-24f7-41bd-a015-9ea8d73e651b"
   },
   "outputs": [],
   "source": [
    "!pip install crossrefapi==1.0.3"
   ]
  },
  {
   "cell_type": "code",
   "execution_count": null,
   "metadata": {
    "colab": {
     "base_uri": "https://localhost:8080/"
    },
    "executionInfo": {
     "elapsed": 828,
     "status": "ok",
     "timestamp": 1619620779755,
     "user": {
      "displayName": "LUIS CAMBERO PIQUERAS",
      "photoUrl": "",
      "userId": "06844157874572054860"
     },
     "user_tz": -120
    },
    "id": "VuEAOLQQ6ZGt",
    "outputId": "8c47744b-cb00-433c-ab48-d8e92d3513ae"
   },
   "outputs": [],
   "source": [
    "from crossref.restful import Works\n",
    "\n",
    "works = Works()\n",
    "info = works.doi('10.1038/s41591-020-1132-9')\n",
    "\n",
    "info"
   ]
  },
  {
   "cell_type": "code",
   "execution_count": null,
   "metadata": {
    "colab": {
     "base_uri": "https://localhost:8080/",
     "height": 1000
    },
    "executionInfo": {
     "elapsed": 10276,
     "status": "error",
     "timestamp": 1619623167484,
     "user": {
      "displayName": "LUIS CAMBERO PIQUERAS",
      "photoUrl": "",
      "userId": "06844157874572054860"
     },
     "user_tz": -120
    },
    "id": "ppzJFAMD6tvA",
    "outputId": "a2ed2949-8167-4096-c82f-a96517d419cd"
   },
   "outputs": [],
   "source": [
    "for idx, row in data.iterrows():\n",
    "    info = works.doi(row['doi'])\n",
    "    print([a['affiliation'] for a in info['author']])"
   ]
  },
  {
   "cell_type": "code",
   "execution_count": null,
   "metadata": {
    "id": "EqxuOszu74_e"
   },
   "outputs": [],
   "source": []
  }
 ],
 "metadata": {
  "colab": {
   "authorship_tag": "ABX9TyNY6+KVnCQkPPYjTbKcXXPF",
   "collapsed_sections": [],
   "name": "Untitled0.ipynb",
   "provenance": []
  },
  "kernelspec": {
   "display_name": "Python 3",
   "language": "python",
   "name": "python3"
  },
  "language_info": {
   "codemirror_mode": {
    "name": "ipython",
    "version": 3
   },
   "file_extension": ".py",
   "mimetype": "text/x-python",
   "name": "python",
   "nbconvert_exporter": "python",
   "pygments_lexer": "ipython3",
   "version": "3.8.5"
  }
 },
 "nbformat": 4,
 "nbformat_minor": 4
}
